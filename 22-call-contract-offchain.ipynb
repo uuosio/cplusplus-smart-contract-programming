{
 "cells": [
  {
   "cell_type": "markdown",
   "metadata": {},
   "source": [
    "[bilibili视频](https://www.bilibili.com/video/av62325981)\n",
    "\n",
    "[video on youtube](https://www.youtube.com/watch?v=nAl9I88l6so)\n"
   ]
  },
  {
   "cell_type": "code",
   "execution_count": 62,
   "metadata": {},
   "outputs": [
    {
     "name": "stdout",
     "output_type": "stream",
     "text": [
      "\n",
      "\n",
      "done!\n"
     ]
    }
   ],
   "source": [
    "from init import *\n",
    "#eosapi.set_nodes(['https://nodes.uuos.network:8443'])\n",
    "eosapi.set_nodes(['http://127.0.0.1:8888'])\n",
    "config.main_token='UUOS'\n",
    "wallet.import_key('test', '5KH8vwQkP4QoTwgBtCV5ZYhKmv8mx56WeNrw9AZuhNRXTrPzgYc')\n",
    "db.reset()\n",
    "code = r'''\n",
    "#include <eosio/print.hpp>\n",
    "#include <eosio/name.hpp>\n",
    "#include <eosio/action.hpp>\n",
    "#include <eosio/multi_index.hpp>\n",
    "\n",
    "#include <string>\n",
    "\n",
    "using namespace std;\n",
    "using namespace eosio;\n",
    "\n",
    "struct record {\n",
    "   uint64_t  primary;\n",
    "   string    data;\n",
    "   uint64_t primary_key() const { return primary; }\n",
    "   EOSLIB_SERIALIZE( record, (primary)(data))\n",
    "};\n",
    "\n",
    "struct getvalue {\n",
    "   uint64_t  primary;\n",
    "   uint64_t primary_key() const { return primary; }\n",
    "   EOSLIB_SERIALIZE( getvalue, (primary))\n",
    "};\n",
    "\n",
    "\n",
    "template<typename T>\n",
    "T unpack_args() {\n",
    "    size_t raw_args_size = action_data_size();\n",
    "    check(raw_args_size > 0, \"bad args\");\n",
    "    vector<char> raw_args(raw_args_size);\n",
    "    read_action_data(raw_args.data(), raw_args_size);\n",
    "    T rec = eosio::unpack<T>(raw_args);\n",
    "    return rec;\n",
    "}\n",
    "\n",
    "extern \"C\" {\n",
    "    void apply( uint64_t receiver, uint64_t code, uint64_t action ) {\n",
    "        if (\"setvalue\"_n.value == action) {\n",
    "            uint64_t scope = code;\n",
    "            uint64_t payer = receiver;\n",
    "            multi_index<\"record\"_n, record> mytable(name(code), scope);\n",
    "            \n",
    "            record rec = unpack_args<record>();\n",
    "            auto itr = mytable.find(rec.primary);\n",
    "            \n",
    "            if (mytable.end() == itr) {\n",
    "                mytable.emplace( name(payer), [&]( auto& row ) {\n",
    "                    row = rec;\n",
    "                });\n",
    "            } else {\n",
    "                mytable.modify( itr, name(payer), [&]( auto& row ) {\n",
    "                    row.data = rec.data;\n",
    "                });\n",
    "            }\n",
    "        } else if (\"getvalue\"_n.value == action) {\n",
    "            uint64_t scope = code;\n",
    "            uint64_t payer = receiver;\n",
    "            multi_index<\"record\"_n, record> mytable(name(code), scope);\n",
    "            getvalue rec = unpack_args<getvalue>();\n",
    "            auto itr = mytable.find(rec.primary);\n",
    "            auto packed_rec = eosio::pack<record>(*itr);\n",
    "            eosio::printhex(packed_rec.data(), packed_rec.size());\n",
    "        }\n",
    "    }\n",
    "}\n",
    "'''\n",
    "\n",
    "abi = '''\n",
    "{\n",
    "   \"version\": \"eosio::abi/1.0\",\n",
    "   \"types\": [],\n",
    "  \"structs\": [{\n",
    "      \"name\": \"record\",\n",
    "      \"base\": \"\",\n",
    "      \"fields\": [\n",
    "        {\"name\":\"primary\", \"type\":\"uint64\"},\n",
    "        {\"name\":\"data\", \"type\":\"string\"},\n",
    "       ]\n",
    "    },{\n",
    "      \"name\": \"getvalue\",\n",
    "      \"base\": \"\",\n",
    "      \"fields\": [\n",
    "        {\"name\":\"primary\", \"type\":\"uint64\"},\n",
    "       ]\n",
    "    }\n",
    "  ],\n",
    "  \"actions\": [{\n",
    "      \"name\": \"getvalue\",\n",
    "      \"type\": \"getvalue\",\n",
    "      \"ricardian_contract\": \"\"\n",
    "    },{\n",
    "      \"name\": \"setvalue\",\n",
    "      \"type\": \"record\",\n",
    "      \"ricardian_contract\": \"\"\n",
    "    }\n",
    "  ],\n",
    "  \"tables\": [\n",
    "  ]\n",
    "}\n",
    "'''\n",
    "\n",
    "publish_cpp_contract('helloworld11', code, abi)\n",
    "print('done!')\n"
   ]
  },
  {
   "cell_type": "code",
   "execution_count": 63,
   "metadata": {},
   "outputs": [
    {
     "name": "stdout",
     "output_type": "stream",
     "text": [
      "\n",
      "1358\n"
     ]
    }
   ],
   "source": [
    "name = 'helloworld11'\n",
    "try:\n",
    "    args = {'primary':11, 'data':'hello,worldddd'}\n",
    "    r = eosapi.push_action(name, 'setvalue', args, {name:'active'})\n",
    "    print(r['processed']['action_traces'][0]['console'])\n",
    "    print(r['processed']['elapsed'])\n",
    "except Exception as e:\n",
    "    print(e)"
   ]
  },
  {
   "cell_type": "code",
   "execution_count": 64,
   "metadata": {},
   "outputs": [
    {
     "data": {
      "text/plain": [
       "{\n",
       "    \"results\": {\n",
       "        \"output\": \"0b000000000000000e68656c6c6f2c776f726c64646464\"\n",
       "    }\n",
       "}"
      ]
     },
     "execution_count": 64,
     "metadata": {},
     "output_type": "execute_result"
    }
   ],
   "source": [
    "name = 'helloworld11'\n",
    "args = eosapi.pack_args(name, 'getvalue', {'primary':11})\n",
    "eosapi.call_contract(name, 'getvalue', args.hex())"
   ]
  },
  {
   "cell_type": "code",
   "execution_count": 65,
   "metadata": {},
   "outputs": [
    {
     "data": {
      "text/plain": [
       "{'primary': 11, 'data': 'hello,worldddd'}"
      ]
     },
     "execution_count": 65,
     "metadata": {},
     "output_type": "execute_result"
    }
   ],
   "source": [
    "name = 'helloworld11'\n",
    "args = eosapi.pack_args(name, 'getvalue', {'primary':11})\n",
    "ret = eosapi.call_contract(name, 'getvalue', args.hex())\n",
    "args = ret['results']['output']\n",
    "eosapi.unpack_args(name, 'setvalue', bytes.fromhex(args))"
   ]
  },
  {
   "cell_type": "code",
   "execution_count": 69,
   "metadata": {},
   "outputs": [
    {
     "name": "stdout",
     "output_type": "stream",
     "text": [
      "\n",
      "\n",
      "done!\n"
     ]
    }
   ],
   "source": [
    "from init import *\n",
    "#eosapi.set_nodes(['https://nodes.uuos.network:8443'])\n",
    "eosapi.set_nodes(['http://127.0.0.1:8888'])\n",
    "config.main_token='UUOS'\n",
    "wallet.import_key('test', '5KH8vwQkP4QoTwgBtCV5ZYhKmv8mx56WeNrw9AZuhNRXTrPzgYc')\n",
    "db.reset()\n",
    "code = r'''\n",
    "#include <eosio/print.hpp>\n",
    "#include <eosio/name.hpp>\n",
    "#include <eosio/action.hpp>\n",
    "#include <eosio/multi_index.hpp>\n",
    "\n",
    "#include <string>\n",
    "\n",
    "using namespace std;\n",
    "using namespace eosio;\n",
    "\n",
    "struct record {\n",
    "   uint64_t  primary;\n",
    "   string    data;\n",
    "   uint64_t primary_key() const { return primary; }\n",
    "   EOSLIB_SERIALIZE( record, (primary)(data))\n",
    "};\n",
    "\n",
    "extern \"C\" {\n",
    "    void apply( uint64_t receiver, uint64_t code, uint64_t action ) {\n",
    "        if (\"getvalue\"_n.value == action) {\n",
    "            uint64_t scope = code;\n",
    "            uint64_t payer = receiver;\n",
    "            multi_index<\"record\"_n, record> mytable(name(code), scope);\n",
    "            mytable.emplace( name(payer), [&]( auto& row ) {\n",
    "\n",
    "            });\n",
    "\n",
    "        }\n",
    "    }\n",
    "}\n",
    "'''\n",
    "\n",
    "publish_cpp_contract('helloworld11', code)\n",
    "print('done!')\n"
   ]
  },
  {
   "cell_type": "code",
   "execution_count": 70,
   "metadata": {},
   "outputs": [
    {
     "data": {
      "text/plain": [
       "{\n",
       "    \"results\": {\n",
       "        \"error\": {\n",
       "            \"name\": \"eosio_assert_message_exception\",\n",
       "            \"code\": 3050003,\n",
       "            \"what\": \"eosio_assert_message assertion failure (3050003)\\nassertion failure with message: db_store_i64\\n\"\n",
       "        }\n",
       "    }\n",
       "}"
      ]
     },
     "execution_count": 70,
     "metadata": {},
     "output_type": "execute_result"
    }
   ],
   "source": [
    "eosapi.call_contract(name, 'getvalue', '')"
   ]
  },
  {
   "cell_type": "code",
   "execution_count": 78,
   "metadata": {},
   "outputs": [
    {
     "name": "stdout",
     "output_type": "stream",
     "text": [
      "\n",
      "\n",
      "done!\n"
     ]
    }
   ],
   "source": [
    "from init import *\n",
    "#eosapi.set_nodes(['https://nodes.uuos.network:8443'])\n",
    "eosapi.set_nodes(['http://127.0.0.1:8888'])\n",
    "config.main_token='UUOS'\n",
    "wallet.import_key('test', '5KH8vwQkP4QoTwgBtCV5ZYhKmv8mx56WeNrw9AZuhNRXTrPzgYc')\n",
    "db.reset()\n",
    "code = r'''\n",
    "#include <eosio/print.hpp>\n",
    "#include <eosio/name.hpp>\n",
    "#include <eosio/action.hpp>\n",
    "#include <eosio/system.hpp>\n",
    "#include <eosio/multi_index.hpp>\n",
    "\n",
    "#include <string>\n",
    "\n",
    "using namespace std;\n",
    "using namespace eosio;\n",
    "\n",
    "struct record {\n",
    "   uint64_t  primary;\n",
    "   string    data;\n",
    "   uint64_t primary_key() const { return primary; }\n",
    "   EOSLIB_SERIALIZE( record, (primary)(data))\n",
    "};\n",
    "\n",
    "extern \"C\" {\n",
    "    void apply( uint64_t receiver, uint64_t code, uint64_t action ) {\n",
    "        if (\"getvalue\"_n.value == action) {\n",
    "            eosio::print(current_time_point().sec_since_epoch());\n",
    "        }\n",
    "    }\n",
    "}\n",
    "'''\n",
    "\n",
    "publish_cpp_contract('helloworld11', code)\n",
    "print('done!')"
   ]
  },
  {
   "cell_type": "code",
   "execution_count": 79,
   "metadata": {},
   "outputs": [
    {
     "data": {
      "text/plain": [
       "{\n",
       "    \"results\": {\n",
       "        \"error\": {\n",
       "            \"name\": \"eosio_assert_message_exception\",\n",
       "            \"code\": 3050003,\n",
       "            \"what\": \"eosio_assert_message assertion failure (3050003)\\nassertion failure with message: current_time\\n\"\n",
       "        }\n",
       "    }\n",
       "}"
      ]
     },
     "execution_count": 79,
     "metadata": {},
     "output_type": "execute_result"
    }
   ],
   "source": [
    "name = 'helloworld11'\n",
    "eosapi.call_contract(name, 'getvalue', '')"
   ]
  },
  {
   "cell_type": "code",
   "execution_count": 1,
   "metadata": {},
   "outputs": [
    {
     "name": "stdout",
     "output_type": "stream",
     "text": [
      "\n",
      "\n",
      "done!\n"
     ]
    }
   ],
   "source": [
    "from init import *\n",
    "#eosapi.set_nodes(['https://nodes.uuos.network:8443'])\n",
    "eosapi.set_nodes(['http://127.0.0.1:8888'])\n",
    "config.main_token='UUOS'\n",
    "wallet.import_key('test', '5KH8vwQkP4QoTwgBtCV5ZYhKmv8mx56WeNrw9AZuhNRXTrPzgYc')\n",
    "db.reset()\n",
    "code = r'''\n",
    "#include <eosio/print.hpp>\n",
    "#include <eosio/name.hpp>\n",
    "#include <eosio/action.hpp>\n",
    "#include <eosio/system.hpp>\n",
    "#include <eosio/multi_index.hpp>\n",
    "\n",
    "#include <string>\n",
    "\n",
    "using namespace std;\n",
    "using namespace eosio;\n",
    "\n",
    "struct record {\n",
    "   uint64_t  primary;\n",
    "   string    data;\n",
    "   uint64_t primary_key() const { return primary; }\n",
    "   EOSLIB_SERIALIZE( record, (primary)(data))\n",
    "};\n",
    "\n",
    "extern \"C\" {\n",
    "    void apply( uint64_t receiver, uint64_t code, uint64_t action ) {\n",
    "        if (\"getvalue\"_n.value == action) {\n",
    "            while(true){};\n",
    "        }\n",
    "    }\n",
    "}\n",
    "'''\n",
    "\n",
    "publish_cpp_contract('helloworld11', code)\n",
    "print('done!')"
   ]
  },
  {
   "cell_type": "code",
   "execution_count": 3,
   "metadata": {},
   "outputs": [
    {
     "data": {
      "text/plain": [
       "{\n",
       "    \"results\": {\n",
       "        \"error\": {\n",
       "            \"name\": \"deadline_exception\",\n",
       "            \"code\": 3080006,\n",
       "            \"what\": \"Transaction took too long (3080006)\\ndeadline exceeded!\\nrethrow\\n\"\n",
       "        }\n",
       "    }\n",
       "}"
      ]
     },
     "execution_count": 3,
     "metadata": {},
     "output_type": "execute_result"
    }
   ],
   "source": [
    "name = 'helloworld11'\n",
    "eosapi.call_contract(name, 'getvalue', '')"
   ]
  }
 ],
 "metadata": {
  "kernelspec": {
   "display_name": "Python 3",
   "language": "python",
   "name": "python3"
  },
  "language_info": {
   "codemirror_mode": {
    "name": "ipython",
    "version": 3
   },
   "file_extension": ".py",
   "mimetype": "text/x-python",
   "name": "python",
   "nbconvert_exporter": "python",
   "pygments_lexer": "ipython3",
   "version": "3.7.3"
  }
 },
 "nbformat": 4,
 "nbformat_minor": 2
}
