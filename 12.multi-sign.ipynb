{
 "cells": [
  {
   "cell_type": "markdown",
   "metadata": {},
   "source": [
    "```python\n",
    "eosapi.gen_transaction(actions, expiration, reference_block_id)\n",
    "```"
   ]
  },
  {
   "cell_type": "markdown",
   "metadata": {},
   "source": [
    "```python\n",
    "wallet.sign_transaction(trx, public_keys, chain_id)\n",
    "```"
   ]
  },
  {
   "cell_type": "markdown",
   "metadata": {},
   "source": [
    "```python\n",
    "eosapi.push_transaction(trx, compress=0)\n",
    "```"
   ]
  },
  {
   "cell_type": "code",
   "execution_count": 2,
   "metadata": {
    "scrolled": true
   },
   "outputs": [],
   "source": [
    "from init import *\n",
    "import json"
   ]
  },
  {
   "cell_type": "code",
   "execution_count": 3,
   "metadata": {},
   "outputs": [
    {
     "data": {
      "text/plain": [
       "['EOS4yV91cqR6db8ntKtCLFVwWfvvvDMZctpd85GsaX5GUMaiqUWYL',\n",
       " 'EOS5gNqDpWm72KzNWFVgBDmybrEtk9qx2ZuAeRbK9iSJMVJ2B8y73']"
      ]
     },
     "execution_count": 3,
     "metadata": {},
     "output_type": "execute_result"
    }
   ],
   "source": [
    "a = ['EOS4yV91cqR6db8ntKtCLFVwWfvvvDMZctpd85GsaX5GUMaiqUWYL',\n",
    "    'EOS5gNqDpWm72KzNWFVgBDmybrEtk9qx2ZuAeRbK9iSJMVJ2B8y73']\n",
    "a.sort()\n",
    "a"
   ]
  },
  {
   "cell_type": "code",
   "execution_count": 4,
   "metadata": {},
   "outputs": [
    {
     "name": "stdout",
     "output_type": "stream",
     "text": [
      "done!\n"
     ]
    }
   ],
   "source": [
    "a = {\n",
    "    \"account\": test_account1,\n",
    "    \"permission\": \"sayhello\",\n",
    "    \"parent\": \"active\",\n",
    "    \"auth\": {\n",
    "        \"threshold\": 2,\n",
    "        \"keys\": [\n",
    "            {\n",
    "                \"key\": \"EOS4yV91cqR6db8ntKtCLFVwWfvvvDMZctpd85GsaX5GUMaiqUWYL\",\n",
    "                \"weight\": 1\n",
    "            },\n",
    "            {\n",
    "                \"key\": \"EOS5gNqDpWm72KzNWFVgBDmybrEtk9qx2ZuAeRbK9iSJMVJ2B8y73\",\n",
    "                \"weight\": 1\n",
    "            }\n",
    "        ],\n",
    "        \"accounts\": [],\n",
    "        \"waits\": []\n",
    "    }\n",
    "}\n",
    "r = uuosapi.push_action('eosio', 'updateauth', a, {test_account1:'active'})\n",
    "print('done!')"
   ]
  },
  {
   "cell_type": "code",
   "execution_count": null,
   "metadata": {
    "scrolled": true
   },
   "outputs": [],
   "source": [
    "args = {\n",
    "    'account':test_account1,\n",
    "    'code':test_account1,\n",
    "    'type':'sayhello',\n",
    "    'requirement':'sayhello'\n",
    "}\n",
    "r = uuosapi.push_action('eosio', 'linkauth', args, {test_account1:'active'})"
   ]
  },
  {
   "cell_type": "code",
   "execution_count": 6,
   "metadata": {
    "scrolled": true
   },
   "outputs": [
    {
     "data": {
      "text/plain": [
       "{'account_name': 'wkpmdjdsztyu',\n",
       " 'head_block_num': 45476849,\n",
       " 'head_block_time': '2021-01-12T02:46:48.000',\n",
       " 'privileged': False,\n",
       " 'last_code_update': '2021-01-12T02:43:26.000',\n",
       " 'created': '2020-11-30T02:21:01.000',\n",
       " 'core_liquid_balance': '54.2551 EOS',\n",
       " 'ram_quota': 1190188,\n",
       " 'net_weight': 110000,\n",
       " 'cpu_weight': 110000,\n",
       " 'net_limit': {'used': 143704, 'available': 26214991, 'max': 26358695},\n",
       " 'cpu_limit': {'used': 160049, 'available': 4866991, 'max': 5027040},\n",
       " 'ram_usage': 59273,\n",
       " 'permissions': [{'perm_name': 'active',\n",
       "   'parent': 'owner',\n",
       "   'required_auth': {'threshold': 1,\n",
       "    'keys': [{'key': 'EOS4yV91cqR6db8ntKtCLFVwWfvvvDMZctpd85GsaX5GUMaiqUWYL',\n",
       "      'weight': 1}],\n",
       "    'accounts': [{'permission': {'actor': 'wkpmdjdsztyu',\n",
       "       'permission': 'eosio.code'},\n",
       "      'weight': 1}],\n",
       "    'waits': []}},\n",
       "  {'perm_name': 'owner',\n",
       "   'parent': '',\n",
       "   'required_auth': {'threshold': 1,\n",
       "    'keys': [{'key': 'EOS7iPioB1Uscn14dYdw5PrqAHVU2F54Bi3kJ1qr6WbRe1tMtHGEo',\n",
       "      'weight': 1}],\n",
       "    'accounts': [],\n",
       "    'waits': []}},\n",
       "  {'perm_name': 'sayhello',\n",
       "   'parent': 'active',\n",
       "   'required_auth': {'threshold': 2,\n",
       "    'keys': [{'key': 'EOS4yV91cqR6db8ntKtCLFVwWfvvvDMZctpd85GsaX5GUMaiqUWYL',\n",
       "      'weight': 1},\n",
       "     {'key': 'EOS5gNqDpWm72KzNWFVgBDmybrEtk9qx2ZuAeRbK9iSJMVJ2B8y73',\n",
       "      'weight': 1}],\n",
       "    'accounts': [],\n",
       "    'waits': []}}],\n",
       " 'total_resources': {'owner': 'wkpmdjdsztyu',\n",
       "  'net_weight': '11.0000 EOS',\n",
       "  'cpu_weight': '11.0000 EOS',\n",
       "  'ram_bytes': 1188788},\n",
       " 'self_delegated_bandwidth': {'from': 'wkpmdjdsztyu',\n",
       "  'to': 'wkpmdjdsztyu',\n",
       "  'net_weight': '11.0000 EOS',\n",
       "  'cpu_weight': '11.0000 EOS'},\n",
       " 'refund_request': None,\n",
       " 'voter_info': {'owner': 'wkpmdjdsztyu',\n",
       "  'proxy': '',\n",
       "  'producers': [],\n",
       "  'staked': 220000,\n",
       "  'last_vote_weight': '0.00000000000000000',\n",
       "  'proxied_vote_weight': '0.00000000000000000',\n",
       "  'is_proxy': 0,\n",
       "  'flags1': 0,\n",
       "  'reserved2': 0,\n",
       "  'reserved3': '0 '},\n",
       " 'rex_info': None}"
      ]
     },
     "execution_count": 6,
     "metadata": {},
     "output_type": "execute_result"
    }
   ],
   "source": [
    "uuosapi.get_account(test_account1)"
   ]
  },
  {
   "cell_type": "code",
   "execution_count": 7,
   "metadata": {},
   "outputs": [
    {
     "data": {
      "text/plain": [
       "'wkpmdjdsztyu'"
      ]
     },
     "execution_count": 7,
     "metadata": {},
     "output_type": "execute_result"
    }
   ],
   "source": [
    "test_account1"
   ]
  },
  {
   "cell_type": "code",
   "execution_count": 12,
   "metadata": {
    "scrolled": true
   },
   "outputs": [
    {
     "name": "stdout",
     "output_type": "stream",
     "text": [
      "done!\n"
     ]
    }
   ],
   "source": [
    "code = r'''\n",
    "#include <eosio/print.hpp>\n",
    "#include <eosio/name.hpp>\n",
    "#include <eosio/action.hpp>\n",
    "\n",
    "using namespace eosio;\n",
    "\n",
    "extern \"C\" {\n",
    "    void apply( uint64_t receiver, uint64_t code, uint64_t action ) {\n",
    "        print(\"hello,world\\n\");\n",
    "        // try change \"sayhello\" to \"active\", that with throw exception\n",
    "        require_auth({name(receiver), \"sayhello\"_n});\n",
    "//        require_auth({name(receiver), \"owner\"_n});\n",
    "    }\n",
    "}\n",
    "'''\n",
    "\n",
    "code = uuosapi.compile(test_account1, code, vm_type=0)\n",
    "uuosapi.deploy_code(test_account1, code, vm_type=0)\n",
    "print('done!')"
   ]
  },
  {
   "cell_type": "code",
   "execution_count": 13,
   "metadata": {},
   "outputs": [
    {
     "name": "stdout",
     "output_type": "stream",
     "text": [
      "hello,world\n",
      "\n"
     ]
    }
   ],
   "source": [
    "r = uuosapi.push_action(test_account1, 'sayhello', b'hello,world', {test_account1:'sayhello'})\n",
    "print(r['processed']['action_traces'][0]['console'])"
   ]
  },
  {
   "cell_type": "code",
   "execution_count": 14,
   "metadata": {
    "scrolled": false
   },
   "outputs": [
    {
     "name": "stdout",
     "output_type": "stream",
     "text": [
      "{\"expiration\":\"2021-01-12T03:50:41\",\"ref_block_num\":60532,\"ref_block_prefix\":2311561874,\"max_net_usage_words\":0,\"max_cpu_usage_ms\":0,\"delay_sec\":0,\"context_free_actions\":[],\"actions\":[{\"account\":\"wkpmdjdsztyu\",\"name\":\"sayhello\",\"authorization\":[{\"actor\":\"wkpmdjdsztyu\",\"permission\":\"sayhello\"}],\"data\":\"68656c6c6f2c776f726c64\"}],\"transaction_extensions\":[],\"signatures\":[],\"context_free_data\":[]}\n"
     ]
    }
   ],
   "source": [
    "action = [test_account1, 'sayhello', b'hello,world', {test_account1:'sayhello'}]\n",
    "info = uuosapi.get_info()\n",
    "reference_block_id = info['last_irreversible_block_id']\n",
    "trx = uuosapi.gen_transaction([action], 60*60, reference_block_id)\n",
    "print(trx)"
   ]
  },
  {
   "cell_type": "code",
   "execution_count": 15,
   "metadata": {},
   "outputs": [
    {
     "data": {
      "text/plain": [
       "{'perm_name': 'sayhello',\n",
       " 'parent': 'active',\n",
       " 'required_auth': {'threshold': 2,\n",
       "  'keys': [{'key': 'EOS4yV91cqR6db8ntKtCLFVwWfvvvDMZctpd85GsaX5GUMaiqUWYL',\n",
       "    'weight': 1},\n",
       "   {'key': 'EOS5gNqDpWm72KzNWFVgBDmybrEtk9qx2ZuAeRbK9iSJMVJ2B8y73',\n",
       "    'weight': 1}],\n",
       "  'accounts': [],\n",
       "  'waits': []}}"
      ]
     },
     "execution_count": 15,
     "metadata": {},
     "output_type": "execute_result"
    }
   ],
   "source": [
    "uuosapi.get_account(test_account1)['permissions'][2]"
   ]
  },
  {
   "cell_type": "markdown",
   "metadata": {},
   "source": [
    "### sign with private key of EOS4yV91cqR6db8ntKtCLFVwWfvvvDMZctpd85GsaX5GUMaiqUWYL"
   ]
  },
  {
   "cell_type": "code",
   "execution_count": 16,
   "metadata": {},
   "outputs": [
    {
     "data": {
      "text/plain": [
       "['SIG_K1_Kg3bwKkiPHu71aCM8dYvwZLn8pxGWWu4uZ9Zv5J8JQtsWmsnz5bMpuLbUNh4T4KtDVxWvKVMoRBFzmEvuqPGLzhAQz1rAP']"
      ]
     },
     "execution_count": 16,
     "metadata": {},
     "output_type": "execute_result"
    }
   ],
   "source": [
    "import hashlib\n",
    "import json\n",
    "public_keys = ['EOS4yV91cqR6db8ntKtCLFVwWfvvvDMZctpd85GsaX5GUMaiqUWYL',]\n",
    "info = uuosapi.get_info()\n",
    "signed_trx = wallet.sign_transaction(trx, public_keys, info['chain_id'])\n",
    "sign1 = json.loads(signed_trx)['signatures']\n",
    "sign1"
   ]
  },
  {
   "cell_type": "code",
   "execution_count": 17,
   "metadata": {},
   "outputs": [
    {
     "data": {
      "text/plain": [
       "'SIG_K1_Kg3bwKkiPHu71aCM8dYvwZLn8pxGWWu4uZ9Zv5J8JQtsWmsnz5bMpuLbUNh4T4KtDVxWvKVMoRBFzmEvuqPGLzhAQz1rAP'"
      ]
     },
     "execution_count": 17,
     "metadata": {},
     "output_type": "execute_result"
    }
   ],
   "source": [
    "import hashlib\n",
    "info = uuosapi.get_info()\n",
    "chain_id = bytes.fromhex(info['chain_id'])\n",
    "\n",
    "packed_trx = uuosapi.pack_transaction(trx)\n",
    "packed_trx = json.loads(packed_trx)\n",
    "packed_trx = bytes.fromhex(packed_trx['packed_trx'])\n",
    "\n",
    "h = hashlib.sha256()\n",
    "h.update(chain_id)\n",
    "h.update(packed_trx)\n",
    "h.update(b'\\x00'*32)\n",
    "wallet.sign_digest(h.digest(), 'EOS4yV91cqR6db8ntKtCLFVwWfvvvDMZctpd85GsaX5GUMaiqUWYL')\n"
   ]
  },
  {
   "cell_type": "markdown",
   "metadata": {},
   "source": [
    "### sign with private key of EOS5gNqDpWm72KzNWFVgBDmybrEtk9qx2ZuAeRbK9iSJMVJ2B8y73"
   ]
  },
  {
   "cell_type": "code",
   "execution_count": 18,
   "metadata": {},
   "outputs": [
    {
     "data": {
      "text/plain": [
       "['SIG_K1_Kg3bwKkiPHu71aCM8dYvwZLn8pxGWWu4uZ9Zv5J8JQtsWmsnz5bMpuLbUNh4T4KtDVxWvKVMoRBFzmEvuqPGLzhAQz1rAP',\n",
       " 'SIG_K1_KhEERQjBU6qxZg19ZRVR2ztBaGtKjqQW37aDsP8h8cNX9y6R5kfwj6B2pQpcRPV4AAihiaEpN1h41rMCxjLsN15r6Mgzeq']"
      ]
     },
     "execution_count": 18,
     "metadata": {},
     "output_type": "execute_result"
    }
   ],
   "source": [
    "public_keys = ['EOS5gNqDpWm72KzNWFVgBDmybrEtk9qx2ZuAeRbK9iSJMVJ2B8y73']\n",
    "info = uuosapi.get_info()\n",
    "signed_trx = wallet.sign_transaction(signed_trx, public_keys, info['chain_id'])\n",
    "sign2 = json.loads(signed_trx)['signatures']\n",
    "sign2"
   ]
  },
  {
   "cell_type": "code",
   "execution_count": 19,
   "metadata": {
    "scrolled": true
   },
   "outputs": [
    {
     "name": "stdout",
     "output_type": "stream",
     "text": [
      "hello,world\n",
      "\n"
     ]
    }
   ],
   "source": [
    "r = uuosapi.push_transaction(signed_trx, compress=False)\n",
    "print(r['processed']['action_traces'][0]['console'])"
   ]
  }
 ],
 "metadata": {
  "kernelspec": {
   "display_name": "Python 3",
   "language": "python",
   "name": "python3"
  },
  "language_info": {
   "codemirror_mode": {
    "name": "ipython",
    "version": 3
   },
   "file_extension": ".py",
   "mimetype": "text/x-python",
   "name": "python",
   "nbconvert_exporter": "python",
   "pygments_lexer": "ipython3",
   "version": "3.7.4"
  }
 },
 "nbformat": 4,
 "nbformat_minor": 2
}
