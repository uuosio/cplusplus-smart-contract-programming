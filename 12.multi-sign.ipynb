{
 "cells": [
  {
   "cell_type": "markdown",
   "metadata": {},
   "source": [
    "```python\n",
    "eosapi.gen_transaction(actions, expiration, reference_block_id)\n",
    "```"
   ]
  },
  {
   "cell_type": "markdown",
   "metadata": {},
   "source": [
    "```python\n",
    "wallet.sign_transaction(trx, public_keys, chain_id)\n",
    "```"
   ]
  },
  {
   "cell_type": "markdown",
   "metadata": {},
   "source": [
    "```python\n",
    "eosapi.push_transaction(trx, compress=0)\n",
    "```"
   ]
  },
  {
   "cell_type": "code",
   "execution_count": 157,
   "metadata": {},
   "outputs": [
    {
     "name": "stdout",
     "output_type": "stream",
     "text": [
      "done!\n"
     ]
    }
   ],
   "source": [
    "import os\n",
    "import json\n",
    "import hashlib\n",
    "import marshal\n",
    "from pyeoskit import eosapi, wallet, db\n",
    "from pyeoskit import config\n",
    "\n",
    "db.reset()\n",
    "config.main_token = 'UUOS'\n",
    "\n",
    "if os.path.exists('test.wallet'):\n",
    "    os.remove('test.wallet')\n",
    "psw = wallet.create('test')\n",
    "\n",
    "\n",
    "wallet.import_key('test', '5Ji6xuMzbv8UsvJxqFzzknBhWJQZKAjqAKcxnRtMehViNfS1CSS')\n",
    "wallet.import_key('test', '5Hu5ZbnRBBDAd7WA1m2DuJsN26eRtLcCEXQdvQZGCXPwCt8B3LB')\n",
    "wallet.import_key('test', '5KXKjmsJNHwjGEEKfEouuSdH8vy28AHcSJbexYLngwQcUVScHSG')\n",
    "\n",
    "\n",
    "def publish_contract(account_name, code, abi):\n",
    "    m = hashlib.sha256()\n",
    "    code = compile(code, \"contract\", 'exec')\n",
    "    code = marshal.dumps(code)\n",
    "    m.update(code)\n",
    "    code_hash = m.hexdigest()\n",
    "    r = eosapi.get_code(account_name)\n",
    "    if code_hash != r['code_hash']:\n",
    "        eosapi.set_contract(account_name, code, abi, 1)\n",
    "    return True\n",
    "\n",
    "#eosapi.set_nodes(['https://nodes.uuos.network:8443'])\n",
    "eosapi.set_nodes(['http://127.0.0.1:8888'])\n",
    "\n",
    "def run_test_code(code, account_name='test11111111'):\n",
    "    publish_contract(account_name, code, abi)\n",
    "    try:\n",
    "        r = eosapi.push_action(account_name, 'sayhello', b'hello,world', {account_name:'active'})\n",
    "        print(r['processed']['action_traces'][0]['console'])\n",
    "    except Exception as e:\n",
    "        print(e)\n",
    "\n",
    "def format_dict(d):\n",
    "    if isinstance(d, str):\n",
    "        d = json.loads(d)\n",
    "    assert isinstance(d, dict)\n",
    "    formated_trx = json.dumps(d, default=lambda x: x, sort_keys=False, indent=4, separators=(',', ': '))\n",
    "    print(formated_trx)\n",
    "\n",
    "print('done!')\n"
   ]
  },
  {
   "cell_type": "code",
   "execution_count": null,
   "metadata": {},
   "outputs": [],
   "source": [
    "eosapi.get_public_key('5Ji6xuMzbv8UsvJxqFzzknBhWJQZKAjqAKcxnRtMehViNfS1CSS')"
   ]
  },
  {
   "cell_type": "code",
   "execution_count": null,
   "metadata": {},
   "outputs": [],
   "source": [
    "eosapi.get_public_key('5Hu5ZbnRBBDAd7WA1m2DuJsN26eRtLcCEXQdvQZGCXPwCt8B3LB')"
   ]
  },
  {
   "cell_type": "code",
   "execution_count": 159,
   "metadata": {
    "scrolled": true
   },
   "outputs": [
    {
     "data": {
      "text/plain": [
       "{\n",
       "    \"account_name\": \"helloworld11\",\n",
       "    \"head_block_num\": 195018,\n",
       "    \"head_block_time\": \"2019-06-13T09:20:31.500\",\n",
       "    \"privileged\": false,\n",
       "    \"last_code_update\": \"2019-06-12T14:14:55.000\",\n",
       "    \"created\": \"2019-06-11T03:42:46.000\",\n",
       "    \"core_liquid_balance\": \"990461.3874 UUOS\",\n",
       "    \"ram_quota\": 65206,\n",
       "    \"net_weight\": 10000,\n",
       "    \"cpu_weight\": 10000,\n",
       "    \"net_limit\": {\n",
       "        \"used\": 7324,\n",
       "        \"available\": \"90596966392676\",\n",
       "        \"max\": \"90596966400000\"\n",
       "    },\n",
       "    \"cpu_limit\": {\n",
       "        \"used\": 19209,\n",
       "        \"available\": \"17279999980791\",\n",
       "        \"max\": \"17280000000000\"\n",
       "    },\n",
       "    \"ram_usage\": 5562,\n",
       "    \"permissions\": [\n",
       "        {\n",
       "            \"perm_name\": \"active\",\n",
       "            \"parent\": \"owner\",\n",
       "            \"required_auth\": {\n",
       "                \"threshold\": 2,\n",
       "                \"keys\": [\n",
       "                    {\n",
       "                        \"key\": \"EOS5fZE4HY2qZ1MYKryKQYjsw6TA7G7oFMDgSCnagG5TCDQm54QSj\",\n",
       "                        \"weight\": 1\n",
       "                    },\n",
       "                    {\n",
       "                        \"key\": \"EOS6DW7yDB68zSD7GbUycAkHk6XAxwxfuHMHPJBuz2YexsdnjSZvL\",\n",
       "                        \"weight\": 1\n",
       "                    }\n",
       "                ],\n",
       "                \"accounts\": [],\n",
       "                \"waits\": []\n",
       "            }\n",
       "        },\n",
       "        {\n",
       "            \"perm_name\": \"owner\",\n",
       "            \"parent\": \"\",\n",
       "            \"required_auth\": {\n",
       "                \"threshold\": 1,\n",
       "                \"keys\": [\n",
       "                    {\n",
       "                        \"key\": \"EOS6DW7yDB68zSD7GbUycAkHk6XAxwxfuHMHPJBuz2YexsdnjSZvL\",\n",
       "                        \"weight\": 1\n",
       "                    }\n",
       "                ],\n",
       "                \"accounts\": [],\n",
       "                \"waits\": []\n",
       "            }\n",
       "        }\n",
       "    ],\n",
       "    \"total_resources\": {\n",
       "        \"owner\": \"helloworld11\",\n",
       "        \"net_weight\": \"1.0000 UUOS\",\n",
       "        \"cpu_weight\": \"1.0000 UUOS\",\n",
       "        \"ram_bytes\": 65206\n",
       "    },\n",
       "    \"self_delegated_bandwidth\": {\n",
       "        \"from\": \"helloworld11\",\n",
       "        \"to\": \"helloworld11\",\n",
       "        \"net_weight\": \"1.0000 UUOS\",\n",
       "        \"cpu_weight\": \"1.0000 UUOS\"\n",
       "    },\n",
       "    \"refund_request\": null,\n",
       "    \"voter_info\": {\n",
       "        \"owner\": \"helloworld11\",\n",
       "        \"proxy\": \"\",\n",
       "        \"producers\": [],\n",
       "        \"staked\": 20000,\n",
       "        \"last_vote_weight\": \"0.00000000000000000\",\n",
       "        \"proxied_vote_weight\": \"0.00000000000000000\",\n",
       "        \"is_proxy\": 0\n",
       "    }\n",
       "}"
      ]
     },
     "execution_count": 159,
     "metadata": {},
     "output_type": "execute_result"
    }
   ],
   "source": [
    "eosapi.get_account('helloworld11')"
   ]
  },
  {
   "cell_type": "code",
   "execution_count": 158,
   "metadata": {},
   "outputs": [
    {
     "name": "stdout",
     "output_type": "stream",
     "text": [
      "done!\n"
     ]
    }
   ],
   "source": [
    "account_name = 'helloworld11'\n",
    "authority = {\n",
    "    \"account\": account_name,\n",
    "    \"permission\": \"active\",\n",
    "    \"parent\": \"owner\",\n",
    "    \"auth\": {\n",
    "        \"threshold\": 2,\n",
    "        \"keys\": [\n",
    "        ],\n",
    "        \"accounts\": [],\n",
    "        \"waits\": []\n",
    "    }\n",
    "}\n",
    "\n",
    "public_keys = ['EOS6DW7yDB68zSD7GbUycAkHk6XAxwxfuHMHPJBuz2YexsdnjSZvL', 'EOS5fZE4HY2qZ1MYKryKQYjsw6TA7G7oFMDgSCnagG5TCDQm54QSj',]\n",
    "public_keys.sort()\n",
    "\n",
    "key = {\"key\": public_keys[0], \"weight\": 1}\n",
    "\n",
    "authority['auth']['keys'].append(key)\n",
    "\n",
    "key = {\"key\": public_keys[1], \"weight\": 1}\n",
    "authority['auth']['keys'].append(key)\n",
    "\n",
    "r = eosapi.push_action('eosio', 'updateauth', authority, {account_name:'owner'})\n",
    "print('done!')"
   ]
  },
  {
   "cell_type": "code",
   "execution_count": 160,
   "metadata": {
    "scrolled": false
   },
   "outputs": [
    {
     "name": "stdout",
     "output_type": "stream",
     "text": [
      "{\"expiration\":\"2019-06-13T10:21:27\",\"ref_block_num\":64057,\"ref_block_prefix\":3836209122,\"max_net_usage_words\":0,\"max_cpu_usage_ms\":0,\"delay_sec\":0,\"context_free_actions\":[],\"actions\":[{\"account\":\"eosio.token\",\"name\":\"transfer\",\"authorization\":[{\"actor\":\"helloworld11\",\"permission\":\"active\"}],\"data\":\"10428a97721aa36a0000000000ea305501000000000000000455554f530000000b68656c6c6f2c776f726c64\"}],\"transaction_extensions\":[],\"signatures\":[],\"context_free_data\":[]}\n"
     ]
    }
   ],
   "source": [
    "import json\n",
    "from pyeoskit import eosapi\n",
    "from pyeoskit import wallet\n",
    "\n",
    "args = {\"from\": 'helloworld11',\n",
    "        \"to\": 'eosio',\n",
    "        \"quantity\": '0.0001 UUOS',\n",
    "        \"memo\": 'hello,world'\n",
    "}\n",
    "\n",
    "action = ['eosio.token', 'transfer', args, {'helloworld11':'active'}]\n",
    "reference_block_id = eosapi.get_info().last_irreversible_block_id\n",
    "trx = eosapi.gen_transaction([action], 60*60, reference_block_id)\n",
    "print(trx)"
   ]
  },
  {
   "cell_type": "code",
   "execution_count": 161,
   "metadata": {},
   "outputs": [
    {
     "name": "stdout",
     "output_type": "stream",
     "text": [
      "{\n",
      "    \"expiration\": \"2019-06-13T10:21:27\",\n",
      "    \"ref_block_num\": 64057,\n",
      "    \"ref_block_prefix\": 3836209122,\n",
      "    \"max_net_usage_words\": 0,\n",
      "    \"max_cpu_usage_ms\": 0,\n",
      "    \"delay_sec\": 0,\n",
      "    \"context_free_actions\": [],\n",
      "    \"actions\": [\n",
      "        {\n",
      "            \"account\": \"eosio.token\",\n",
      "            \"name\": \"transfer\",\n",
      "            \"authorization\": [\n",
      "                {\n",
      "                    \"actor\": \"helloworld11\",\n",
      "                    \"permission\": \"active\"\n",
      "                }\n",
      "            ],\n",
      "            \"data\": \"10428a97721aa36a0000000000ea305501000000000000000455554f530000000b68656c6c6f2c776f726c64\"\n",
      "        }\n",
      "    ],\n",
      "    \"transaction_extensions\": [],\n",
      "    \"signatures\": [],\n",
      "    \"context_free_data\": []\n",
      "}\n"
     ]
    }
   ],
   "source": [
    "format_dict(trx)"
   ]
  },
  {
   "cell_type": "markdown",
   "metadata": {},
   "source": [
    "### Alice"
   ]
  },
  {
   "cell_type": "code",
   "execution_count": 162,
   "metadata": {},
   "outputs": [
    {
     "name": "stdout",
     "output_type": "stream",
     "text": [
      "['SIG_K1_KWtbUB1UNE97xdtkCnpBRrwiA31D8yhLb8uVG53sfZFE3QTU37rRQb3vwiSUmuf1xzF5Ao44trXGxbsitNkqxiwG243H7q']\n"
     ]
    }
   ],
   "source": [
    "import hashlib\n",
    "\n",
    "public_keys = ['EOS6DW7yDB68zSD7GbUycAkHk6XAxwxfuHMHPJBuz2YexsdnjSZvL',]\n",
    "info = eosapi.get_info()\n",
    "signed_trx = wallet.sign_transaction(trx, public_keys, info.chain_id)\n",
    "print(json.loads(signed_trx)['signatures'])\n"
   ]
  },
  {
   "cell_type": "code",
   "execution_count": 163,
   "metadata": {},
   "outputs": [
    {
     "data": {
      "text/plain": [
       "'SIG_K1_KWtbUB1UNE97xdtkCnpBRrwiA31D8yhLb8uVG53sfZFE3QTU37rRQb3vwiSUmuf1xzF5Ao44trXGxbsitNkqxiwG243H7q'"
      ]
     },
     "execution_count": 163,
     "metadata": {},
     "output_type": "execute_result"
    }
   ],
   "source": [
    "import hashlib\n",
    "info = eosapi.get_info()\n",
    "chain_id = bytes.fromhex(info.chain_id)\n",
    "\n",
    "packed_trx = eosapi.pack_transaction(trx)\n",
    "packed_trx = json.loads(packed_trx)\n",
    "packed_trx = bytes.fromhex(packed_trx['packed_trx'])\n",
    "\n",
    "h = hashlib.sha256()\n",
    "h.update(chain_id)\n",
    "h.update(packed_trx)\n",
    "h.update(b'\\x00'*32)\n",
    "wallet.sign_digest(h.digest(), 'EOS6DW7yDB68zSD7GbUycAkHk6XAxwxfuHMHPJBuz2YexsdnjSZvL')\n"
   ]
  },
  {
   "cell_type": "markdown",
   "metadata": {},
   "source": [
    "### Bob"
   ]
  },
  {
   "cell_type": "code",
   "execution_count": 164,
   "metadata": {},
   "outputs": [
    {
     "name": "stdout",
     "output_type": "stream",
     "text": [
      "['SIG_K1_KVQbL8SHNp66d7gfVu8PvvuU5Fuj37bxz5zXBQ4VtQ8mhknmWcXDaiVmsPWkwog35NVFJCQ5KL6ujwDqn6iWfcdxUYHDFV']\n"
     ]
    }
   ],
   "source": [
    "public_keys = ['EOS5fZE4HY2qZ1MYKryKQYjsw6TA7G7oFMDgSCnagG5TCDQm54QSj']\n",
    "info = eosapi.get_info()\n",
    "signed_trx = wallet.sign_transaction(trx, public_keys, info.chain_id)\n",
    "print(json.loads(signed_trx)['signatures'])"
   ]
  },
  {
   "cell_type": "code",
   "execution_count": 165,
   "metadata": {},
   "outputs": [
    {
     "data": {
      "text/plain": [
       "990461.3874"
      ]
     },
     "execution_count": 165,
     "metadata": {},
     "output_type": "execute_result"
    }
   ],
   "source": [
    "eosapi.get_balance('helloworld11')"
   ]
  },
  {
   "cell_type": "code",
   "execution_count": 166,
   "metadata": {
    "scrolled": true
   },
   "outputs": [
    {
     "data": {
      "text/plain": [
       "{'transaction_id': 'f9b23e499b9f35f5f207311663720ac70e7c0af963c989fbe540527e953768be',\n",
       " 'processed': {'id': 'f9b23e499b9f35f5f207311663720ac70e7c0af963c989fbe540527e953768be',\n",
       "  'block_num': 195481,\n",
       "  'block_time': '2019-06-13T09:24:23.000',\n",
       "  'producer_block_id': None,\n",
       "  'receipt': {'status': 'executed',\n",
       "   'cpu_usage_us': 601,\n",
       "   'net_usage_words': 19},\n",
       "  'elapsed': 601,\n",
       "  'net_usage': 152,\n",
       "  'scheduled': False,\n",
       "  'action_traces': [{'receipt': {'receiver': 'eosio.token',\n",
       "     'act_digest': '8ebcb4773941f8ccf59912d583a5f571cc6111c990236f98de66b870a7f5e271',\n",
       "     'global_sequence': 195749,\n",
       "     'recv_sequence': 41,\n",
       "     'auth_sequence': [['helloworld11', 161]],\n",
       "     'code_sequence': 1,\n",
       "     'abi_sequence': 1},\n",
       "    'act': {'account': 'eosio.token',\n",
       "     'name': 'transfer',\n",
       "     'authorization': [{'actor': 'helloworld11', 'permission': 'active'}],\n",
       "     'data': {'from': 'helloworld11',\n",
       "      'to': 'eosio',\n",
       "      'quantity': '0.0001 UUOS',\n",
       "      'memo': 'hello,world'},\n",
       "     'hex_data': '10428a97721aa36a0000000000ea305501000000000000000455554f530000000b68656c6c6f2c776f726c64'},\n",
       "    'context_free': False,\n",
       "    'elapsed': 159,\n",
       "    'console': '',\n",
       "    'trx_id': 'f9b23e499b9f35f5f207311663720ac70e7c0af963c989fbe540527e953768be',\n",
       "    'block_num': 195481,\n",
       "    'block_time': '2019-06-13T09:24:23.000',\n",
       "    'producer_block_id': None,\n",
       "    'account_ram_deltas': [],\n",
       "    'except': None,\n",
       "    'inline_traces': [{'receipt': {'receiver': 'helloworld11',\n",
       "       'act_digest': '8ebcb4773941f8ccf59912d583a5f571cc6111c990236f98de66b870a7f5e271',\n",
       "       'global_sequence': 195750,\n",
       "       'recv_sequence': 56,\n",
       "       'auth_sequence': [['helloworld11', 162]],\n",
       "       'code_sequence': 1,\n",
       "       'abi_sequence': 1},\n",
       "      'act': {'account': 'eosio.token',\n",
       "       'name': 'transfer',\n",
       "       'authorization': [{'actor': 'helloworld11', 'permission': 'active'}],\n",
       "       'data': {'from': 'helloworld11',\n",
       "        'to': 'eosio',\n",
       "        'quantity': '0.0001 UUOS',\n",
       "        'memo': 'hello,world'},\n",
       "       'hex_data': '10428a97721aa36a0000000000ea305501000000000000000455554f530000000b68656c6c6f2c776f726c64'},\n",
       "      'context_free': False,\n",
       "      'elapsed': 127,\n",
       "      'console': '',\n",
       "      'trx_id': 'f9b23e499b9f35f5f207311663720ac70e7c0af963c989fbe540527e953768be',\n",
       "      'block_num': 195481,\n",
       "      'block_time': '2019-06-13T09:24:23.000',\n",
       "      'producer_block_id': None,\n",
       "      'account_ram_deltas': [],\n",
       "      'except': None,\n",
       "      'inline_traces': []},\n",
       "     {'receipt': {'receiver': 'eosio',\n",
       "       'act_digest': '8ebcb4773941f8ccf59912d583a5f571cc6111c990236f98de66b870a7f5e271',\n",
       "       'global_sequence': 195751,\n",
       "       'recv_sequence': 195613,\n",
       "       'auth_sequence': [['helloworld11', 163]],\n",
       "       'code_sequence': 1,\n",
       "       'abi_sequence': 1},\n",
       "      'act': {'account': 'eosio.token',\n",
       "       'name': 'transfer',\n",
       "       'authorization': [{'actor': 'helloworld11', 'permission': 'active'}],\n",
       "       'data': {'from': 'helloworld11',\n",
       "        'to': 'eosio',\n",
       "        'quantity': '0.0001 UUOS',\n",
       "        'memo': 'hello,world'},\n",
       "       'hex_data': '10428a97721aa36a0000000000ea305501000000000000000455554f530000000b68656c6c6f2c776f726c64'},\n",
       "      'context_free': False,\n",
       "      'elapsed': 31,\n",
       "      'console': '',\n",
       "      'trx_id': 'f9b23e499b9f35f5f207311663720ac70e7c0af963c989fbe540527e953768be',\n",
       "      'block_num': 195481,\n",
       "      'block_time': '2019-06-13T09:24:23.000',\n",
       "      'producer_block_id': None,\n",
       "      'account_ram_deltas': [],\n",
       "      'except': None,\n",
       "      'inline_traces': []}]}],\n",
       "  'except': None}}"
      ]
     },
     "execution_count": 166,
     "metadata": {},
     "output_type": "execute_result"
    }
   ],
   "source": [
    "signed_trx = '''\n",
    "{\"expiration\":\"2019-06-13T10:21:27\",\"ref_block_num\":64057,\"ref_block_prefix\":3836209122,\"max_net_usage_words\":0,\"max_cpu_usage_ms\":0,\"delay_sec\":0,\"context_free_actions\":[],\"actions\":[{\"account\":\"eosio.token\",\"name\":\"transfer\",\"authorization\":[{\"actor\":\"helloworld11\",\"permission\":\"active\"}],\"data\":\"10428a97721aa36a0000000000ea305501000000000000000455554f530000000b68656c6c6f2c776f726c64\"}],\"transaction_extensions\":[],\n",
    "\"signatures\":[\n",
    "\"SIG_K1_KWtbUB1UNE97xdtkCnpBRrwiA31D8yhLb8uVG53sfZFE3QTU37rRQb3vwiSUmuf1xzF5Ao44trXGxbsitNkqxiwG243H7q\",\n",
    "\"SIG_K1_KVQbL8SHNp66d7gfVu8PvvuU5Fuj37bxz5zXBQ4VtQ8mhknmWcXDaiVmsPWkwog35NVFJCQ5KL6ujwDqn6iWfcdxUYHDFV\"\n",
    "],\n",
    "\"context_free_data\":[]}\n",
    "'''\n",
    "\n",
    "eosapi.push_transaction(signed_trx, compress=False)"
   ]
  },
  {
   "cell_type": "code",
   "execution_count": 167,
   "metadata": {},
   "outputs": [
    {
     "data": {
      "text/plain": [
       "990461.3873"
      ]
     },
     "execution_count": 167,
     "metadata": {},
     "output_type": "execute_result"
    }
   ],
   "source": [
    "eosapi.get_balance('helloworld11')"
   ]
  },
  {
   "cell_type": "code",
   "execution_count": null,
   "metadata": {},
   "outputs": [],
   "source": [
    "eosapi.get_code('eosio.msig')"
   ]
  },
  {
   "cell_type": "markdown",
   "metadata": {},
   "source": [
    "### propose"
   ]
  },
  {
   "cell_type": "markdown",
   "metadata": {},
   "source": [
    "```javascript\n",
    "{\n",
    "      \"name\": \"propose\",\n",
    "      \"base\": \"\",\n",
    "      \"fields\": [\n",
    "        {\"name\":\"proposer\", \"type\":\"account_name\"},\n",
    "        {\"name\":\"proposal_name\", \"type\":\"name\"},\n",
    "        {\"name\":\"requested\", \"type\":\"permission_level[]\"},\n",
    "        {\"name\":\"trx\", \"type\":\"transaction\"}\n",
    "      ]\n",
    "    }\n",
    "```"
   ]
  },
  {
   "cell_type": "code",
   "execution_count": null,
   "metadata": {
    "scrolled": true
   },
   "outputs": [],
   "source": [
    "args = {\"from\": 'helloworld11',\n",
    "        \"to\": 'eosio',\n",
    "        \"quantity\": '0.0001 UUOS',\n",
    "        \"memo\": 'hello,world'\n",
    "}\n",
    "\n",
    "action = ['eosio.token', 'transfer', args, {'helloworld11':'active'}]\n",
    "reference_block_id = eosapi.get_info().last_irreversible_block_id\n",
    "trx = eosapi.gen_transaction([action], 60*60, reference_block_id)\n",
    "trx = json.loads(trx)\n",
    "args = {\n",
    "    'proposer':'helloworld11',\n",
    "    'proposal_name':'helloworld',\n",
    "    'requested':[\n",
    "            {'actor':'helloworld11', 'permission':'active'},\n",
    "            {'actor':'helloworld12', 'permission':'active'}\n",
    "        ],\n",
    "    'trx':trx\n",
    "}\n",
    "\n",
    "eosapi.push_action('eosio.msig', 'propose', args, {'helloworld11':'active'})\n"
   ]
  },
  {
   "cell_type": "markdown",
   "metadata": {},
   "source": [
    "### approve"
   ]
  },
  {
   "cell_type": "markdown",
   "metadata": {},
   "source": [
    "```javascript\n",
    "{\n",
    "     \"name\": \"approve\",\n",
    "     \"base\": \"\",\n",
    "     \"fields\": [\n",
    "        {\"name\":\"proposer\", \"type\":\"account_name\"},\n",
    "        {\"name\":\"proposal_name\", \"type\":\"name\"},\n",
    "        {\"name\":\"level\", \"type\":\"permission_level\"}\n",
    "     ]\n",
    "}\n",
    "```"
   ]
  },
  {
   "cell_type": "code",
   "execution_count": null,
   "metadata": {
    "scrolled": true
   },
   "outputs": [],
   "source": [
    "args = {\n",
    "    'proposer':'helloworld11',\n",
    "    'proposal_name':'helloworld',\n",
    "    'level':{'actor':'helloworld11', 'permission':'active'}\n",
    "}\n",
    "\n",
    "eosapi.push_action('eosio.msig', 'approve', args, {'helloworld11':'active'})\n"
   ]
  },
  {
   "cell_type": "markdown",
   "metadata": {},
   "source": [
    "### unapprove"
   ]
  },
  {
   "cell_type": "markdown",
   "metadata": {},
   "source": [
    "```javascript\n",
    "{\n",
    "     \"name\": \"unapprove\",\n",
    "     \"base\": \"\",\n",
    "     \"fields\": [\n",
    "        {\"name\":\"proposer\", \"type\":\"account_name\"},\n",
    "        {\"name\":\"proposal_name\", \"type\":\"name\"},\n",
    "        {\"name\":\"level\", \"type\":\"permission_level\"}\n",
    "     ]\n",
    "    }\n",
    "```"
   ]
  },
  {
   "cell_type": "code",
   "execution_count": null,
   "metadata": {},
   "outputs": [],
   "source": [
    "args = {\n",
    "    'proposer':'helloworld11',\n",
    "    'proposal_name':'helloworld',\n",
    "    'level':{'actor':'helloworld11', 'permission':'active'}\n",
    "}\n",
    "\n",
    "eosapi.push_action('eosio.msig', 'unapprove', args, {'helloworld11':'active'})\n"
   ]
  },
  {
   "cell_type": "code",
   "execution_count": null,
   "metadata": {
    "scrolled": true
   },
   "outputs": [],
   "source": [
    "args = {\n",
    "    'proposer':'helloworld11',\n",
    "    'proposal_name':'helloworld',\n",
    "    'level':{'actor':'helloworld12', 'permission':'active'}\n",
    "}\n",
    "\n",
    "eosapi.push_action('eosio.msig', 'approve', args, {'helloworld12':'active'})\n"
   ]
  },
  {
   "cell_type": "markdown",
   "metadata": {},
   "source": [
    "### exec"
   ]
  },
  {
   "cell_type": "markdown",
   "metadata": {},
   "source": [
    "```javascript\n",
    "{\n",
    "      \"name\": \"exec\",\n",
    "      \"base\": \"\",\n",
    "      \"fields\": [\n",
    "        {\"name\":\"proposer\", \"type\":\"account_name\"},\n",
    "        {\"name\":\"proposal_name\", \"type\":\"name\"},\n",
    "        {\"name\":\"executer\", \"type\":\"account_name\"}\n",
    "      ]\n",
    "    }\n",
    "```"
   ]
  },
  {
   "cell_type": "code",
   "execution_count": null,
   "metadata": {},
   "outputs": [],
   "source": [
    "args = {\n",
    "    'proposer':'helloworld11',\n",
    "    'proposal_name':'helloworld',\n",
    "    'executer':'helloworld13'\n",
    "}\n",
    "\n",
    "eosapi.push_action('eosio.msig', 'exec', args, {'helloworld13':'active'})\n"
   ]
  },
  {
   "cell_type": "code",
   "execution_count": null,
   "metadata": {},
   "outputs": [],
   "source": [
    "account_name = 'helloworld11'\n",
    "a = {\n",
    "    \"account\": account_name,\n",
    "    \"permission\": \"active\",\n",
    "    \"parent\": \"owner\",\n",
    "    \"auth\": {\n",
    "        \"threshold\": 1,\n",
    "        \"keys\": [\n",
    "            {\n",
    "                \"key\": \"EOS6DW7yDB68zSD7GbUycAkHk6XAxwxfuHMHPJBuz2YexsdnjSZvL\",\n",
    "                \"weight\": 1\n",
    "            },\n",
    "        ],\n",
    "        \"accounts\": [{\"permission\":{\"actor\":'eosio.msig',\"permission\":\"eosio.code\"},\"weight\":1}],\n",
    "        \"waits\": []\n",
    "    }\n",
    "}\n",
    "r = eosapi.push_action('eosio', 'updateauth', a, {account_name:'owner'})\n",
    "print('done!')"
   ]
  },
  {
   "cell_type": "code",
   "execution_count": null,
   "metadata": {},
   "outputs": [],
   "source": [
    "eosapi.create_key()"
   ]
  },
  {
   "cell_type": "code",
   "execution_count": null,
   "metadata": {},
   "outputs": [],
   "source": [
    "\n",
    "owner_key = 'EOS5b27SN9sb9AKjjLffJJ3zUZdV5dsSwvpSfYr9DmJ38HbiVjbJR'\n",
    "active_key = 'EOS5b27SN9sb9AKjjLffJJ3zUZdV5dsSwvpSfYr9DmJ38HbiVjbJR'\n",
    "eosapi.create_account('helloworld11', 'helloworld13', owner_key, active_key, 64*1024, 1.0, 1.0)\n"
   ]
  },
  {
   "cell_type": "code",
   "execution_count": null,
   "metadata": {
    "scrolled": true
   },
   "outputs": [],
   "source": [
    "eosapi.get_account('helloworld13')"
   ]
  },
  {
   "cell_type": "code",
   "execution_count": null,
   "metadata": {},
   "outputs": [],
   "source": [
    "eosapi.get_balance('helloworld11')"
   ]
  }
 ],
 "metadata": {
  "kernelspec": {
   "display_name": "Python 3",
   "language": "python",
   "name": "python3"
  },
  "language_info": {
   "codemirror_mode": {
    "name": "ipython",
    "version": 3
   },
   "file_extension": ".py",
   "mimetype": "text/x-python",
   "name": "python",
   "nbconvert_exporter": "python",
   "pygments_lexer": "ipython3",
   "version": "3.7.3"
  }
 },
 "nbformat": 4,
 "nbformat_minor": 2
}
