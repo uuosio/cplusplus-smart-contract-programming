{
 "cells": [
  {
   "cell_type": "code",
   "execution_count": 1,
   "metadata": {},
   "outputs": [],
   "source": [
    "from init import *"
   ]
  },
  {
   "cell_type": "code",
   "execution_count": 2,
   "metadata": {},
   "outputs": [
    {
     "name": "stdout",
     "output_type": "stream",
     "text": [
      "done!\n"
     ]
    }
   ],
   "source": [
    "a = {\n",
    "    \"account\": test_account1,\n",
    "    \"permission\": \"active\",\n",
    "    \"parent\": \"owner\",\n",
    "    \"auth\": {\n",
    "        \"threshold\": 1,\n",
    "        \"keys\": [\n",
    "            {\n",
    "                \"key\": \"EOS4yV91cqR6db8ntKtCLFVwWfvvvDMZctpd85GsaX5GUMaiqUWYL\",\n",
    "                \"weight\": 1\n",
    "            },\n",
    "        ],\n",
    "        \"accounts\": [{\"permission\":{\"actor\":test_account1,\"permission\":\"eosio.code\"},\"weight\":1}],\n",
    "        \"waits\": []\n",
    "    }\n",
    "}\n",
    "r = uuosapi.push_action('eosio', 'updateauth', a, {test_account1:'active'})\n",
    "print('done!')"
   ]
  },
  {
   "cell_type": "code",
   "execution_count": 8,
   "metadata": {},
   "outputs": [
    {
     "data": {
      "text/plain": [
       "('wkpmdjdsztyu', 'TNT')"
      ]
     },
     "execution_count": 8,
     "metadata": {},
     "output_type": "execute_result"
    }
   ],
   "source": [
    "test_account1, config.main_token"
   ]
  },
  {
   "cell_type": "code",
   "execution_count": 44,
   "metadata": {
    "scrolled": true
   },
   "outputs": [
    {
     "name": "stdout",
     "output_type": "stream",
     "text": [
      "done!\n"
     ]
    }
   ],
   "source": [
    "code = r'''\n",
    "#include <vector>\n",
    "#include <eosio/print.hpp>\n",
    "#include <eosio/name.hpp>\n",
    "#include <eosio/action.hpp>\n",
    "#include <eosio/asset.hpp>\n",
    "#include <eosio/transaction.hpp>\n",
    "\n",
    "using namespace std;\n",
    "using namespace eosio;\n",
    "\n",
    "#define N(name) name##_n.value\n",
    "\n",
    "struct transfer {\n",
    "    name from;\n",
    "    name to;\n",
    "    asset amount;\n",
    "    string memo;\n",
    "    EOSLIB_SERIALIZE( transfer, (from)(to)(amount)(memo) )\n",
    "};\n",
    "\n",
    "\n",
    "extern \"C\" {\n",
    "    void apply( uint64_t receiver, uint64_t code, uint64_t action ) {\n",
    "        if (N(\"sayhello\") == action) {\n",
    "            name sender(\"wkpmdjdsztyu\");\n",
    "            struct action a;\n",
    "            a.account = \"eosio.token\"_n;\n",
    "            a.name = \"transfer\"_n;\n",
    "            a.authorization.push_back({sender, \"active\"_n});\n",
    "            \n",
    "            transfer t;\n",
    "            t.from = sender;\n",
    "            t.to = \"eosio\"_n;\n",
    "            t.amount.amount = 1000; //0.1 TNT\n",
    "            t.amount.symbol = symbol(\"TNT\", 4);\n",
    "            a.data = eosio::pack<transfer>(t);\n",
    "            \n",
    "            transaction trx;\n",
    "            trx.actions.push_back(a);\n",
    "            trx.delay_sec = 3; //delay 2 seconds\n",
    "            trx.send(1, sender);\n",
    "        }\n",
    "    }\n",
    "}\n",
    "'''\n",
    "\n",
    "code = uuosapi.compile(test_account1, code, vm_type=0)\n",
    "uuosapi.deploy_code(test_account1, code, vm_type=0)\n",
    "print('done!')"
   ]
  },
  {
   "cell_type": "code",
   "execution_count": 45,
   "metadata": {},
   "outputs": [
    {
     "data": {
      "text/plain": [
       "(54.3551, 798712559.6884)"
      ]
     },
     "execution_count": 45,
     "metadata": {},
     "output_type": "execute_result"
    }
   ],
   "source": [
    "uuosapi.get_balance(test_account1),uuosapi.get_balance('eosio')"
   ]
  },
  {
   "cell_type": "code",
   "execution_count": 46,
   "metadata": {},
   "outputs": [
    {
     "name": "stdout",
     "output_type": "stream",
     "text": [
      "\n",
      "1844\n"
     ]
    }
   ],
   "source": [
    "r = uuosapi.push_action(test_account1, 'sayhello', b'hello,world', {test_account1:'active'})\n",
    "print(r['processed']['action_traces'][0]['console'])\n",
    "print(r['processed']['elapsed'])"
   ]
  },
  {
   "cell_type": "code",
   "execution_count": 47,
   "metadata": {},
   "outputs": [
    {
     "data": {
      "text/plain": [
       "(54.2551, 798712559.7884)"
      ]
     },
     "execution_count": 47,
     "metadata": {},
     "output_type": "execute_result"
    }
   ],
   "source": [
    "uuosapi.get_balance(test_account1),uuosapi.get_balance('eosio')"
   ]
  }
 ],
 "metadata": {
  "kernelspec": {
   "display_name": "Python 3",
   "language": "python",
   "name": "python3"
  },
  "language_info": {
   "codemirror_mode": {
    "name": "ipython",
    "version": 3
   },
   "file_extension": ".py",
   "mimetype": "text/x-python",
   "name": "python",
   "nbconvert_exporter": "python",
   "pygments_lexer": "ipython3",
   "version": "3.7.4"
  }
 },
 "nbformat": 4,
 "nbformat_minor": 2
}
