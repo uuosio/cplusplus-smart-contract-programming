{
 "cells": [
  {
   "cell_type": "markdown",
   "metadata": {},
   "source": [
    "# \"\"_n"
   ]
  },
  {
   "cell_type": "code",
   "execution_count": 4,
   "metadata": {},
   "outputs": [
    {
     "name": "stdout",
     "output_type": "stream",
     "text": [
      "\n",
      "\n",
      "hello,world\n",
      "helloworld11\n",
      "173\n"
     ]
    }
   ],
   "source": [
    "from init import *\n",
    "#eosapi.set_nodes(['https://nodes.uuos.network:8443'])\n",
    "eosapi.set_nodes(['http://127.0.0.1:8888'])\n",
    "config.main_token='UUOS'\n",
    "code = r'''\n",
    "#include <eosio/print.hpp>\n",
    "#include <eosio/name.hpp>\n",
    "#include <eosio/action.hpp>\n",
    "\n",
    "using namespace eosio;\n",
    "\n",
    "extern \"C\" {\n",
    "    void apply( uint64_t receiver, uint64_t code, uint64_t action ) {\n",
    "        if (\"sayhello\"_n.value == action) {\n",
    "            print(\"hello,world\\n\");\n",
    "            print(name(receiver).to_string());\n",
    "        }\n",
    "    }\n",
    "}\n",
    "'''\n",
    "\n",
    "publish_cpp_contract('helloworld11', code)\n",
    "\n",
    "name = 'helloworld11'\n",
    "try:\n",
    "    r = eosapi.push_action(name, 'sayhello', b'hello,world', {name:'active'})\n",
    "    print(r['processed']['action_traces'][0]['console'])\n",
    "    print(r['processed']['elapsed'])\n",
    "except Exception as e:\n",
    "    print(e)"
   ]
  },
  {
   "cell_type": "markdown",
   "metadata": {},
   "source": [
    "# current_receiver\n",
    "```c++\n",
    "inline name current_receiver()\n",
    "```"
   ]
  },
  {
   "cell_type": "code",
   "execution_count": 9,
   "metadata": {},
   "outputs": [
    {
     "name": "stdout",
     "output_type": "stream",
     "text": [
      "\n",
      "\n",
      "helloworld11\n",
      "369\n"
     ]
    }
   ],
   "source": [
    "from init import *\n",
    "code = r'''\n",
    "#include <string>\n",
    "#include <eosio/print.hpp>\n",
    "#include <eosio/name.hpp>\n",
    "#include <eosio/action.hpp>\n",
    "\n",
    "using namespace std;\n",
    "using namespace eosio;\n",
    "\n",
    "extern \"C\" {\n",
    "    void apply( uint64_t receiver, uint64_t code, uint64_t action ) {\n",
    "        if (\"sayhello\"_n.value == action) {\n",
    "            print(current_receiver());\n",
    "        }\n",
    "    }\n",
    "}\n",
    "'''\n",
    "\n",
    "publish_cpp_contract('helloworld11', code)\n",
    "\n",
    "name = 'helloworld11'\n",
    "try:\n",
    "    r = eosapi.push_action(name, 'sayhello', b'\\x0bhello,world', {name:'active'})\n",
    "    print(r['processed']['action_traces'][0]['console'])\n",
    "    print(r['processed']['elapsed'])\n",
    "except Exception as e:\n",
    "    print(e)"
   ]
  },
  {
   "cell_type": "markdown",
   "metadata": {},
   "source": [
    "# unpack_action_data\n",
    "```c++\n",
    "template<typename T>\n",
    "T unpack_action_data();\n",
    "```"
   ]
  },
  {
   "cell_type": "code",
   "execution_count": 7,
   "metadata": {},
   "outputs": [
    {
     "name": "stdout",
     "output_type": "stream",
     "text": [
      "\n",
      "\n",
      "hello,world\n",
      "192\n"
     ]
    }
   ],
   "source": [
    "from init import *\n",
    "code = r'''\n",
    "#include <string>\n",
    "#include <eosio/print.hpp>\n",
    "#include <eosio/name.hpp>\n",
    "#include <eosio/action.hpp>\n",
    "\n",
    "using namespace std;\n",
    "using namespace eosio;\n",
    "\n",
    "extern \"C\" {\n",
    "    void apply( uint64_t receiver, uint64_t code, uint64_t action ) {\n",
    "        if (\"sayhello\"_n.value == action) {\n",
    "            string s = unpack_action_data<string>();\n",
    "            print(s);\n",
    "        }\n",
    "    }\n",
    "}\n",
    "'''\n",
    "\n",
    "publish_cpp_contract('helloworld11', code)\n",
    "\n",
    "name = 'helloworld11'\n",
    "try:\n",
    "    r = eosapi.push_action(name, 'sayhello', b'\\x0bhello,world', {name:'active'})\n",
    "    print(r['processed']['action_traces'][0]['console'])\n",
    "    print(r['processed']['elapsed'])\n",
    "except Exception as e:\n",
    "    print(e)"
   ]
  },
  {
   "cell_type": "markdown",
   "metadata": {},
   "source": [
    "# is_account\n",
    "```c++\n",
    "inline bool is_account( name n )\n",
    "```"
   ]
  },
  {
   "cell_type": "code",
   "execution_count": 14,
   "metadata": {},
   "outputs": [
    {
     "name": "stdout",
     "output_type": "stream",
     "text": [
      "\n",
      "\n",
      "true\n",
      "false\n",
      "499\n"
     ]
    }
   ],
   "source": [
    "from init import *\n",
    "code = r'''\n",
    "#include <string>\n",
    "#include <eosio/print.hpp>\n",
    "#include <eosio/name.hpp>\n",
    "#include <eosio/action.hpp>\n",
    "\n",
    "using namespace std;\n",
    "using namespace eosio;\n",
    "\n",
    "extern \"C\" {\n",
    "    void apply( uint64_t receiver, uint64_t code, uint64_t action ) {\n",
    "        if (\"sayhello\"_n.value == action) {\n",
    "            print(is_account(name(\"helloworld11\")), \"\\n\");\n",
    "            print(is_account(name(\"notanaccount\")));\n",
    "        }\n",
    "    }\n",
    "}\n",
    "'''\n",
    "\n",
    "publish_cpp_contract('helloworld11', code)\n",
    "\n",
    "name = 'helloworld11'\n",
    "try:\n",
    "    r = eosapi.push_action(name, 'sayhello', b'\\x0bhello,world', {name:'active'})\n",
    "    print(r['processed']['action_traces'][0]['console'])\n",
    "    print(r['processed']['elapsed'])\n",
    "except Exception as e:\n",
    "    print(e)"
   ]
  },
  {
   "cell_type": "markdown",
   "metadata": {},
   "source": [
    "# publication_time\n",
    "```c++\n",
    "inline time_point  publication_time()\n",
    "```\n"
   ]
  },
  {
   "cell_type": "code",
   "execution_count": 28,
   "metadata": {},
   "outputs": [
    {
     "name": "stdout",
     "output_type": "stream",
     "text": [
      "\n",
      "\n",
      "1561384617500000\n",
      "177\n"
     ]
    }
   ],
   "source": [
    "from init import *\n",
    "code = r'''\n",
    "#include <string>\n",
    "#include <eosio/print.hpp>\n",
    "#include <eosio/name.hpp>\n",
    "#include <eosio/action.hpp>\n",
    "\n",
    "using namespace std;\n",
    "using namespace eosio;\n",
    "\n",
    "extern \"C\" {\n",
    "    void apply( uint64_t receiver, uint64_t code, uint64_t action ) {\n",
    "        if (\"sayhello\"_n.value == action) {\n",
    "            print(publication_time().elapsed.count());\n",
    "        }\n",
    "    }\n",
    "}\n",
    "'''\n",
    "\n",
    "publish_cpp_contract('helloworld11', code)\n",
    "\n",
    "name = 'helloworld11'\n",
    "try:\n",
    "    r = eosapi.push_action(name, 'sayhello', b'\\x0bhello,world', {name:'active'})\n",
    "    print(r['processed']['action_traces'][0]['console'])\n",
    "    print(r['processed']['elapsed'])\n",
    "except Exception as e:\n",
    "    print(e)"
   ]
  },
  {
   "cell_type": "code",
   "execution_count": 18,
   "metadata": {},
   "outputs": [
    {
     "data": {
      "text/plain": [
       "'Mon, 24 Jun 2019 21:43:34 GMT'"
      ]
     },
     "execution_count": 18,
     "metadata": {},
     "output_type": "execute_result"
    }
   ],
   "source": [
    "import time\n",
    "local_time = time.localtime(1561383814500000/1e6)\n",
    "time.strftime('%a, %d %b %Y %H:%M:%S GMT', local_time)"
   ]
  },
  {
   "cell_type": "markdown",
   "metadata": {},
   "source": [
    "# has_auth\n",
    "```c++\n",
    "inline bool has_auth( name n )\n",
    "```"
   ]
  },
  {
   "cell_type": "code",
   "execution_count": 20,
   "metadata": {},
   "outputs": [
    {
     "name": "stdout",
     "output_type": "stream",
     "text": [
      "\n",
      "\n",
      "true\n",
      "false\n",
      "545\n"
     ]
    }
   ],
   "source": [
    "from init import *\n",
    "code = r'''\n",
    "#include <string>\n",
    "#include <eosio/print.hpp>\n",
    "#include <eosio/name.hpp>\n",
    "#include <eosio/action.hpp>\n",
    "\n",
    "using namespace std;\n",
    "using namespace eosio;\n",
    "\n",
    "extern \"C\" {\n",
    "    void apply( uint64_t receiver, uint64_t code, uint64_t action ) {\n",
    "        if (\"sayhello\"_n.value == action) {\n",
    "            print(has_auth(name(\"helloworld11\")), \"\\n\");\n",
    "            print(has_auth(name(\"eosio\")));\n",
    "        }\n",
    "    }\n",
    "}\n",
    "'''\n",
    "\n",
    "publish_cpp_contract('helloworld11', code)\n",
    "\n",
    "name = 'helloworld11'\n",
    "try:\n",
    "    r = eosapi.push_action(name, 'sayhello', b'\\x0bhello,world', {name:'active'})\n",
    "    print(r['processed']['action_traces'][0]['console'])\n",
    "    print(r['processed']['elapsed'])\n",
    "except Exception as e:\n",
    "    print(e)"
   ]
  },
  {
   "cell_type": "markdown",
   "metadata": {},
   "source": [
    "# require_auth\n",
    "```c++\n",
    "inline void require_auth( const permission_level& level )\n",
    "```\n"
   ]
  },
  {
   "cell_type": "code",
   "execution_count": 22,
   "metadata": {},
   "outputs": [
    {
     "name": "stdout",
     "output_type": "stream",
     "text": [
      "\n",
      "\n",
      "\n",
      "507\n"
     ]
    }
   ],
   "source": [
    "from init import *\n",
    "code = r'''\n",
    "#include <string>\n",
    "#include <eosio/print.hpp>\n",
    "#include <eosio/name.hpp>\n",
    "#include <eosio/action.hpp>\n",
    "\n",
    "using namespace std;\n",
    "using namespace eosio;\n",
    "\n",
    "extern \"C\" {\n",
    "    void apply( uint64_t receiver, uint64_t code, uint64_t action ) {\n",
    "        if (\"sayhello\"_n.value == action) {\n",
    "            require_auth({name(\"helloworld11\"), name(\"active\")});\n",
    "        }\n",
    "    }\n",
    "}\n",
    "'''\n",
    "\n",
    "publish_cpp_contract('helloworld11', code)\n",
    "\n",
    "name = 'helloworld11'\n",
    "try:\n",
    "    r = eosapi.push_action(name, 'sayhello', b'\\x0bhello,world', {name:'active'})\n",
    "    print(r['processed']['action_traces'][0]['console'])\n",
    "    print(r['processed']['elapsed'])\n",
    "except Exception as e:\n",
    "    print(e)"
   ]
  },
  {
   "cell_type": "markdown",
   "metadata": {},
   "source": [
    "# publication_time/current_time\n",
    "```c++\n",
    "inline time_point  publication_time();\n",
    "uint64_t  current_time();\n",
    "```"
   ]
  },
  {
   "cell_type": "code",
   "execution_count": 30,
   "metadata": {},
   "outputs": [
    {
     "name": "stdout",
     "output_type": "stream",
     "text": [
      "\n",
      "\n",
      "1561384627000000\n",
      "1561384627000000\n",
      "\n",
      "292\n"
     ]
    }
   ],
   "source": [
    "from init import *\n",
    "code = r'''\n",
    "#include <string>\n",
    "#include <eosio/print.hpp>\n",
    "#include <eosio/name.hpp>\n",
    "#include <eosio/action.hpp>\n",
    "#include <eosio/system.h>\n",
    "\n",
    "using namespace std;\n",
    "using namespace eosio;\n",
    "\n",
    "extern \"C\" {\n",
    "    void apply( uint64_t receiver, uint64_t code, uint64_t action ) {\n",
    "        if (\"sayhello\"_n.value == action) {\n",
    "            print(::publication_time().elapsed.count(), \"\\n\");\n",
    "            print(current_time(), \"\\n\");\n",
    "        }\n",
    "    }\n",
    "}\n",
    "'''\n",
    "\n",
    "publish_cpp_contract('helloworld11', code)\n",
    "\n",
    "name = 'helloworld11'\n",
    "try:\n",
    "    r = eosapi.push_action(name, 'sayhello', b'\\x0bhello,world', {name:'active'})\n",
    "    print(r['processed']['action_traces'][0]['console'])\n",
    "    print(r['processed']['elapsed'])\n",
    "except Exception as e:\n",
    "    print(e)"
   ]
  },
  {
   "cell_type": "markdown",
   "metadata": {},
   "source": [
    "# check\n",
    "```c++\n",
    "inline void check(bool pred, const char* msg);\n",
    "```"
   ]
  },
  {
   "cell_type": "code",
   "execution_count": 33,
   "metadata": {},
   "outputs": [
    {
     "name": "stdout",
     "output_type": "stream",
     "text": [
      "\n",
      "\n",
      "\n",
      "195\n"
     ]
    }
   ],
   "source": [
    "from init import *\n",
    "code = r'''\n",
    "#include <string>\n",
    "#include <eosio/print.hpp>\n",
    "#include <eosio/name.hpp>\n",
    "#include <eosio/action.hpp>\n",
    "#include <eosio/system.h>\n",
    "\n",
    "using namespace std;\n",
    "using namespace eosio;\n",
    "\n",
    "extern \"C\" {\n",
    "    void apply( uint64_t receiver, uint64_t code, uint64_t action ) {\n",
    "        if (\"sayhello\"_n.value == action) {\n",
    "            check(name(receiver) == \"helloworld11\"_n, \"bad receiver\");\n",
    "        }\n",
    "    }\n",
    "}\n",
    "'''\n",
    "\n",
    "publish_cpp_contract('helloworld11', code)\n",
    "\n",
    "name = 'helloworld11'\n",
    "try:\n",
    "    r = eosapi.push_action(name, 'sayhello', b'\\x0bhello,world', {name:'active'})\n",
    "    print(r['processed']['action_traces'][0]['console'])\n",
    "    print(r['processed']['elapsed'])\n",
    "except Exception as e:\n",
    "    print(e)"
   ]
  }
 ],
 "metadata": {
  "kernelspec": {
   "display_name": "Python 3",
   "language": "python",
   "name": "python3"
  },
  "language_info": {
   "codemirror_mode": {
    "name": "ipython",
    "version": 3
   },
   "file_extension": ".py",
   "mimetype": "text/x-python",
   "name": "python",
   "nbconvert_exporter": "python",
   "pygments_lexer": "ipython3",
   "version": "3.7.3"
  }
 },
 "nbformat": 4,
 "nbformat_minor": 2
}
