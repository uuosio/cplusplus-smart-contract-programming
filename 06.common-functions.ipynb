{
 "cells": [
  {
   "cell_type": "code",
   "execution_count": 1,
   "metadata": {},
   "outputs": [],
   "source": [
    "from init import *"
   ]
  },
  {
   "cell_type": "markdown",
   "metadata": {},
   "source": [
    "# \"\"_n"
   ]
  },
  {
   "cell_type": "code",
   "execution_count": null,
   "metadata": {},
   "outputs": [],
   "source": [
    "code = r'''\n",
    "#include <eosio/print.hpp>\n",
    "#include <eosio/name.hpp>\n",
    "#include <eosio/action.hpp>\n",
    "\n",
    "using namespace eosio;\n",
    "\n",
    "extern \"C\" {\n",
    "    void apply( uint64_t receiver, uint64_t code, uint64_t action ) {\n",
    "        if (\"sayhello\"_n.value == action) {\n",
    "            print(\"hello,world\\n\");\n",
    "            print(name(receiver).to_string());\n",
    "        }\n",
    "    }\n",
    "}\n",
    "'''\n",
    "\n",
    "code = uuosapi.compile(test_account1, code, vm_type=0)\n",
    "r = uuosapi.deploy_code(test_account1, code, vm_type=0)\n",
    "print('done!')"
   ]
  },
  {
   "cell_type": "code",
   "execution_count": 3,
   "metadata": {},
   "outputs": [
    {
     "name": "stdout",
     "output_type": "stream",
     "text": [
      "hello,world\n",
      "wkpmdjdsztyu\n",
      "817\n"
     ]
    }
   ],
   "source": [
    "r = uuosapi.push_action(test_account1, 'sayhello', b'hello,world', {test_account1:'active'})\n",
    "print(r['processed']['action_traces'][0]['console'])\n",
    "print(r['processed']['elapsed'])"
   ]
  },
  {
   "cell_type": "markdown",
   "metadata": {},
   "source": [
    "# current_receiver\n",
    "```c++\n",
    "inline name current_receiver()\n",
    "```"
   ]
  },
  {
   "cell_type": "code",
   "execution_count": 4,
   "metadata": {},
   "outputs": [],
   "source": [
    "code = r'''\n",
    "#include <string>\n",
    "#include <eosio/print.hpp>\n",
    "#include <eosio/name.hpp>\n",
    "#include <eosio/action.hpp>\n",
    "\n",
    "using namespace std;\n",
    "using namespace eosio;\n",
    "\n",
    "extern \"C\" {\n",
    "    void apply( uint64_t receiver, uint64_t code, uint64_t action ) {\n",
    "        if (\"sayhello\"_n.value == action) {\n",
    "            print(current_receiver());\n",
    "        }\n",
    "    }\n",
    "}\n",
    "'''\n",
    "\n",
    "code = uuosapi.compile(test_account1, code, vm_type=0)\n",
    "r = uuosapi.deploy_code(test_account1, code, vm_type=0)\n",
    "print('done!')"
   ]
  },
  {
   "cell_type": "code",
   "execution_count": 5,
   "metadata": {},
   "outputs": [
    {
     "name": "stdout",
     "output_type": "stream",
     "text": [
      "wkpmdjdsztyu\n",
      "532\n"
     ]
    }
   ],
   "source": [
    "r = uuosapi.push_action(test_account1, 'sayhello', b'hello,world', {test_account1:'active'})\n",
    "print(r['processed']['action_traces'][0]['console'])\n",
    "print(r['processed']['elapsed'])"
   ]
  },
  {
   "cell_type": "markdown",
   "metadata": {},
   "source": [
    "# unpack_action_data\n",
    "```c++\n",
    "template<typename T>\n",
    "T unpack_action_data();\n",
    "```"
   ]
  },
  {
   "cell_type": "code",
   "execution_count": 10,
   "metadata": {},
   "outputs": [],
   "source": [
    "code = r'''\n",
    "#include <string>\n",
    "#include <eosio/print.hpp>\n",
    "#include <eosio/name.hpp>\n",
    "#include <eosio/action.hpp>\n",
    "\n",
    "using namespace std;\n",
    "using namespace eosio;\n",
    "\n",
    "extern \"C\" {\n",
    "    void apply( uint64_t receiver, uint64_t code, uint64_t action ) {\n",
    "        if (\"sayhello\"_n.value == action) {\n",
    "            string s = unpack_action_data<string>();\n",
    "            print(s);\n",
    "        }\n",
    "    }\n",
    "}\n",
    "'''\n",
    "\n",
    "code = uuosapi.compile(test_account1, code, vm_type=0)\n",
    "r = uuosapi.deploy_code(test_account1, code, vm_type=0)\n",
    "print('done!')"
   ]
  },
  {
   "cell_type": "code",
   "execution_count": 12,
   "metadata": {},
   "outputs": [
    {
     "name": "stdout",
     "output_type": "stream",
     "text": [
      "hello,world\n",
      "1018\n"
     ]
    }
   ],
   "source": [
    "r = uuosapi.push_action(test_account1, 'sayhello', b'\\x0bhello,world', {test_account1:'active'})\n",
    "print(r['processed']['action_traces'][0]['console'])\n",
    "print(r['processed']['elapsed'])"
   ]
  },
  {
   "cell_type": "markdown",
   "metadata": {},
   "source": [
    "# is_account\n",
    "```c++\n",
    "inline bool is_account( name n )\n",
    "```"
   ]
  },
  {
   "cell_type": "code",
   "execution_count": 15,
   "metadata": {},
   "outputs": [],
   "source": [
    "code = r'''\n",
    "#include <string>\n",
    "#include <eosio/print.hpp>\n",
    "#include <eosio/name.hpp>\n",
    "#include <eosio/action.hpp>\n",
    "\n",
    "using namespace std;\n",
    "using namespace eosio;\n",
    "\n",
    "extern \"C\" {\n",
    "    void apply( uint64_t receiver, uint64_t code, uint64_t action ) {\n",
    "        if (\"sayhello\"_n.value == action) {\n",
    "            print(is_account(name(receiver)), \"\\n\");\n",
    "            print(is_account(name(\"notanaccount\")));\n",
    "        }\n",
    "    }\n",
    "}\n",
    "'''\n",
    "\n",
    "code = uuosapi.compile(test_account1, code, vm_type=0)\n",
    "r = uuosapi.deploy_code(test_account1, code, vm_type=0)\n",
    "print('done!')\n"
   ]
  },
  {
   "cell_type": "code",
   "execution_count": 16,
   "metadata": {},
   "outputs": [
    {
     "name": "stdout",
     "output_type": "stream",
     "text": [
      "true\n",
      "false\n",
      "702\n"
     ]
    }
   ],
   "source": [
    "r = uuosapi.push_action(test_account1, 'sayhello', b'hello,world', {test_account1:'active'})\n",
    "print(r['processed']['action_traces'][0]['console'])\n",
    "print(r['processed']['elapsed'])"
   ]
  },
  {
   "cell_type": "markdown",
   "metadata": {},
   "source": [
    "# publication_time\n",
    "```c++\n",
    "inline time_point  publication_time()\n",
    "```\n"
   ]
  },
  {
   "cell_type": "code",
   "execution_count": 17,
   "metadata": {},
   "outputs": [
    {
     "name": "stdout",
     "output_type": "stream",
     "text": [
      "done\n"
     ]
    }
   ],
   "source": [
    "code = r'''\n",
    "#include <string>\n",
    "#include <eosio/print.hpp>\n",
    "#include <eosio/name.hpp>\n",
    "#include <eosio/action.hpp>\n",
    "\n",
    "using namespace std;\n",
    "using namespace eosio;\n",
    "\n",
    "extern \"C\" {\n",
    "    void apply( uint64_t receiver, uint64_t code, uint64_t action ) {\n",
    "        if (\"sayhello\"_n.value == action) {\n",
    "            print(publication_time().elapsed.count());\n",
    "        }\n",
    "    }\n",
    "}\n",
    "'''\n",
    "\n",
    "code = uuosapi.compile(test_account1, code, vm_type=0)\n",
    "r = uuosapi.deploy_code(test_account1, code, vm_type=0)\n",
    "print('done!')"
   ]
  },
  {
   "cell_type": "code",
   "execution_count": 18,
   "metadata": {},
   "outputs": [
    {
     "name": "stdout",
     "output_type": "stream",
     "text": [
      "1610417658000000\n",
      "574\n"
     ]
    }
   ],
   "source": [
    "r = uuosapi.push_action(test_account1, 'sayhello', b'hello,world', {test_account1:'active'})\n",
    "print(r['processed']['action_traces'][0]['console'])\n",
    "print(r['processed']['elapsed'])"
   ]
  },
  {
   "cell_type": "code",
   "execution_count": 19,
   "metadata": {},
   "outputs": [
    {
     "data": {
      "text/plain": [
       "'Tue, 12 Jan 2021 10:14:18 GMT'"
      ]
     },
     "execution_count": 19,
     "metadata": {},
     "output_type": "execute_result"
    }
   ],
   "source": [
    "import time\n",
    "local_time = time.localtime(1610417658000000/1e6)\n",
    "time.strftime('%a, %d %b %Y %H:%M:%S GMT', local_time)"
   ]
  },
  {
   "cell_type": "markdown",
   "metadata": {},
   "source": [
    "# has_auth\n",
    "```c++\n",
    "inline bool has_auth( name n )\n",
    "```"
   ]
  },
  {
   "cell_type": "code",
   "execution_count": 20,
   "metadata": {},
   "outputs": [
    {
     "name": "stdout",
     "output_type": "stream",
     "text": [
      "done!\n"
     ]
    }
   ],
   "source": [
    "code = r'''\n",
    "#include <string>\n",
    "#include <eosio/print.hpp>\n",
    "#include <eosio/name.hpp>\n",
    "#include <eosio/action.hpp>\n",
    "\n",
    "using namespace std;\n",
    "using namespace eosio;\n",
    "\n",
    "extern \"C\" {\n",
    "    void apply( uint64_t receiver, uint64_t code, uint64_t action ) {\n",
    "        if (\"sayhello\"_n.value == action) {\n",
    "            print(has_auth(name(\"helloworld11\")), \"\\n\");\n",
    "            print(has_auth(name(\"eosio\")));\n",
    "        }\n",
    "    }\n",
    "}\n",
    "'''\n",
    "code = uuosapi.compile(test_account1, code, vm_type=0)\n",
    "r = uuosapi.deploy_code(test_account1, code, vm_type=0)\n",
    "print('done!')"
   ]
  },
  {
   "cell_type": "code",
   "execution_count": 21,
   "metadata": {},
   "outputs": [
    {
     "name": "stdout",
     "output_type": "stream",
     "text": [
      "false\n",
      "false\n",
      "756\n"
     ]
    }
   ],
   "source": [
    "r = uuosapi.push_action(test_account1, 'sayhello', b'hello,world', {test_account1:'active'})\n",
    "print(r['processed']['action_traces'][0]['console'])\n",
    "print(r['processed']['elapsed'])"
   ]
  },
  {
   "cell_type": "markdown",
   "metadata": {},
   "source": [
    "# require_auth\n",
    "```c++\n",
    "inline void require_auth( const permission_level& level )\n",
    "```\n"
   ]
  },
  {
   "cell_type": "code",
   "execution_count": 24,
   "metadata": {},
   "outputs": [
    {
     "name": "stdout",
     "output_type": "stream",
     "text": [
      "done!\n"
     ]
    }
   ],
   "source": [
    "code = r'''\n",
    "#include <string>\n",
    "#include <eosio/print.hpp>\n",
    "#include <eosio/name.hpp>\n",
    "#include <eosio/action.hpp>\n",
    "\n",
    "using namespace std;\n",
    "using namespace eosio;\n",
    "\n",
    "extern \"C\" {\n",
    "    void apply( uint64_t receiver, uint64_t code, uint64_t action ) {\n",
    "        if (\"sayhello\"_n.value == action) {\n",
    "            require_auth({name(receiver), name(\"active\")});\n",
    "        }\n",
    "    }\n",
    "}\n",
    "'''\n",
    "code = uuosapi.compile(test_account1, code, vm_type=0)\n",
    "r = uuosapi.deploy_code(test_account1, code, vm_type=0)\n",
    "print('done!')"
   ]
  },
  {
   "cell_type": "code",
   "execution_count": 25,
   "metadata": {},
   "outputs": [
    {
     "name": "stdout",
     "output_type": "stream",
     "text": [
      "\n",
      "664\n"
     ]
    }
   ],
   "source": [
    "r = uuosapi.push_action(test_account1, 'sayhello', b'hello,world', {test_account1:'active'})\n",
    "print(r['processed']['action_traces'][0]['console'])\n",
    "print(r['processed']['elapsed'])"
   ]
  },
  {
   "cell_type": "markdown",
   "metadata": {},
   "source": [
    "# publication_time/current_time\n",
    "```c++\n",
    "inline time_point  publication_time();\n",
    "uint64_t  current_time();\n",
    "```"
   ]
  },
  {
   "cell_type": "code",
   "execution_count": 26,
   "metadata": {},
   "outputs": [
    {
     "name": "stdout",
     "output_type": "stream",
     "text": [
      "done!\n"
     ]
    }
   ],
   "source": [
    "code = r'''\n",
    "#include <string>\n",
    "#include <eosio/print.hpp>\n",
    "#include <eosio/name.hpp>\n",
    "#include <eosio/action.hpp>\n",
    "#include <eosio/system.h>\n",
    "\n",
    "using namespace std;\n",
    "using namespace eosio;\n",
    "\n",
    "extern \"C\" {\n",
    "    void apply( uint64_t receiver, uint64_t code, uint64_t action ) {\n",
    "        if (\"sayhello\"_n.value == action) {\n",
    "            print(::publication_time().elapsed.count(), \"\\n\");\n",
    "            print(current_time(), \"\\n\");\n",
    "        }\n",
    "    }\n",
    "}\n",
    "'''\n",
    "\n",
    "code = uuosapi.compile(test_account1, code, vm_type=0)\n",
    "r = uuosapi.deploy_code(test_account1, code, vm_type=0)\n",
    "print('done!')\n"
   ]
  },
  {
   "cell_type": "code",
   "execution_count": 27,
   "metadata": {},
   "outputs": [
    {
     "name": "stdout",
     "output_type": "stream",
     "text": [
      "1610417815500000\n",
      "1610417815500000\n",
      "\n",
      "560\n"
     ]
    }
   ],
   "source": [
    "r = uuosapi.push_action(test_account1, 'sayhello', b'hello,world', {test_account1:'active'})\n",
    "print(r['processed']['action_traces'][0]['console'])\n",
    "print(r['processed']['elapsed'])"
   ]
  },
  {
   "cell_type": "markdown",
   "metadata": {},
   "source": [
    "# check\n",
    "```c++\n",
    "inline void check(bool pred, const char* msg);\n",
    "```"
   ]
  },
  {
   "cell_type": "code",
   "execution_count": 30,
   "metadata": {},
   "outputs": [
    {
     "data": {
      "text/plain": [
       "'wkpmdjdsztyu'"
      ]
     },
     "execution_count": 30,
     "metadata": {},
     "output_type": "execute_result"
    }
   ],
   "source": [
    "test_account1"
   ]
  },
  {
   "cell_type": "code",
   "execution_count": 31,
   "metadata": {},
   "outputs": [
    {
     "name": "stdout",
     "output_type": "stream",
     "text": [
      "done!\n"
     ]
    }
   ],
   "source": [
    "code = r'''\n",
    "#include <string>\n",
    "#include <eosio/print.hpp>\n",
    "#include <eosio/name.hpp>\n",
    "#include <eosio/action.hpp>\n",
    "#include <eosio/system.h>\n",
    "\n",
    "using namespace std;\n",
    "using namespace eosio;\n",
    "\n",
    "extern \"C\" {\n",
    "    void apply( uint64_t receiver, uint64_t code, uint64_t action ) {\n",
    "        if (\"sayhello\"_n.value == action) {\n",
    "            check(name(receiver) == \"wkpmdjdsztyu\"_n, \"bad receiver\");\n",
    "        }\n",
    "    }\n",
    "}\n",
    "'''\n",
    "\n",
    "code = uuosapi.compile(test_account1, code, vm_type=0)\n",
    "r = uuosapi.deploy_code(test_account1, code, vm_type=0)\n",
    "print('done!')"
   ]
  },
  {
   "cell_type": "code",
   "execution_count": 32,
   "metadata": {},
   "outputs": [
    {
     "name": "stdout",
     "output_type": "stream",
     "text": [
      "\n",
      "467\n"
     ]
    }
   ],
   "source": [
    "r = uuosapi.push_action(test_account1, 'sayhello', b'hello,world', {test_account1:'active'})\n",
    "print(r['processed']['action_traces'][0]['console'])\n",
    "print(r['processed']['elapsed'])"
   ]
  }
 ],
 "metadata": {
  "kernelspec": {
   "display_name": "Python 3",
   "language": "python",
   "name": "python3"
  },
  "language_info": {
   "codemirror_mode": {
    "name": "ipython",
    "version": 3
   },
   "file_extension": ".py",
   "mimetype": "text/x-python",
   "name": "python",
   "nbconvert_exporter": "python",
   "pygments_lexer": "ipython3",
   "version": "3.7.4"
  }
 },
 "nbformat": 4,
 "nbformat_minor": 2
}
