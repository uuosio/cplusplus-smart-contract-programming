{
 "cells": [
  {
   "cell_type": "markdown",
   "metadata": {},
   "source": [
    "[eosio.token.cpp](https://github.com/EOSIO/eosio.contracts/blob/c046863a65d7e98424312ee8009f0acb493e6231/contracts/eosio.token/src/eosio.token.cpp#L87)"
   ]
  },
  {
   "cell_type": "markdown",
   "metadata": {},
   "source": [
    "```C++\n",
    "void token::transfer( name    from,\n",
    "                      name    to,\n",
    "                      asset   quantity,\n",
    "                      string  memo )\n",
    "{\n",
    "    check( from != to, \"cannot transfer to self\" );\n",
    "    require_auth( from );\n",
    "    check( is_account( to ), \"to account does not exist\");\n",
    "    auto sym = quantity.symbol.code();\n",
    "    stats statstable( _self, sym.raw() );\n",
    "    const auto& st = statstable.get( sym.raw() );\n",
    "\n",
    "    require_recipient( from );\n",
    "    require_recipient( to );\n",
    "\n",
    "    check( quantity.is_valid(), \"invalid quantity\" );\n",
    "    check( quantity.amount > 0, \"must transfer positive quantity\" );\n",
    "    check( quantity.symbol == st.supply.symbol, \"symbol precision mismatch\" );\n",
    "    check( memo.size() <= 256, \"memo has more than 256 bytes\" );\n",
    "\n",
    "    auto payer = has_auth( to ) ? to : from;\n",
    "\n",
    "    sub_balance( from, quantity );\n",
    "    add_balance( to, quantity, payer );\n",
    "}\n",
    "```"
   ]
  },
  {
   "cell_type": "code",
   "execution_count": 43,
   "metadata": {},
   "outputs": [
    {
     "name": "stdout",
     "output_type": "stream",
     "text": [
      "\n",
      "\n",
      "done!\n"
     ]
    }
   ],
   "source": [
    "from init import *\n",
    "\n",
    "code = r'''\n",
    "#include <string>\n",
    "#include <eosio/print.hpp>\n",
    "#include <eosio/name.hpp>\n",
    "#include <eosio/action.hpp>\n",
    "#include <eosio/asset.hpp>\n",
    "\n",
    "using namespace std;\n",
    "using namespace eosio;\n",
    "\n",
    "struct transfer {\n",
    "    name from;\n",
    "    name to;\n",
    "    asset amount;\n",
    "    string memo;\n",
    "    EOSLIB_SERIALIZE( transfer, (from)(to)(amount)(memo) )\n",
    "};\n",
    "\n",
    "extern \"C\" {\n",
    "    void apply( uint64_t receiver, uint64_t code, uint64_t action ) {\n",
    "        print(name(receiver), \" \", name(code), \" \", name(action), \"\\n\");\n",
    "        if (name(code) == \"eosio.token\"_n && name(action) == \"transfer\"_n) {\n",
    "            auto t = unpack_action_data<transfer>();\n",
    "            if (t.to == \"helloworld33\"_n && t.amount.symbol == symbol(\"UUOS\", 4)) {\n",
    "                print(t.memo, \"\\n\");\n",
    "            }\n",
    "        }\n",
    "    }\n",
    "}\n",
    "'''\n",
    "\n",
    "publish_cpp_contract('helloworld33', code)\n",
    "print('done!')"
   ]
  },
  {
   "cell_type": "code",
   "execution_count": 45,
   "metadata": {},
   "outputs": [
    {
     "name": "stdout",
     "output_type": "stream",
     "text": [
      "\n",
      "\n",
      "helloworld33 eosio.token transfer\n",
      "hello,world\n",
      "\n",
      "425\n"
     ]
    }
   ],
   "source": [
    "from pyeoskit import db\n",
    "db.reset()\n",
    "name = 'helloworld11'\n",
    "try:\n",
    "    r = eosapi.transfer('helloworld11', 'helloworld33', 10.0, 'hello,world')\n",
    "    print(r['processed']['action_traces'][0]['console'])\n",
    "    print(r['processed']['action_traces'][0]['inline_traces'][0]['console'])\n",
    "    print(r['processed']['action_traces'][0]['inline_traces'][1]['console'])\n",
    "    print(r['processed']['elapsed'])\n",
    "except Exception as e:\n",
    "    print(e)"
   ]
  }
 ],
 "metadata": {
  "kernelspec": {
   "display_name": "Python 3",
   "language": "python",
   "name": "python3"
  },
  "language_info": {
   "codemirror_mode": {
    "name": "ipython",
    "version": 3
   },
   "file_extension": ".py",
   "mimetype": "text/x-python",
   "name": "python",
   "nbconvert_exporter": "python",
   "pygments_lexer": "ipython3",
   "version": "3.7.3"
  }
 },
 "nbformat": 4,
 "nbformat_minor": 2
}
