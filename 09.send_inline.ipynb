{
 "cells": [
  {
   "cell_type": "code",
   "execution_count": 1,
   "metadata": {},
   "outputs": [],
   "source": [
    "from init import *"
   ]
  },
  {
   "cell_type": "code",
   "execution_count": 2,
   "metadata": {
    "scrolled": true
   },
   "outputs": [
    {
     "data": {
      "text/plain": [
       "{'account_name': 'wkpmdjdsztyu',\n",
       " 'head_block_num': 45474317,\n",
       " 'head_block_time': '2021-01-12T02:25:42.000',\n",
       " 'privileged': False,\n",
       " 'last_code_update': '2021-01-12T02:24:33.000',\n",
       " 'created': '2020-11-30T02:21:01.000',\n",
       " 'core_liquid_balance': '75.6720 EOS',\n",
       " 'ram_quota': 141621,\n",
       " 'net_weight': 110000,\n",
       " 'cpu_weight': 110000,\n",
       " 'net_limit': {'used': 60800, 'available': 26297895, 'max': 26358695},\n",
       " 'cpu_limit': {'used': 135920, 'available': 4891120, 'max': 5027040},\n",
       " 'ram_usage': 95559,\n",
       " 'permissions': [{'perm_name': 'active',\n",
       "   'parent': 'owner',\n",
       "   'required_auth': {'threshold': 1,\n",
       "    'keys': [{'key': 'EOS4yV91cqR6db8ntKtCLFVwWfvvvDMZctpd85GsaX5GUMaiqUWYL',\n",
       "      'weight': 1}],\n",
       "    'accounts': [],\n",
       "    'waits': []}},\n",
       "  {'perm_name': 'owner',\n",
       "   'parent': '',\n",
       "   'required_auth': {'threshold': 1,\n",
       "    'keys': [{'key': 'EOS7iPioB1Uscn14dYdw5PrqAHVU2F54Bi3kJ1qr6WbRe1tMtHGEo',\n",
       "      'weight': 1}],\n",
       "    'accounts': [],\n",
       "    'waits': []}}],\n",
       " 'total_resources': {'owner': 'wkpmdjdsztyu',\n",
       "  'net_weight': '11.0000 EOS',\n",
       "  'cpu_weight': '11.0000 EOS',\n",
       "  'ram_bytes': 140221},\n",
       " 'self_delegated_bandwidth': {'from': 'wkpmdjdsztyu',\n",
       "  'to': 'wkpmdjdsztyu',\n",
       "  'net_weight': '11.0000 EOS',\n",
       "  'cpu_weight': '11.0000 EOS'},\n",
       " 'refund_request': None,\n",
       " 'voter_info': {'owner': 'wkpmdjdsztyu',\n",
       "  'proxy': '',\n",
       "  'producers': [],\n",
       "  'staked': 220000,\n",
       "  'last_vote_weight': '0.00000000000000000',\n",
       "  'proxied_vote_weight': '0.00000000000000000',\n",
       "  'is_proxy': 0,\n",
       "  'flags1': 0,\n",
       "  'reserved2': 0,\n",
       "  'reserved3': '0 '},\n",
       " 'rex_info': None}"
      ]
     },
     "execution_count": 2,
     "metadata": {},
     "output_type": "execute_result"
    }
   ],
   "source": [
    "uuosapi.get_account(test_account1)"
   ]
  },
  {
   "cell_type": "code",
   "execution_count": 4,
   "metadata": {},
   "outputs": [
    {
     "name": "stdout",
     "output_type": "stream",
     "text": [
      "done!\n"
     ]
    }
   ],
   "source": [
    "a = {\n",
    "    \"account\": test_account1,\n",
    "    \"permission\": \"active\",\n",
    "    \"parent\": \"owner\",\n",
    "    \"auth\": {\n",
    "        \"threshold\": 1,\n",
    "        \"keys\": [\n",
    "            {\n",
    "                \"key\": \"EOS4yV91cqR6db8ntKtCLFVwWfvvvDMZctpd85GsaX5GUMaiqUWYL\",\n",
    "                \"weight\": 1\n",
    "            },\n",
    "        ],\n",
    "        \"accounts\": [{\"permission\":{\"actor\":test_account1,\"permission\":\"eosio.code\"},\"weight\":1}],\n",
    "        \"waits\": []\n",
    "    }\n",
    "}\n",
    "r = uuosapi.push_action('eosio', 'updateauth', a, {test_account1:'active'})\n",
    "print('done!')"
   ]
  },
  {
   "cell_type": "code",
   "execution_count": 6,
   "metadata": {},
   "outputs": [
    {
     "data": {
      "text/plain": [
       "'wkpmdjdsztyu'"
      ]
     },
     "execution_count": 6,
     "metadata": {},
     "output_type": "execute_result"
    }
   ],
   "source": [
    "test_account1"
   ]
  },
  {
   "cell_type": "code",
   "execution_count": 7,
   "metadata": {},
   "outputs": [
    {
     "name": "stdout",
     "output_type": "stream",
     "text": [
      "done!\n"
     ]
    }
   ],
   "source": [
    "code = r'''\n",
    "#include <vector>\n",
    "#include <eosio/print.hpp>\n",
    "#include <eosio/name.hpp>\n",
    "#include <eosio/action.hpp>\n",
    "#include <eosio/asset.hpp>\n",
    "\n",
    "using namespace std;\n",
    "using namespace eosio;\n",
    "\n",
    "#define N(name) name##_n.value\n",
    "\n",
    "struct transfer {\n",
    "    name from;\n",
    "    name to;\n",
    "    asset amount;\n",
    "    string memo;\n",
    "    EOSLIB_SERIALIZE( transfer, (from)(to)(amount)(memo) )\n",
    "};\n",
    "\n",
    "\n",
    "extern \"C\" {\n",
    "    void apply( uint64_t receiver, uint64_t code, uint64_t action ) {\n",
    "        if (N(\"sayhello\") == action) {\n",
    "            eosio::print(\"hello,world\\n\");\n",
    "            name sender(\"wkpmdjdsztyu\");\n",
    "            struct action a;\n",
    "            a.account = \"eosio.token\"_n;\n",
    "            a.name = \"transfer\"_n;\n",
    "            a.authorization.push_back({sender, \"active\"_n});\n",
    "            \n",
    "            transfer t;\n",
    "            t.from = sender;\n",
    "            t.to = \"eosio\"_n;\n",
    "            t.amount.amount = 10000;\n",
    "            t.amount.symbol = symbol(\"EOS\", 4);\n",
    "            a.data = eosio::pack<transfer>(t);\n",
    "            a.send();\n",
    "        }\n",
    "    }\n",
    "}\n",
    "'''\n",
    "code = uuosapi.compile(test_account1, code, vm_type=0)\n",
    "uuosapi.deploy_code(test_account1, code, vm_type=0)\n",
    "print('done!')"
   ]
  },
  {
   "cell_type": "code",
   "execution_count": 8,
   "metadata": {},
   "outputs": [
    {
     "data": {
      "text/plain": [
       "(75.672, 798712554.4884)"
      ]
     },
     "execution_count": 8,
     "metadata": {},
     "output_type": "execute_result"
    }
   ],
   "source": [
    "uuosapi.get_balance(test_account1), uuosapi.get_balance('eosio')"
   ]
  },
  {
   "cell_type": "code",
   "execution_count": 9,
   "metadata": {},
   "outputs": [
    {
     "name": "stdout",
     "output_type": "stream",
     "text": [
      "hello,world\n",
      "\n",
      "1596\n"
     ]
    }
   ],
   "source": [
    "r = uuosapi.push_action(test_account1, 'sayhello', b'hello,world', {test_account1:'active'})\n",
    "print(r['processed']['action_traces'][0]['console'])\n",
    "print(r['processed']['elapsed'])"
   ]
  },
  {
   "cell_type": "code",
   "execution_count": 10,
   "metadata": {},
   "outputs": [
    {
     "data": {
      "text/plain": [
       "(74.672, 798712555.4884)"
      ]
     },
     "execution_count": 10,
     "metadata": {},
     "output_type": "execute_result"
    }
   ],
   "source": [
    "uuosapi.get_balance(test_account1), uuosapi.get_balance('eosio')"
   ]
  }
 ],
 "metadata": {
  "kernelspec": {
   "display_name": "Python 3",
   "language": "python",
   "name": "python3"
  },
  "language_info": {
   "codemirror_mode": {
    "name": "ipython",
    "version": 3
   },
   "file_extension": ".py",
   "mimetype": "text/x-python",
   "name": "python",
   "nbconvert_exporter": "python",
   "pygments_lexer": "ipython3",
   "version": "3.7.4"
  }
 },
 "nbformat": 4,
 "nbformat_minor": 2
}
