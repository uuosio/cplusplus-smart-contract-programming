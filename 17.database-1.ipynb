{
 "cells": [
  {
   "cell_type": "code",
   "execution_count": 12,
   "metadata": {},
   "outputs": [],
   "source": [
    "from init import *\n",
    "#eosapi.set_nodes(['https://nodes.uuos.network:8443'])\n",
    "eosapi.set_nodes(['http://127.0.0.1:8888'])\n"
   ]
  },
  {
   "cell_type": "markdown",
   "metadata": {},
   "source": [
    "### db_store_i64\n",
    "\n",
    "```c++\n",
    "int32_t db_store_i64(uint64_t scope, capi_name table, capi_name payer, uint64_t id,  const void* data, uint32_t len);\n",
    "\n",
    "```"
   ]
  },
  {
   "cell_type": "code",
   "execution_count": 8,
   "metadata": {},
   "outputs": [
    {
     "name": "stdout",
     "output_type": "stream",
     "text": [
      "\n",
      "\n",
      "update contract\n",
      "0\n",
      "402\n"
     ]
    }
   ],
   "source": [
    "from init import *\n",
    "code = r'''\n",
    "#include <eosio/print.hpp>\n",
    "#include <eosio/name.hpp>\n",
    "#include <eosio/db.h>\n",
    "\n",
    "using namespace eosio;\n",
    "\n",
    "#define N(name) name##_n.value\n",
    "\n",
    "extern \"C\" {\n",
    "    void apply( uint64_t receiver, uint64_t code, uint64_t action ) {\n",
    "        if (N(\"sayhello\") == action) {\n",
    "            uint64_t scope = \"scope\"_n.value;\n",
    "            uint64_t table = \"table\"_n.value;\n",
    "            uint64_t payer = \"helloworld11\"_n.value;\n",
    "            uint64_t id = \"id\"_n.value;\n",
    "            int32_t itr = db_store_i64(scope, table, payer, id,  \"hello,world\", 11);\n",
    "            print(itr);\n",
    "        }\n",
    "    }\n",
    "}\n",
    "'''\n",
    "\n",
    "publish_cpp_contract('helloworld11', code)\n",
    "\n",
    "name = 'helloworld11'\n",
    "try:\n",
    "    r = eosapi.push_action(name, 'sayhello', b'hello,world', {name:'active'})\n",
    "    print(r['processed']['action_traces'][0]['console'])\n",
    "except Exception as e:\n",
    "    print(e)"
   ]
  },
  {
   "cell_type": "markdown",
   "metadata": {},
   "source": [
    "### db_find_i64\n",
    "\n",
    "```c++\n",
    "int32_t db_find_i64(capi_name code, uint64_t scope, capi_name table, uint64_t id);\n",
    "```"
   ]
  },
  {
   "cell_type": "code",
   "execution_count": 15,
   "metadata": {},
   "outputs": [
    {
     "name": "stdout",
     "output_type": "stream",
     "text": [
      "\n",
      "\n",
      "0\n"
     ]
    }
   ],
   "source": [
    "from init import *\n",
    "code = r'''\n",
    "#include <eosio/print.hpp>\n",
    "#include <eosio/name.hpp>\n",
    "#include <eosio/db.h>\n",
    "\n",
    "using namespace eosio;\n",
    "\n",
    "#define N(name) name##_n.value\n",
    "\n",
    "extern \"C\" {\n",
    "    void apply( uint64_t receiver, uint64_t code, uint64_t action ) {\n",
    "        if (N(\"sayhello\") == action) {\n",
    "            uint64_t code = \"helloworld11\"_n.value;\n",
    "            uint64_t scope = \"scope\"_n.value;\n",
    "            uint64_t table = \"table\"_n.value;\n",
    "            uint64_t payer = \"helloworld11\"_n.value;\n",
    "            uint64_t id = \"id\"_n.value;\n",
    "            int32_t itr = db_find_i64(code, scope, table, id);\n",
    "            print(itr);\n",
    "        }\n",
    "    }\n",
    "}\n",
    "'''\n",
    "\n",
    "publish_cpp_contract('helloworld11', code)\n",
    "\n",
    "name = 'helloworld11'\n",
    "try:\n",
    "    r = eosapi.push_action(name, 'sayhello', b'hello,world', {name:'active'})\n",
    "    print(r['processed']['action_traces'][0]['console'])\n",
    "except Exception as e:\n",
    "    print(e)\n",
    "    "
   ]
  },
  {
   "cell_type": "markdown",
   "metadata": {},
   "source": [
    "### db_get_i64\n",
    "\n",
    "```c++\n",
    "int32_t db_get_i64(int32_t iterator, const void* data, uint32_t len);\n",
    "```"
   ]
  },
  {
   "cell_type": "code",
   "execution_count": 20,
   "metadata": {},
   "outputs": [
    {
     "name": "stdout",
     "output_type": "stream",
     "text": [
      "\n",
      "\n",
      "update contract\n",
      "0 hello,world\n"
     ]
    }
   ],
   "source": [
    "from init import *\n",
    "code = r'''\n",
    "#include <string>\n",
    "#include <eosio/print.hpp>\n",
    "#include <eosio/name.hpp>\n",
    "#include <eosio/db.h>\n",
    "\n",
    "using namespace eosio;\n",
    "\n",
    "#define N(name) name##_n.value\n",
    "\n",
    "extern \"C\" {\n",
    "    void apply( uint64_t receiver, uint64_t code, uint64_t action ) {\n",
    "        if (N(\"sayhello\") == action) {\n",
    "            uint64_t code = \"helloworld11\"_n.value;\n",
    "            uint64_t scope = \"scope\"_n.value;\n",
    "            uint64_t table = \"table\"_n.value;\n",
    "            uint64_t payer = \"helloworld11\"_n.value;\n",
    "            uint64_t id = \"id\"_n.value;\n",
    "            int32_t itr = db_find_i64(code, scope, table, id);\n",
    "            print(itr, \" \");\n",
    "            int32_t len = db_get_i64(itr, nullptr, 0);\n",
    "            std::string s(len, 0);\n",
    "            db_get_i64(itr, (char *)s.c_str(), len);\n",
    "            print(s);\n",
    "        }\n",
    "    }\n",
    "}\n",
    "'''\n",
    "\n",
    "publish_cpp_contract('helloworld11', code)\n",
    "\n",
    "name = 'helloworld11'\n",
    "try:\n",
    "    r = eosapi.push_action(name, 'sayhello', b'hello,world', {name:'active'})\n",
    "    print(r['processed']['action_traces'][0]['console'])\n",
    "except Exception as e:\n",
    "    print(e)"
   ]
  },
  {
   "cell_type": "markdown",
   "metadata": {},
   "source": [
    "### db_update_i64\n",
    "\n",
    "```c++\n",
    "void db_update_i64(int32_t iterator, capi_name payer, const void* data, uint32_t len);\n",
    "```"
   ]
  },
  {
   "cell_type": "code",
   "execution_count": 26,
   "metadata": {},
   "outputs": [
    {
     "name": "stdout",
     "output_type": "stream",
     "text": [
      "\n",
      "\n",
      "0\n"
     ]
    }
   ],
   "source": [
    "from init import *\n",
    "code = r'''\n",
    "#include <vector>\n",
    "#include <eosio/print.hpp>\n",
    "#include <eosio/name.hpp>\n",
    "#include <eosio/action.hpp>\n",
    "#include <eosio/db.h>\n",
    "\n",
    "using namespace std;\n",
    "using namespace eosio;\n",
    "\n",
    "#define N(name) name##_n.value\n",
    "\n",
    "extern \"C\" {\n",
    "    void apply( uint64_t receiver, uint64_t code, uint64_t action ) {\n",
    "        if (N(\"sayhello\") == action) {\n",
    "            uint64_t code = \"helloworld11\"_n.value;\n",
    "            uint64_t scope = \"scope\"_n.value;\n",
    "            uint64_t table = \"table\"_n.value;\n",
    "            uint64_t payer = \"helloworld11\"_n.value;\n",
    "            uint64_t id = \"id\"_n.value;\n",
    "            \n",
    "            int32_t itr = db_find_i64(code, scope, table, id);\n",
    "            if (itr < 0) {\n",
    "                db_store_i64(scope, table, payer, id,  \"hello,world\", 11);\n",
    "            } else {\n",
    "                vector<char> v = unpack_action_data<vector<char>>();\n",
    "                db_update_i64(itr, payer, v.data(), v.size());\n",
    "            }\n",
    "            print(itr);\n",
    "        }\n",
    "    }\n",
    "}\n",
    "'''\n",
    "\n",
    "publish_cpp_contract('helloworld11', code)\n",
    "\n",
    "name = 'helloworld11'\n",
    "try:\n",
    "    r = eosapi.push_action(name, 'sayhello', b'\\x0bhello,world', {name:'active'})\n",
    "    print(r['processed']['action_traces'][0]['console'])\n",
    "except Exception as e:\n",
    "    print(e)"
   ]
  },
  {
   "cell_type": "markdown",
   "metadata": {},
   "source": [
    "### db_lowerbound_i64\n",
    "\n",
    "```c++\n",
    "int32_t db_lowerbound_i64(capi_name code, uint64_t scope, capi_name table, uint64_t id);\n",
    "```\n",
    "\n",
    "### db_upperbound_i64\n",
    "\n",
    "```c++\n",
    "int32_t db_upperbound_i64(capi_name code, uint64_t scope, capi_name table, uint64_t id);\n",
    "```"
   ]
  },
  {
   "cell_type": "code",
   "execution_count": 57,
   "metadata": {},
   "outputs": [
    {
     "name": "stdout",
     "output_type": "stream",
     "text": [
      "\n",
      "\n",
      "update contract\n"
     ]
    }
   ],
   "source": [
    "from init import *\n",
    "code = r'''\n",
    "#include <vector>\n",
    "#include <eosio/print.hpp>\n",
    "#include <eosio/name.hpp>\n",
    "#include <eosio/action.hpp>\n",
    "#include <eosio/db.h>\n",
    "\n",
    "using namespace std;\n",
    "using namespace eosio;\n",
    "\n",
    "#define N(name) name##_n.value\n",
    "\n",
    "extern \"C\" {\n",
    "    void apply( uint64_t receiver, uint64_t first_receiver, uint64_t action ) {\n",
    "        uint64_t code = \"helloworld11\"_n.value;\n",
    "        uint64_t scope = \"scope\"_n.value;\n",
    "        uint64_t table = \"table\"_n.value;\n",
    "        uint64_t payer = \"helloworld11\"_n.value;\n",
    "        uint64_t id = \"myid\"_n.value;\n",
    "    \n",
    "        if (N(\"destroy\") == action) {\n",
    "            while(true) {\n",
    "                uint64_t primary;\n",
    "                int32_t itr = db_end_i64(code, scope, table);\n",
    "                if (itr == -1) {\n",
    "                    break;\n",
    "                }\n",
    "                itr = db_previous_i64(itr, &primary);\n",
    "                db_remove_i64(itr);\n",
    "            }\n",
    "            print(\"destroy done!\\n\");\n",
    "        } else if (N(\"init\") == action) {\n",
    "            db_store_i64(scope, table, payer, 1, \"1\", 1);\n",
    "            db_store_i64(scope, table, payer, 3, \"3\", 1);\n",
    "            db_store_i64(scope, table, payer, 5, \"5\", 1);\n",
    "            db_store_i64(scope, table, payer, 7, \"7\", 1);\n",
    "            print(\"init done!\");\n",
    "        } else if (N(\"test\") == action) {\n",
    "\n",
    "            char data[2];\n",
    "            memset(data, 0, sizeof(data));\n",
    "\n",
    "            int32_t itr = db_upperbound_i64(code, scope, table, 3);\n",
    "            db_get_i64(itr, data, 1);\n",
    "            print(\"upperbound of 3:\", data, \"\\n\");\n",
    "\n",
    "            itr = db_upperbound_i64(code, scope, table, 2);\n",
    "            db_get_i64(itr, data, 1);\n",
    "            print(\"upperbound of 2:\", data, \"\\n\");\n",
    "\n",
    "            itr = db_lowerbound_i64(code, scope, table, 3);\n",
    "            db_get_i64(itr, data, 1);\n",
    "            print(\"lowerbound of 3:\", data, \"\\n\");\n",
    "\n",
    "            itr = db_lowerbound_i64(code, scope, table, 2);\n",
    "            db_get_i64(itr, data, 1);\n",
    "            print(\"lowerbound of 2:\", data, \"\\n\");\n",
    "        }\n",
    "    }\n",
    "}\n",
    "'''\n",
    "\n",
    "publish_cpp_contract('helloworld11', code)\n",
    "\n"
   ]
  },
  {
   "cell_type": "code",
   "execution_count": 58,
   "metadata": {},
   "outputs": [
    {
     "name": "stdout",
     "output_type": "stream",
     "text": [
      "destroy done!\n",
      "\n",
      "init done!\n"
     ]
    }
   ],
   "source": [
    "name = 'helloworld11'\n",
    "\n",
    "try:\n",
    "    r = eosapi.push_action(name, 'destroy', b'', {name:'active'})\n",
    "    print(r['processed']['action_traces'][0]['console'])\n",
    "\n",
    "    r = eosapi.push_action(name, 'init', b'hello,world', {name:'active'})\n",
    "    print(r['processed']['action_traces'][0]['console'])\n",
    "except Exception as e:\n",
    "    print(e)"
   ]
  },
  {
   "cell_type": "code",
   "execution_count": 59,
   "metadata": {},
   "outputs": [
    {
     "name": "stdout",
     "output_type": "stream",
     "text": [
      "upperbound of 3:5\n",
      "upperbound of 2:3\n",
      "lowerbound of 3:3\n",
      "lowerbound of 2:3\n",
      "\n"
     ]
    }
   ],
   "source": [
    "try:\n",
    "    r = eosapi.push_action(name, 'test', b'', {name:'active'})\n",
    "    print(r['processed']['action_traces'][0]['console'])\n",
    "except Exception as e:\n",
    "    print(e)\n"
   ]
  },
  {
   "cell_type": "markdown",
   "metadata": {},
   "source": [
    "\n",
    "### next_i64\n",
    "\n",
    "```c++\n",
    "int32_t db_next_i64(int32_t iterator, uint64_t* primary);\n",
    "```\n",
    "\n",
    "### previous_i64\n",
    "\n",
    "```c++\n",
    "int32_t db_previous_i64(int32_t iterator, uint64_t* primary);\n",
    "```\n",
    "\n",
    "\n",
    "### end_i64\n",
    "\n",
    "```c++\n",
    "int32_t db_end_i64(capi_name code, uint64_t scope, capi_name table);\n",
    "```\n",
    "\n",
    "### remove_i64\n",
    "\n",
    "```c++\n",
    "void db_remove_i64(int32_t iterator);\n",
    "```"
   ]
  },
  {
   "cell_type": "code",
   "execution_count": 66,
   "metadata": {},
   "outputs": [
    {
     "name": "stdout",
     "output_type": "stream",
     "text": [
      "\n",
      "\n",
      "update contract\n"
     ]
    }
   ],
   "source": [
    "from init import *\n",
    "code = r'''\n",
    "#include <vector>\n",
    "#include <eosio/print.hpp>\n",
    "#include <eosio/name.hpp>\n",
    "#include <eosio/action.hpp>\n",
    "#include <eosio/db.h>\n",
    "\n",
    "using namespace std;\n",
    "using namespace eosio;\n",
    "\n",
    "#define N(name) name##_n.value\n",
    "\n",
    "extern \"C\" {\n",
    "    void apply( uint64_t receiver, uint64_t first_receiver, uint64_t action ) {\n",
    "        uint64_t code = \"helloworld11\"_n.value;\n",
    "        uint64_t scope = \"scope\"_n.value;\n",
    "        uint64_t table = \"table\"_n.value;\n",
    "        uint64_t payer = \"helloworld11\"_n.value;\n",
    "        uint64_t id = \"myid\"_n.value;\n",
    "    \n",
    "        if (N(\"destroy\") == action) {\n",
    "            while(true) {\n",
    "                uint64_t primary;\n",
    "                int32_t itr = db_end_i64(code, scope, table);\n",
    "                if (itr == -1) {\n",
    "                    break;\n",
    "                }\n",
    "                itr = db_previous_i64(itr, &primary);\n",
    "                db_remove_i64(itr);\n",
    "            }\n",
    "            print(\"destroy done!\\n\");\n",
    "        } else if (N(\"init\") == action) {\n",
    "            db_store_i64(scope, table, payer, 1, \"1\", 1);\n",
    "            db_store_i64(scope, table, payer, 3, \"3\", 1);\n",
    "            db_store_i64(scope, table, payer, 5, \"5\", 1);\n",
    "            db_store_i64(scope, table, payer, 7, \"7\", 1);\n",
    "            print(\"init done!\");\n",
    "        } else if (N(\"test\") == action) {\n",
    "            uint64_t primary;\n",
    "            char data[2];\n",
    "            memset(data, 0, sizeof(data));\n",
    "\n",
    "            int32_t itr = db_find_i64(code, scope, table, 3);\n",
    "            db_get_i64(itr, data, 1);\n",
    "            print(\"++++get_i64:\", data, \"\\n\");\n",
    "\n",
    "            int32_t itr_next = db_next_i64(itr, &primary);\n",
    "            db_get_i64(itr_next, data, 1);\n",
    "            print(\"db_next_i64: \", data, \"\\n\");\n",
    "\n",
    "            int32_t itr_previous= db_previous_i64(itr, &primary);\n",
    "            db_get_i64(itr_previous, data, 1);\n",
    "            print(\"db_previous_i64: \", data, \"\\n\");\n",
    "        }\n",
    "    }\n",
    "}\n",
    "'''\n",
    "\n",
    "publish_cpp_contract('helloworld11', code)"
   ]
  },
  {
   "cell_type": "code",
   "execution_count": 76,
   "metadata": {},
   "outputs": [
    {
     "name": "stdout",
     "output_type": "stream",
     "text": [
      "destroy done!\n",
      "\n",
      "367\n",
      "init done!\n",
      "\n",
      "249\n"
     ]
    }
   ],
   "source": [
    "try:\n",
    "    r = eosapi.push_action(name, 'destroy', b'', {name:'active'})\n",
    "    print(r['processed']['action_traces'][0]['console'])\n",
    "    print(r['processed']['elapsed'])\n",
    "\n",
    "    r = eosapi.push_action(name, 'init', b'hello,world', {name:'active'})\n",
    "    print(r['processed']['action_traces'][0]['console'])\n",
    "    print(r['processed']['elapsed'])\n",
    "except Exception as e:\n",
    "    print(e)"
   ]
  },
  {
   "cell_type": "code",
   "execution_count": 73,
   "metadata": {
    "scrolled": true
   },
   "outputs": [
    {
     "name": "stdout",
     "output_type": "stream",
     "text": [
      "++++get_i64: b'3'\n",
      "0\n",
      "1\n",
      "db.next_i64:  b'5'\n",
      "db.previous_i64:  b'1'\n",
      "\n",
      "396\n"
     ]
    }
   ],
   "source": [
    "try:\n",
    "    r = eosapi.push_action(name, 'test', b'', {name:'active'})\n",
    "    print(r['processed']['action_traces'][0]['console'])\n",
    "    print(r['processed']['elapsed'])\n",
    "except Exception as e:\n",
    "    print(e)"
   ]
  }
 ],
 "metadata": {
  "kernelspec": {
   "display_name": "Python 3",
   "language": "python",
   "name": "python3"
  },
  "language_info": {
   "codemirror_mode": {
    "name": "ipython",
    "version": 3
   },
   "file_extension": ".py",
   "mimetype": "text/x-python",
   "name": "python",
   "nbconvert_exporter": "python",
   "pygments_lexer": "ipython3",
   "version": "3.7.3"
  }
 },
 "nbformat": 4,
 "nbformat_minor": 2
}
