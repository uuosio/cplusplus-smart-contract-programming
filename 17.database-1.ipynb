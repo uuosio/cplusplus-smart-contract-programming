{
 "cells": [
  {
   "cell_type": "code",
   "execution_count": 1,
   "metadata": {},
   "outputs": [],
   "source": [
    "from init import *"
   ]
  },
  {
   "cell_type": "markdown",
   "metadata": {},
   "source": [
    "### db_store_i64\n",
    "\n",
    "```c++\n",
    "int32_t db_store_i64(uint64_t scope, capi_name table, capi_name payer, uint64_t id,  const void* data, uint32_t len);\n",
    "\n",
    "```"
   ]
  },
  {
   "cell_type": "code",
   "execution_count": 6,
   "metadata": {},
   "outputs": [
    {
     "name": "stdout",
     "output_type": "stream",
     "text": [
      "done!\n"
     ]
    }
   ],
   "source": [
    "code = r'''\n",
    "#include <eosio/print.hpp>\n",
    "#include <eosio/name.hpp>\n",
    "#include <eosio/db.h>\n",
    "\n",
    "using namespace eosio;\n",
    "\n",
    "#define N(name) name##_n.value\n",
    "\n",
    "extern \"C\" {\n",
    "    void apply( uint64_t receiver, uint64_t code, uint64_t action ) {\n",
    "        if (N(\"sayhello\") == action) {\n",
    "            uint64_t scope = \"scope\"_n.value;\n",
    "            uint64_t table = \"table\"_n.value;\n",
    "            uint64_t payer = name(receiver).value;\n",
    "            uint64_t id = \"id\"_n.value;\n",
    "            int32_t itr = db_store_i64(scope, table, payer, id,  \"hello,world\", 11);\n",
    "            print(itr);\n",
    "        }\n",
    "    }\n",
    "}\n",
    "'''\n",
    "\n",
    "code = uuosapi.compile(test_account1, code, vm_type=0)\n",
    "uuosapi.deploy_code(test_account1, code, vm_type=0)\n",
    "print('done!')"
   ]
  },
  {
   "cell_type": "code",
   "execution_count": 7,
   "metadata": {},
   "outputs": [
    {
     "name": "stdout",
     "output_type": "stream",
     "text": [
      "0\n"
     ]
    }
   ],
   "source": [
    "r = uuosapi.push_action(test_account1, 'sayhello', b'hello,world', {test_account1:'active'})\n",
    "print(r['processed']['action_traces'][0]['console'])"
   ]
  },
  {
   "cell_type": "markdown",
   "metadata": {},
   "source": [
    "### db_find_i64\n",
    "\n",
    "```c++\n",
    "int32_t db_find_i64(capi_name code, uint64_t scope, capi_name table, uint64_t id);\n",
    "```"
   ]
  },
  {
   "cell_type": "code",
   "execution_count": 8,
   "metadata": {},
   "outputs": [
    {
     "name": "stdout",
     "output_type": "stream",
     "text": [
      "done!\n"
     ]
    }
   ],
   "source": [
    "from init import *\n",
    "code = r'''\n",
    "#include <eosio/print.hpp>\n",
    "#include <eosio/name.hpp>\n",
    "#include <eosio/db.h>\n",
    "\n",
    "using namespace eosio;\n",
    "\n",
    "#define N(name) name##_n.value\n",
    "\n",
    "extern \"C\" {\n",
    "    void apply( uint64_t receiver, uint64_t code, uint64_t action ) {\n",
    "        if (N(\"sayhello\") == action) {\n",
    "            uint64_t code = name(receiver).value;\n",
    "            uint64_t scope = \"scope\"_n.value;\n",
    "            uint64_t table = \"table\"_n.value;\n",
    "            uint64_t payer = name(receiver).value;\n",
    "            uint64_t id = \"id\"_n.value;\n",
    "            int32_t itr = db_find_i64(code, scope, table, id);\n",
    "            print(itr);\n",
    "        }\n",
    "    }\n",
    "}\n",
    "'''\n",
    "\n",
    "code = uuosapi.compile(test_account1, code, vm_type=0)\n",
    "uuosapi.deploy_code(test_account1, code, vm_type=0)\n",
    "print('done!')"
   ]
  },
  {
   "cell_type": "code",
   "execution_count": 9,
   "metadata": {},
   "outputs": [
    {
     "name": "stdout",
     "output_type": "stream",
     "text": [
      "0\n"
     ]
    }
   ],
   "source": [
    "r = uuosapi.push_action(test_account1, 'sayhello', b'hello,world', {test_account1:'active'})\n",
    "print(r['processed']['action_traces'][0]['console'])"
   ]
  },
  {
   "cell_type": "markdown",
   "metadata": {},
   "source": [
    "### db_get_i64\n",
    "\n",
    "```c++\n",
    "int32_t db_get_i64(int32_t iterator, const void* data, uint32_t len);\n",
    "```"
   ]
  },
  {
   "cell_type": "code",
   "execution_count": 10,
   "metadata": {},
   "outputs": [
    {
     "name": "stdout",
     "output_type": "stream",
     "text": [
      "done!\n"
     ]
    }
   ],
   "source": [
    "from init import *\n",
    "code = r'''\n",
    "#include <string>\n",
    "#include <eosio/print.hpp>\n",
    "#include <eosio/name.hpp>\n",
    "#include <eosio/db.h>\n",
    "\n",
    "using namespace eosio;\n",
    "\n",
    "#define N(name) name##_n.value\n",
    "\n",
    "extern \"C\" {\n",
    "    void apply( uint64_t receiver, uint64_t code, uint64_t action ) {\n",
    "        if (N(\"sayhello\") == action) {\n",
    "            uint64_t code = name(receiver).value;\n",
    "            uint64_t scope = \"scope\"_n.value;\n",
    "            uint64_t table = \"table\"_n.value;\n",
    "            uint64_t payer = name(receiver).value;\n",
    "            uint64_t id = \"id\"_n.value;\n",
    "            int32_t itr = db_find_i64(code, scope, table, id);\n",
    "            print(itr, \" \");\n",
    "            int32_t len = db_get_i64(itr, nullptr, 0);\n",
    "            std::string s(len, 0);\n",
    "            db_get_i64(itr, (char *)s.c_str(), len);\n",
    "            print(s);\n",
    "        }\n",
    "    }\n",
    "}\n",
    "'''\n",
    "\n",
    "code = uuosapi.compile(test_account1, code, vm_type=0)\n",
    "uuosapi.deploy_code(test_account1, code, vm_type=0)\n",
    "print('done!')\n"
   ]
  },
  {
   "cell_type": "code",
   "execution_count": 12,
   "metadata": {},
   "outputs": [
    {
     "name": "stdout",
     "output_type": "stream",
     "text": [
      "0 hello,world\n"
     ]
    }
   ],
   "source": [
    "r = uuosapi.push_action(test_account1, 'sayhello', b'hello,world', {test_account1:'active'})\n",
    "print(r['processed']['action_traces'][0]['console'])"
   ]
  },
  {
   "cell_type": "markdown",
   "metadata": {},
   "source": [
    "### db_update_i64\n",
    "\n",
    "```c++\n",
    "void db_update_i64(int32_t iterator, capi_name payer, const void* data, uint32_t len);\n",
    "```"
   ]
  },
  {
   "cell_type": "code",
   "execution_count": 13,
   "metadata": {},
   "outputs": [
    {
     "name": "stdout",
     "output_type": "stream",
     "text": [
      "done!\n"
     ]
    }
   ],
   "source": [
    "code = r'''\n",
    "#include <vector>\n",
    "#include <eosio/print.hpp>\n",
    "#include <eosio/name.hpp>\n",
    "#include <eosio/action.hpp>\n",
    "#include <eosio/db.h>\n",
    "\n",
    "using namespace std;\n",
    "using namespace eosio;\n",
    "\n",
    "#define N(name) name##_n.value\n",
    "\n",
    "extern \"C\" {\n",
    "    void apply( uint64_t receiver, uint64_t code, uint64_t action ) {\n",
    "        if (N(\"sayhello\") == action) {\n",
    "            uint64_t code = name(receiver).value;\n",
    "            uint64_t scope = \"scope\"_n.value;\n",
    "            uint64_t table = \"table\"_n.value;\n",
    "            uint64_t payer = name(receiver).value;\n",
    "            uint64_t id = \"id\"_n.value;\n",
    "            \n",
    "            int32_t itr = db_find_i64(code, scope, table, id);\n",
    "            if (itr < 0) {\n",
    "                db_store_i64(scope, table, payer, id,  \"hello,world\", 11);\n",
    "            } else {\n",
    "                vector<char> v = unpack_action_data<vector<char>>();\n",
    "                db_update_i64(itr, payer, v.data(), v.size());\n",
    "            }\n",
    "            print(itr);\n",
    "        }\n",
    "    }\n",
    "}\n",
    "'''\n",
    "\n",
    "code = uuosapi.compile(test_account1, code, vm_type=0)\n",
    "uuosapi.deploy_code(test_account1, code, vm_type=0)\n",
    "print('done!')\n"
   ]
  },
  {
   "cell_type": "code",
   "execution_count": 15,
   "metadata": {},
   "outputs": [
    {
     "name": "stdout",
     "output_type": "stream",
     "text": [
      "0\n"
     ]
    }
   ],
   "source": [
    "r = uuosapi.push_action(test_account1, 'sayhello', b'\\x0bhello,world', {test_account1:'active'})\n",
    "print(r['processed']['action_traces'][0]['console'])"
   ]
  },
  {
   "cell_type": "markdown",
   "metadata": {},
   "source": [
    "### db_lowerbound_i64\n",
    "\n",
    "```c++\n",
    "int32_t db_lowerbound_i64(capi_name code, uint64_t scope, capi_name table, uint64_t id);\n",
    "```\n",
    "\n",
    "### db_upperbound_i64\n",
    "\n",
    "```c++\n",
    "int32_t db_upperbound_i64(capi_name code, uint64_t scope, capi_name table, uint64_t id);\n",
    "```"
   ]
  },
  {
   "cell_type": "code",
   "execution_count": 16,
   "metadata": {},
   "outputs": [
    {
     "name": "stdout",
     "output_type": "stream",
     "text": [
      "done!\n"
     ]
    }
   ],
   "source": [
    "code = r'''\n",
    "#include <vector>\n",
    "#include <eosio/print.hpp>\n",
    "#include <eosio/name.hpp>\n",
    "#include <eosio/action.hpp>\n",
    "#include <eosio/db.h>\n",
    "\n",
    "using namespace std;\n",
    "using namespace eosio;\n",
    "\n",
    "#define N(name) name##_n.value\n",
    "\n",
    "extern \"C\" {\n",
    "    void apply( uint64_t receiver, uint64_t first_receiver, uint64_t action ) {\n",
    "        uint64_t code = name(receiver).value;\n",
    "        uint64_t scope = \"scope\"_n.value;\n",
    "        uint64_t table = \"table\"_n.value;\n",
    "        uint64_t payer = name(receiver).value;\n",
    "        uint64_t id = \"myid\"_n.value;\n",
    "    \n",
    "        if (N(\"destroy\") == action) {\n",
    "            while(true) {\n",
    "                uint64_t primary;\n",
    "                int32_t itr = db_end_i64(code, scope, table);\n",
    "                if (itr == -1) {\n",
    "                    break;\n",
    "                }\n",
    "                itr = db_previous_i64(itr, &primary);\n",
    "                db_remove_i64(itr);\n",
    "            }\n",
    "            print(\"destroy done!\\n\");\n",
    "        } else if (N(\"init\") == action) {\n",
    "            db_store_i64(scope, table, payer, 1, \"1\", 1);\n",
    "            db_store_i64(scope, table, payer, 3, \"3\", 1);\n",
    "            db_store_i64(scope, table, payer, 5, \"5\", 1);\n",
    "            db_store_i64(scope, table, payer, 7, \"7\", 1);\n",
    "            print(\"init done!\");\n",
    "        } else if (N(\"test\") == action) {\n",
    "\n",
    "            char data[2];\n",
    "            memset(data, 0, sizeof(data));\n",
    "\n",
    "            int32_t itr = db_upperbound_i64(code, scope, table, 3);\n",
    "            db_get_i64(itr, data, 1);\n",
    "            print(\"upperbound of 3:\", data, \"\\n\");\n",
    "\n",
    "            itr = db_upperbound_i64(code, scope, table, 2);\n",
    "            db_get_i64(itr, data, 1);\n",
    "            print(\"upperbound of 2:\", data, \"\\n\");\n",
    "\n",
    "            itr = db_lowerbound_i64(code, scope, table, 3);\n",
    "            db_get_i64(itr, data, 1);\n",
    "            print(\"lowerbound of 3:\", data, \"\\n\");\n",
    "\n",
    "            itr = db_lowerbound_i64(code, scope, table, 2);\n",
    "            db_get_i64(itr, data, 1);\n",
    "            print(\"lowerbound of 2:\", data, \"\\n\");\n",
    "        }\n",
    "    }\n",
    "}\n",
    "'''\n",
    "\n",
    "code = uuosapi.compile(test_account1, code, vm_type=0)\n",
    "uuosapi.deploy_code(test_account1, code, vm_type=0)\n",
    "print('done!')"
   ]
  },
  {
   "cell_type": "code",
   "execution_count": 18,
   "metadata": {},
   "outputs": [
    {
     "name": "stdout",
     "output_type": "stream",
     "text": [
      "destroy done!\n",
      "\n",
      "init done!\n"
     ]
    }
   ],
   "source": [
    "r = uuosapi.push_action(test_account1, 'destroy', b'', {test_account1:'active'})\n",
    "print(r['processed']['action_traces'][0]['console'])\n",
    "\n",
    "r = uuosapi.push_action(test_account1, 'init', b'hello,world', {test_account1:'active'})\n",
    "print(r['processed']['action_traces'][0]['console'])"
   ]
  },
  {
   "cell_type": "code",
   "execution_count": 20,
   "metadata": {},
   "outputs": [
    {
     "name": "stdout",
     "output_type": "stream",
     "text": [
      "upperbound of 3:5\n",
      "upperbound of 2:3\n",
      "lowerbound of 3:3\n",
      "lowerbound of 2:3\n",
      "\n"
     ]
    }
   ],
   "source": [
    "r = uuosapi.push_action(test_account1, 'test', b'', {test_account1:'active'})\n",
    "print(r['processed']['action_traces'][0]['console'])"
   ]
  },
  {
   "cell_type": "markdown",
   "metadata": {},
   "source": [
    "\n",
    "### next_i64\n",
    "\n",
    "```c++\n",
    "int32_t db_next_i64(int32_t iterator, uint64_t* primary);\n",
    "```\n",
    "\n",
    "### previous_i64\n",
    "\n",
    "```c++\n",
    "int32_t db_previous_i64(int32_t iterator, uint64_t* primary);\n",
    "```\n",
    "\n",
    "\n",
    "### end_i64\n",
    "\n",
    "```c++\n",
    "int32_t db_end_i64(capi_name code, uint64_t scope, capi_name table);\n",
    "```\n",
    "\n",
    "### remove_i64\n",
    "\n",
    "```c++\n",
    "void db_remove_i64(int32_t iterator);\n",
    "```"
   ]
  },
  {
   "cell_type": "code",
   "execution_count": 27,
   "metadata": {},
   "outputs": [
    {
     "name": "stdout",
     "output_type": "stream",
     "text": [
      "done!\n"
     ]
    }
   ],
   "source": [
    "code = r'''\n",
    "#include <vector>\n",
    "#include <eosio/print.hpp>\n",
    "#include <eosio/name.hpp>\n",
    "#include <eosio/action.hpp>\n",
    "#include <eosio/db.h>\n",
    "\n",
    "using namespace std;\n",
    "using namespace eosio;\n",
    "\n",
    "#define N(name) name##_n.value\n",
    "\n",
    "extern \"C\" {\n",
    "    void apply( uint64_t receiver, uint64_t first_receiver, uint64_t action ) {\n",
    "        uint64_t code = name(receiver).value;\n",
    "        uint64_t scope = \"scope\"_n.value;\n",
    "        uint64_t table = \"table\"_n.value;\n",
    "        uint64_t payer = name(receiver).value;\n",
    "        uint64_t id = \"myid\"_n.value;\n",
    "    \n",
    "        if (name(\"destroy\").value == action) {\n",
    "            while(true) {\n",
    "                uint64_t primary;\n",
    "                int32_t itr = db_lowerbound_i64(code, scope, table, 0);\n",
    "                if (itr < 0) {\n",
    "                    break;\n",
    "                }\n",
    "                db_remove_i64(itr);\n",
    "            }\n",
    "            print(\"destroy done!\\n\");\n",
    "        } else if (name(\"init\").value == action) {\n",
    "            db_store_i64(scope, table, payer, 1, \"1\", 1);\n",
    "            db_store_i64(scope, table, payer, 3, \"3\", 1);\n",
    "            db_store_i64(scope, table, payer, 5, \"5\", 1);\n",
    "            db_store_i64(scope, table, payer, 7, \"7\", 1);\n",
    "            print(\"init done!\");\n",
    "        } else if (name(\"test\").value == action) {\n",
    "            uint64_t primary;\n",
    "            char data[2];\n",
    "            memset(data, 0, sizeof(data));\n",
    "\n",
    "            int32_t itr = db_find_i64(code, scope, table, 3);\n",
    "            db_get_i64(itr, data, 1);\n",
    "            print(\"++++get_i64:\", data, \"\\n\");\n",
    "\n",
    "            int32_t itr_next = db_next_i64(itr, &primary);\n",
    "            db_get_i64(itr_next, data, 1);\n",
    "            print(\"db_next_i64: \", data, \"\\n\");\n",
    "\n",
    "            int32_t itr_previous= db_previous_i64(itr, &primary);\n",
    "            db_get_i64(itr_previous, data, 1);\n",
    "            print(\"db_previous_i64: \", data, \"\\n\");\n",
    "        }\n",
    "    }\n",
    "}\n",
    "'''\n",
    "\n",
    "code = uuosapi.compile(test_account1, code, vm_type=0)\n",
    "uuosapi.deploy_code(test_account1, code, vm_type=0)\n",
    "print('done!')"
   ]
  },
  {
   "cell_type": "code",
   "execution_count": 28,
   "metadata": {
    "scrolled": true
   },
   "outputs": [
    {
     "name": "stdout",
     "output_type": "stream",
     "text": [
      "destroy done!\n",
      "\n",
      "897\n",
      "init done!\n",
      "326\n"
     ]
    }
   ],
   "source": [
    "r = uuosapi.push_action(test_account1, 'destroy', b'', {test_account1:'active'})\n",
    "print(r['processed']['action_traces'][0]['console'])\n",
    "print(r['processed']['elapsed'])\n",
    "\n",
    "r = uuosapi.push_action(test_account1, 'init', b'hello,world', {test_account1:'active'})\n",
    "print(r['processed']['action_traces'][0]['console'])\n",
    "print(r['processed']['elapsed'])\n"
   ]
  },
  {
   "cell_type": "code",
   "execution_count": 30,
   "metadata": {
    "scrolled": true
   },
   "outputs": [
    {
     "name": "stdout",
     "output_type": "stream",
     "text": [
      "++++get_i64:3\n",
      "db_next_i64: 5\n",
      "db_previous_i64: 1\n",
      "\n",
      "285\n"
     ]
    }
   ],
   "source": [
    "r = uuosapi.push_action(test_account1, 'test', b'', {test_account1:'active'})\n",
    "print(r['processed']['action_traces'][0]['console'])\n",
    "print(r['processed']['elapsed'])"
   ]
  }
 ],
 "metadata": {
  "kernelspec": {
   "display_name": "Python 3",
   "language": "python",
   "name": "python3"
  },
  "language_info": {
   "codemirror_mode": {
    "name": "ipython",
    "version": 3
   },
   "file_extension": ".py",
   "mimetype": "text/x-python",
   "name": "python",
   "nbconvert_exporter": "python",
   "pygments_lexer": "ipython3",
   "version": "3.7.4"
  }
 },
 "nbformat": 4,
 "nbformat_minor": 2
}
