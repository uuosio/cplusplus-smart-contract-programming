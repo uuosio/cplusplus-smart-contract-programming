{
 "cells": [
  {
   "cell_type": "code",
   "execution_count": 1,
   "metadata": {},
   "outputs": [
    {
     "name": "stdout",
     "output_type": "stream",
     "text": [
      "\n",
      "\n",
      "update contract\n",
      "done!\n"
     ]
    }
   ],
   "source": [
    "from init import *\n",
    "\n",
    "code = r'''\n",
    "#include <eosio/crypto.hpp>\n",
    "#include <eosio/print.hpp>\n",
    "#include <eosio/name.hpp>\n",
    "\n",
    "using namespace eosio;\n",
    "\n",
    "#define N(name) name##_n.value\n",
    "\n",
    "extern \"C\" {\n",
    "    void apply( uint64_t receiver, uint64_t code, uint64_t action ) {\n",
    "        checksum160 hash160 = sha1(\"hello,worldd\", 12);\n",
    "        printhex((void *)hash160.data(), 20);print(\"\\n\");\n",
    "\n",
    "        assert_sha1(\"hello,worldd\", 12, hash160);\n",
    "\n",
    "        checksum256 hash256 = sha256(\"hello,world\", 12);\n",
    "        printhex((void *)hash256.data(), 32);print(\"\\n\");\n",
    "        assert_sha256(\"hello,world\", 12, hash256);\n",
    "\n",
    "        checksum512 hash512 = sha512(\"hello,world\", 12);\n",
    "        printhex((void *)hash512.data(), 64);print(\"\\n\");\n",
    "        assert_sha512(\"hello,world\", 12, hash512);\n",
    "\n",
    "        checksum160 hash = ripemd160(\"hello,world\", 12);\n",
    "        printhex((void *)hash.data(), 20);print(\"\\n\");\n",
    "        assert_ripemd160(\"hello,world\", 12, hash);\n",
    "    }\n",
    "}\n",
    "'''\n",
    "\n",
    "publish_cpp_contract('helloworld11', code)\n",
    "print('done!')"
   ]
  },
  {
   "cell_type": "code",
   "execution_count": 40,
   "metadata": {
    "scrolled": true
   },
   "outputs": [
    {
     "name": "stdout",
     "output_type": "stream",
     "text": [
      "dccf48347b12434e0b8568d6b7de7d4000000000\n",
      "5d78ff1f609563113144c53353b5c67dca8a6203b8b1ba8c33a58c7858cef3aa\n",
      "9124d391e6ea07442f378898c85a2521034ed16c17378ff6ed3fa37b0dea8b12dee106e6d87b0d5d74685d7cfbc7b0ecdcba0c9ed3126fd2e2591a174d343cb4\n",
      "9fbcc36bef806c7caaec414590db060900000000\n",
      "\n"
     ]
    }
   ],
   "source": [
    "name = 'helloworld11'\n",
    "try:\n",
    "    r = eosapi.push_action(name, 'sayhello', b'hello,world', {name:'active'})\n",
    "    print(r['processed']['action_traces'][0]['console'])\n",
    "except Exception as e:\n",
    "    print(e)"
   ]
  },
  {
   "cell_type": "code",
   "execution_count": 17,
   "metadata": {},
   "outputs": [
    {
     "name": "stdout",
     "output_type": "stream",
     "text": [
      "\n",
      "\n",
      "update contract\n",
      "done!\n"
     ]
    }
   ],
   "source": [
    "from init import *\n",
    "\n",
    "abi = '''\n",
    "{\n",
    "   \"version\": \"eosio::abi/1.0\",\n",
    "   \"types\": [],\n",
    "  \"structs\": [{\n",
    "      \"name\": \"sayhello\",\n",
    "      \"base\": \"\",\n",
    "      \"fields\": [\n",
    "        {\"name\":\"text\", \"type\":\"bytes\"},\n",
    "        {\"name\":\"sign\", \"type\":\"signature\"}\n",
    "        ]\n",
    "    }\n",
    "  ],\n",
    "  \"actions\": [{\n",
    "      \"name\": \"sayhello\",\n",
    "      \"type\": \"sayhello\",\n",
    "      \"ricardian_contract\": \"\"\n",
    "    }\n",
    "  ],\n",
    "  \"tables\": [\n",
    "  ]\n",
    "}\n",
    "'''\n",
    "\n",
    "code = r'''\n",
    "#include <vector>\n",
    "#include <eosio/action.hpp>\n",
    "#include <eosio/crypto.hpp>\n",
    "#include <eosio/print.hpp>\n",
    "#include <eosio/name.hpp>\n",
    "\n",
    "using namespace std;\n",
    "using namespace eosio;\n",
    "\n",
    "#define N(name) name##_n.value\n",
    "\n",
    "struct mystruct {\n",
    "    vector<char> text;\n",
    "    signature sign;\n",
    "    EOSLIB_SERIALIZE( mystruct, (text)(sign) )\n",
    "};\n",
    "\n",
    "extern \"C\" {\n",
    "    void apply( uint64_t receiver, uint64_t code, uint64_t action ) {\n",
    "        mystruct s = unpack_action_data<mystruct>();\n",
    "        checksum256 digest = sha256(s.text.data(), s.text.size());\n",
    "        public_key key = recover_key(digest, s.sign);\n",
    "        printhex((void *)key.data.data(), key.data.size());\n",
    "        assert_recover_key(digest, s.sign, key);\n",
    "    }\n",
    "}\n",
    "'''\n",
    "\n",
    "publish_cpp_contract('helloworld11', code, abi)\n",
    "print('done!')"
   ]
  },
  {
   "cell_type": "code",
   "execution_count": 18,
   "metadata": {},
   "outputs": [
    {
     "name": "stdout",
     "output_type": "stream",
     "text": [
      "SIG_K1_JzwaU4Zf1ZzyRDsg5EtoThjqtECKMcKozDTHwEtBpqoCQAYu1JnZXSTc7Tjpb1AzLNxu8gCXRrHYhLgz7v9M2iu3Th8Qow\n",
      "036bfc5cc1e9215625a2f25fd1013cde6e7b9d6f294753cce498f575a2e734a700\n"
     ]
    }
   ],
   "source": [
    "name = 'helloworld11'\n",
    "try:\n",
    "    text = b'hello,world'\n",
    "    import hashlib\n",
    "    h = hashlib.sha256()\n",
    "    h.update(text)\n",
    "    sign = wallet.sign_digest(h.digest(), 'EOS7ent7keWbVgvptfYaMYeF2cenMBiwYKcwEuc11uCbStsFKsrmV')\n",
    "    print(sign)\n",
    "#    args = {'text':text.hex(), 'sign': sign}\n",
    "    args = {'text':text.hex()}\n",
    "    args = {'sign': sign}\n",
    "    args = {'text':text.hex(), 'sign': sign}\n",
    "    r = eosapi.push_action(name, 'sayhello', args, {name:'active'})\n",
    "    print(r['processed']['action_traces'][0]['console'])\n",
    "except Exception as e:\n",
    "    print(e)"
   ]
  },
  {
   "cell_type": "code",
   "execution_count": 19,
   "metadata": {},
   "outputs": [
    {
     "name": "stdout",
     "output_type": "stream",
     "text": [
      "b'\\x03k\\xfc\\\\\\xc1\\xe9!V%\\xa2\\xf2_\\xd1\\x01<\\xden{\\x9do)GS\\xcc\\xe4\\x98\\xf5u\\xa2\\xe74\\xa7\\x00'\n"
     ]
    },
    {
     "data": {
      "text/plain": [
       "b'EOS7ent7keWbVgvptfYaMYeF2cenMBiwYKcwEuc11uCbStsFKsrmV'"
      ]
     },
     "execution_count": 19,
     "metadata": {},
     "output_type": "execute_result"
    }
   ],
   "source": [
    "import base58\n",
    "\n",
    "public_key = bytes.fromhex('036bfc5cc1e9215625a2f25fd1013cde6e7b9d6f294753cce498f575a2e734a700')\n",
    "print(public_key)\n",
    "\n",
    "h = hashlib.new('ripemd160')\n",
    "h.update(public_key)\n",
    "digest = h.digest()\n",
    "public_key += digest[:4]\n",
    "b'EOS'+base58.b58encode(public_key)"
   ]
  }
 ],
 "metadata": {
  "kernelspec": {
   "display_name": "Python 3",
   "language": "python",
   "name": "python3"
  },
  "language_info": {
   "codemirror_mode": {
    "name": "ipython",
    "version": 3
   },
   "file_extension": ".py",
   "mimetype": "text/x-python",
   "name": "python",
   "nbconvert_exporter": "python",
   "pygments_lexer": "ipython3",
   "version": "3.7.3"
  }
 },
 "nbformat": 4,
 "nbformat_minor": 2
}
