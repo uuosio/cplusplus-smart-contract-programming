{
 "cells": [
  {
   "cell_type": "code",
   "execution_count": 1,
   "metadata": {},
   "outputs": [],
   "source": [
    "from init import *"
   ]
  },
  {
   "cell_type": "code",
   "execution_count": 2,
   "metadata": {},
   "outputs": [
    {
     "name": "stdout",
     "output_type": "stream",
     "text": [
      "done!\n"
     ]
    }
   ],
   "source": [
    "code = r'''\n",
    "#include <eosio/crypto.hpp>\n",
    "#include <eosio/print.hpp>\n",
    "#include <eosio/name.hpp>\n",
    "\n",
    "using namespace eosio;\n",
    "\n",
    "#define N(name) name##_n.value\n",
    "\n",
    "extern \"C\" {\n",
    "    void apply( uint64_t receiver, uint64_t code, uint64_t action ) {\n",
    "        checksum160 hash160 = sha1(\"hello,worldd\", 12);\n",
    "        printhex((void *)hash160.data(), 20);print(\"\\n\");\n",
    "\n",
    "        assert_sha1(\"hello,worldd\", 12, hash160);\n",
    "\n",
    "        checksum256 hash256 = sha256(\"hello,world\", 12);\n",
    "        printhex((void *)hash256.data(), 32);print(\"\\n\");\n",
    "        assert_sha256(\"hello,world\", 12, hash256);\n",
    "\n",
    "        checksum512 hash512 = sha512(\"hello,world\", 12);\n",
    "        printhex((void *)hash512.data(), 64);print(\"\\n\");\n",
    "        assert_sha512(\"hello,world\", 12, hash512);\n",
    "\n",
    "        checksum160 hash = ripemd160(\"hello,world\", 12);\n",
    "        printhex((void *)hash.data(), 20);print(\"\\n\");\n",
    "        assert_ripemd160(\"hello,world\", 12, hash);\n",
    "    }\n",
    "}\n",
    "'''\n",
    "\n",
    "code = uuosapi.compile(test_account1, code, vm_type=0)\n",
    "uuosapi.deploy_code(test_account1, code, vm_type=0)\n",
    "print('done!')"
   ]
  },
  {
   "cell_type": "code",
   "execution_count": 4,
   "metadata": {
    "scrolled": true
   },
   "outputs": [
    {
     "name": "stdout",
     "output_type": "stream",
     "text": [
      "dccf48347b12434e0b8568d6b7de7d4000000000\n",
      "5d78ff1f609563113144c53353b5c67dca8a6203b8b1ba8c33a58c7858cef3aa\n",
      "9124d391e6ea07442f378898c85a2521034ed16c17378ff6ed3fa37b0dea8b12dee106e6d87b0d5d74685d7cfbc7b0ecdcba0c9ed3126fd2e2591a174d343cb4\n",
      "9fbcc36bef806c7caaec414590db060900000000\n",
      "\n"
     ]
    }
   ],
   "source": [
    "r = uuosapi.push_action(test_account1, 'sayhello', b'hello,world', {test_account1:'active'})\n",
    "print(r['processed']['action_traces'][0]['console'])"
   ]
  },
  {
   "cell_type": "code",
   "execution_count": 10,
   "metadata": {},
   "outputs": [
    {
     "name": "stdout",
     "output_type": "stream",
     "text": [
      "done!\n"
     ]
    }
   ],
   "source": [
    "code = r'''\n",
    "#include <vector>\n",
    "#include <eosio/action.hpp>\n",
    "#include <eosio/crypto.hpp>\n",
    "#include <eosio/print.hpp>\n",
    "#include <eosio/name.hpp>\n",
    "\n",
    "using namespace std;\n",
    "using namespace eosio;\n",
    "\n",
    "#define N(name) name##_n.value\n",
    "\n",
    "struct mystruct {\n",
    "    vector<char> text;\n",
    "    signature sign;\n",
    "    EOSLIB_SERIALIZE( mystruct, (text)(sign) )\n",
    "};\n",
    "\n",
    "extern \"C\" {\n",
    "    void apply( uint64_t receiver, uint64_t code, uint64_t action ) {\n",
    "        mystruct s = unpack_action_data<mystruct>();\n",
    "        checksum256 digest = sha256(s.text.data(), s.text.size());\n",
    "        public_key key = recover_key(digest, s.sign);\n",
    "        printhex((void *)std::get<0>(key).data(), std::get<0>(key).size());\n",
    "        assert_recover_key(digest, s.sign, key);\n",
    "    }\n",
    "}\n",
    "'''\n",
    "\n",
    "abi = '''\n",
    "{\n",
    "   \"version\": \"eosio::abi/1.0\",\n",
    "   \"types\": [],\n",
    "  \"structs\": [{\n",
    "      \"name\": \"sayhello\",\n",
    "      \"base\": \"\",\n",
    "      \"fields\": [\n",
    "        {\"name\":\"text\", \"type\":\"bytes\"},\n",
    "        {\"name\":\"sign\", \"type\":\"signature\"}\n",
    "        ]\n",
    "    }\n",
    "  ],\n",
    "  \"actions\": [{\n",
    "      \"name\": \"sayhello\",\n",
    "      \"type\": \"sayhello\",\n",
    "      \"ricardian_contract\": \"\"\n",
    "    }\n",
    "  ],\n",
    "  \"tables\": [\n",
    "  ]\n",
    "}\n",
    "'''\n",
    "\n",
    "code = uuosapi.compile(test_account1, code, vm_type=0)\n",
    "uuosapi.deploy_code(test_account1, code, vm_type=0)\n",
    "print('done!')"
   ]
  },
  {
   "cell_type": "code",
   "execution_count": 15,
   "metadata": {},
   "outputs": [],
   "source": [
    "uuosapi.set_abi(test_account1, abi)"
   ]
  },
  {
   "cell_type": "code",
   "execution_count": 17,
   "metadata": {
    "scrolled": true
   },
   "outputs": [
    {
     "data": {
      "text/plain": [
       "{'account_name': 'wkpmdjdsztyu',\n",
       " 'head_block_num': 45482171,\n",
       " 'head_block_time': '2021-01-12T03:31:09.000',\n",
       " 'privileged': False,\n",
       " 'last_code_update': '2021-01-12T03:28:43.500',\n",
       " 'created': '2020-11-30T02:21:01.000',\n",
       " 'core_liquid_balance': '54.2551 TNT',\n",
       " 'ram_quota': 1190188,\n",
       " 'net_weight': 110000,\n",
       " 'cpu_weight': 110000,\n",
       " 'net_limit': {'used': 199847, 'available': 26158847, 'max': 26358694},\n",
       " 'cpu_limit': {'used': 173871, 'available': 4853169, 'max': 5027040},\n",
       " 'ram_usage': 163524,\n",
       " 'permissions': [{'perm_name': 'active',\n",
       "   'parent': 'owner',\n",
       "   'required_auth': {'threshold': 1,\n",
       "    'keys': [{'key': 'EOS4yV91cqR6db8ntKtCLFVwWfvvvDMZctpd85GsaX5GUMaiqUWYL',\n",
       "      'weight': 1}],\n",
       "    'accounts': [{'permission': {'actor': 'wkpmdjdsztyu',\n",
       "       'permission': 'eosio.code'},\n",
       "      'weight': 1}],\n",
       "    'waits': []}},\n",
       "  {'perm_name': 'owner',\n",
       "   'parent': '',\n",
       "   'required_auth': {'threshold': 1,\n",
       "    'keys': [{'key': 'EOS7iPioB1Uscn14dYdw5PrqAHVU2F54Bi3kJ1qr6WbRe1tMtHGEo',\n",
       "      'weight': 1}],\n",
       "    'accounts': [],\n",
       "    'waits': []}},\n",
       "  {'perm_name': 'sayhello',\n",
       "   'parent': 'active',\n",
       "   'required_auth': {'threshold': 2,\n",
       "    'keys': [{'key': 'EOS4yV91cqR6db8ntKtCLFVwWfvvvDMZctpd85GsaX5GUMaiqUWYL',\n",
       "      'weight': 1},\n",
       "     {'key': 'EOS5gNqDpWm72KzNWFVgBDmybrEtk9qx2ZuAeRbK9iSJMVJ2B8y73',\n",
       "      'weight': 1}],\n",
       "    'accounts': [],\n",
       "    'waits': []}}],\n",
       " 'total_resources': {'owner': 'wkpmdjdsztyu',\n",
       "  'net_weight': '11.0000 TNT',\n",
       "  'cpu_weight': '11.0000 TNT',\n",
       "  'ram_bytes': 1188788},\n",
       " 'self_delegated_bandwidth': {'from': 'wkpmdjdsztyu',\n",
       "  'to': 'wkpmdjdsztyu',\n",
       "  'net_weight': '11.0000 TNT',\n",
       "  'cpu_weight': '11.0000 TNT'},\n",
       " 'refund_request': None,\n",
       " 'voter_info': {'owner': 'wkpmdjdsztyu',\n",
       "  'proxy': '',\n",
       "  'producers': [],\n",
       "  'staked': 220000,\n",
       "  'last_vote_weight': '0.00000000000000000',\n",
       "  'proxied_vote_weight': '0.00000000000000000',\n",
       "  'is_proxy': 0,\n",
       "  'flags1': 0,\n",
       "  'reserved2': 0,\n",
       "  'reserved3': '0 '},\n",
       " 'rex_info': None}"
      ]
     },
     "execution_count": 17,
     "metadata": {},
     "output_type": "execute_result"
    }
   ],
   "source": [
    "uuosapi.get_account(test_account1)"
   ]
  },
  {
   "cell_type": "code",
   "execution_count": 18,
   "metadata": {},
   "outputs": [
    {
     "name": "stdout",
     "output_type": "stream",
     "text": [
      "020b583ea8dd7626801a83a0d421ea442feeedb7c3a3cf08db9f61ea6612faa9f7\n"
     ]
    }
   ],
   "source": [
    "text = b'hello,world'\n",
    "import hashlib\n",
    "h = hashlib.sha256()\n",
    "h.update(text)\n",
    "sign = wallet.sign_digest(h.digest(), 'EOS4yV91cqR6db8ntKtCLFVwWfvvvDMZctpd85GsaX5GUMaiqUWYL')\n",
    "assert sign\n",
    "#    args = {'text':text.hex(), 'sign': sign}\n",
    "args = {'text':text.hex()}\n",
    "args = {'sign': sign}\n",
    "args = {'text':text.hex(), 'sign': sign}\n",
    "r = uuosapi.push_action(test_account1, 'sayhello', args, {test_account1:'active'})\n",
    "print(r['processed']['action_traces'][0]['console'])\n"
   ]
  },
  {
   "cell_type": "code",
   "execution_count": 19,
   "metadata": {},
   "outputs": [
    {
     "name": "stdout",
     "output_type": "stream",
     "text": [
      "b'\\x02\\x0bX>\\xa8\\xddv&\\x80\\x1a\\x83\\xa0\\xd4!\\xeaD/\\xee\\xed\\xb7\\xc3\\xa3\\xcf\\x08\\xdb\\x9fa\\xeaf\\x12\\xfa\\xa9\\xf7'\n"
     ]
    },
    {
     "data": {
      "text/plain": [
       "b'EOS4yV91cqR6db8ntKtCLFVwWfvvvDMZctpd85GsaX5GUMaiqUWYL'"
      ]
     },
     "execution_count": 19,
     "metadata": {},
     "output_type": "execute_result"
    }
   ],
   "source": [
    "import base58\n",
    "\n",
    "public_key = bytes.fromhex('020b583ea8dd7626801a83a0d421ea442feeedb7c3a3cf08db9f61ea6612faa9f7')\n",
    "print(public_key)\n",
    "\n",
    "h = hashlib.new('ripemd160')\n",
    "h.update(public_key)\n",
    "digest = h.digest()\n",
    "public_key += digest[:4]\n",
    "b'EOS'+base58.b58encode(public_key)"
   ]
  }
 ],
 "metadata": {
  "kernelspec": {
   "display_name": "Python 3",
   "language": "python",
   "name": "python3"
  },
  "language_info": {
   "codemirror_mode": {
    "name": "ipython",
    "version": 3
   },
   "file_extension": ".py",
   "mimetype": "text/x-python",
   "name": "python",
   "nbconvert_exporter": "python",
   "pygments_lexer": "ipython3",
   "version": "3.7.4"
  }
 },
 "nbformat": 4,
 "nbformat_minor": 2
}
