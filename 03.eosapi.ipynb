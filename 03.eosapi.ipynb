{
 "cells": [
  {
   "cell_type": "code",
   "execution_count": 1,
   "metadata": {},
   "outputs": [],
   "source": [
    "from pyeoskit import eosapi"
   ]
  },
  {
   "cell_type": "code",
   "execution_count": 2,
   "metadata": {},
   "outputs": [
    {
     "data": {
      "text/plain": [
       "{\n",
       "    \"server_version\": \"4475c4b2\",\n",
       "    \"chain_id\": \"cf057bbfb72640471fd910bcb67639c22df9f92470936cddc1ade0e2f2e7dc4f\",\n",
       "    \"head_block_num\": 906524,\n",
       "    \"last_irreversible_block_num\": 906523,\n",
       "    \"last_irreversible_block_id\": \"000dd51b5671b4182c3fdbcc37ddc0f9f09c48d11a0d4677d37a90f9bfa0a754\",\n",
       "    \"head_block_id\": \"000dd51cb830a8a09d09abac75b57920785c29b67defef98540e9b1813b1f1e0\",\n",
       "    \"head_block_time\": \"2019-06-05T03:39:09.000\",\n",
       "    \"head_block_producer\": \"eosio\",\n",
       "    \"virtual_block_cpu_limit\": 200000000,\n",
       "    \"virtual_block_net_limit\": 1048576000,\n",
       "    \"block_cpu_limit\": 199900,\n",
       "    \"block_net_limit\": 1048576,\n",
       "    \"server_version_string\": \"v1.7.3-9333-geb357683c-dirty\"\n",
       "}"
      ]
     },
     "execution_count": 2,
     "metadata": {},
     "output_type": "execute_result"
    }
   ],
   "source": [
    "eosapi.get_info()"
   ]
  },
  {
   "cell_type": "code",
   "execution_count": 3,
   "metadata": {},
   "outputs": [
    {
     "data": {
      "text/plain": [
       "'http://127.0.0.1:8888'"
      ]
     },
     "execution_count": 3,
     "metadata": {},
     "output_type": "execute_result"
    }
   ],
   "source": [
    "eosapi.client.node_url"
   ]
  },
  {
   "cell_type": "code",
   "execution_count": 5,
   "metadata": {},
   "outputs": [],
   "source": [
    "eosapi.set_default_nodes()"
   ]
  },
  {
   "cell_type": "code",
   "execution_count": 6,
   "metadata": {},
   "outputs": [
    {
     "data": {
      "text/plain": [
       "{'public': 'EOS62hEu7hGnSEqo63mZjBGr1vb4K5tHPyrbkuRNfzmeBGi3Bexek',\n",
       " 'private': '5KLZi3KkioFrKCqU7Mv44hMuQerievq2qo65zYHLtwnWMyoKetX'}"
      ]
     },
     "execution_count": 6,
     "metadata": {},
     "output_type": "execute_result"
    }
   ],
   "source": [
    "eosapi.create_key()"
   ]
  },
  {
   "cell_type": "code",
   "execution_count": 7,
   "metadata": {},
   "outputs": [
    {
     "data": {
      "text/plain": [
       "{\n",
       "    \"account_name\": \"eosio.token\",\n",
       "    \"head_block_num\": 61836227,\n",
       "    \"head_block_time\": \"2019-06-05T03:39:42.000\",\n",
       "    \"privileged\": false,\n",
       "    \"last_code_update\": \"2019-04-24T16:18:53.500\",\n",
       "    \"created\": \"2018-06-09T11:57:37.000\",\n",
       "    \"core_liquid_balance\": \"3894.9842 EOS\",\n",
       "    \"ram_quota\": 599555,\n",
       "    \"net_weight\": 100000,\n",
       "    \"cpu_weight\": 100000,\n",
       "    \"net_limit\": {\n",
       "        \"used\": 0,\n",
       "        \"available\": 9323490,\n",
       "        \"max\": 9323490\n",
       "    },\n",
       "    \"cpu_limit\": {\n",
       "        \"used\": 1206,\n",
       "        \"available\": 1684157,\n",
       "        \"max\": 1685363\n",
       "    },\n",
       "    \"ram_usage\": 247704,\n",
       "    \"permissions\": [\n",
       "        {\n",
       "            \"perm_name\": \"active\",\n",
       "            \"parent\": \"owner\",\n",
       "            \"required_auth\": {\n",
       "                \"threshold\": 1,\n",
       "                \"keys\": [],\n",
       "                \"accounts\": [\n",
       "                    {\n",
       "                        \"permission\": {\n",
       "                            \"actor\": \"eosio\",\n",
       "                            \"permission\": \"active\"\n",
       "                        },\n",
       "                        \"weight\": 1\n",
       "                    }\n",
       "                ],\n",
       "                \"waits\": []\n",
       "            }\n",
       "        },\n",
       "        {\n",
       "            \"perm_name\": \"owner\",\n",
       "            \"parent\": \"\",\n",
       "            \"required_auth\": {\n",
       "                \"threshold\": 1,\n",
       "                \"keys\": [],\n",
       "                \"accounts\": [\n",
       "                    {\n",
       "                        \"permission\": {\n",
       "                            \"actor\": \"eosio\",\n",
       "                            \"permission\": \"active\"\n",
       "                        },\n",
       "                        \"weight\": 1\n",
       "                    }\n",
       "                ],\n",
       "                \"waits\": []\n",
       "            }\n",
       "        }\n",
       "    ],\n",
       "    \"total_resources\": {\n",
       "        \"owner\": \"eosio.token\",\n",
       "        \"net_weight\": \"0.0300 EOS\",\n",
       "        \"cpu_weight\": \"0.0600 EOS\",\n",
       "        \"ram_bytes\": 598155\n",
       "    },\n",
       "    \"self_delegated_bandwidth\": null,\n",
       "    \"refund_request\": null,\n",
       "    \"voter_info\": {\n",
       "        \"owner\": \"eosio.token\",\n",
       "        \"proxy\": \"\",\n",
       "        \"producers\": [],\n",
       "        \"staked\": 0,\n",
       "        \"last_vote_weight\": \"0.00000000000000000\",\n",
       "        \"proxied_vote_weight\": \"0.00000000000000000\",\n",
       "        \"is_proxy\": 0,\n",
       "        \"flags1\": 6,\n",
       "        \"reserved2\": 0,\n",
       "        \"reserved3\": \"0 \"\n",
       "    }\n",
       "}"
      ]
     },
     "execution_count": 7,
     "metadata": {},
     "output_type": "execute_result"
    }
   ],
   "source": [
    "eosapi.get_account('eosio.token')"
   ]
  },
  {
   "cell_type": "code",
   "execution_count": 9,
   "metadata": {},
   "outputs": [],
   "source": [
    "eosapi.set_nodes(['http://127.0.0.1:8888'])"
   ]
  },
  {
   "cell_type": "code",
   "execution_count": 10,
   "metadata": {},
   "outputs": [
    {
     "data": {
      "text/plain": [
       "{\n",
       "    \"server_version\": \"4475c4b2\",\n",
       "    \"chain_id\": \"cf057bbfb72640471fd910bcb67639c22df9f92470936cddc1ade0e2f2e7dc4f\",\n",
       "    \"head_block_num\": 906865,\n",
       "    \"last_irreversible_block_num\": 906864,\n",
       "    \"last_irreversible_block_id\": \"000dd670dbfaf07eb0dfe1e6e0a29059555716280f6dd857b601d1456208cd9e\",\n",
       "    \"head_block_id\": \"000dd6713e4d60aa895032cd76f726e61d985f897560ea01342d9ab9999c1691\",\n",
       "    \"head_block_time\": \"2019-06-05T03:41:59.500\",\n",
       "    \"head_block_producer\": \"eosio\",\n",
       "    \"virtual_block_cpu_limit\": 200000000,\n",
       "    \"virtual_block_net_limit\": 1048576000,\n",
       "    \"block_cpu_limit\": 199900,\n",
       "    \"block_net_limit\": 1048576,\n",
       "    \"server_version_string\": \"v1.7.3-9333-geb357683c-dirty\"\n",
       "}"
      ]
     },
     "execution_count": 10,
     "metadata": {},
     "output_type": "execute_result"
    }
   ],
   "source": [
    "eosapi.get_info()"
   ]
  },
  {
   "cell_type": "code",
   "execution_count": 4,
   "metadata": {},
   "outputs": [
    {
     "data": {
      "text/plain": [
       "9999999499040.975"
      ]
     },
     "execution_count": 4,
     "metadata": {},
     "output_type": "execute_result"
    }
   ],
   "source": [
    "eosapi.get_balance('eosio')"
   ]
  },
  {
   "cell_type": "code",
   "execution_count": 5,
   "metadata": {},
   "outputs": [
    {
     "data": {
      "text/plain": [
       "9999999499040.975"
      ]
     },
     "execution_count": 5,
     "metadata": {},
     "output_type": "execute_result"
    }
   ],
   "source": [
    "eosapi.get_balance('eosio', token_account='eosio.token', token_name='EOS')"
   ]
  },
  {
   "cell_type": "code",
   "execution_count": 6,
   "metadata": {},
   "outputs": [
    {
     "ename": "HttpAPIError",
     "evalue": "API returned status code: 500 {\"code\":500,\"message\":\"Internal Service Error\",\"error\":{\"code\":3090003,\"name\":\"unsatisfied_authorization\",\"what\":\"Provided keys, permissions, and delays do not satisfy declared authorizations\",\"details\":[{\"message\":\"transaction declares authority '${auth}', but does not have signatures for it under a provided delay of 0 ms, provided permissions ${provided_permissions}, provided keys ${provided_keys}, and a delay max limit of 3888000000 ms\",\"file\":\"authorization_manager.cpp\",\"line_number\":520,\"method\":\"check_authorization\"}]}}",
     "output_type": "error",
     "traceback": [
      "\u001b[0;31m---------------------------------------------------------------------------\u001b[0m",
      "\u001b[0;31mHttpAPIError\u001b[0m                              Traceback (most recent call last)",
      "\u001b[0;32m<ipython-input-6-c9310b76eca0>\u001b[0m in \u001b[0;36m<module>\u001b[0;34m\u001b[0m\n\u001b[0;32m----> 1\u001b[0;31m \u001b[0meosapi\u001b[0m\u001b[0;34m.\u001b[0m\u001b[0mtransfer\u001b[0m\u001b[0;34m(\u001b[0m\u001b[0;34m'eosio'\u001b[0m\u001b[0;34m,\u001b[0m \u001b[0;34m'eosio.token'\u001b[0m\u001b[0;34m,\u001b[0m \u001b[0;36m0.1\u001b[0m\u001b[0;34m,\u001b[0m \u001b[0;34m'hello'\u001b[0m\u001b[0;34m)\u001b[0m\u001b[0;34m\u001b[0m\u001b[0;34m\u001b[0m\u001b[0m\n\u001b[0m",
      "\u001b[0;32m~/anaconda3/lib/python3.7/site-packages/pyeoskit/eosapi.py\u001b[0m in \u001b[0;36mtransfer\u001b[0;34m(self, _from, _to, _amount, _memo, token_account, symbol)\u001b[0m\n\u001b[1;32m    311\u001b[0m     \u001b[0;32mdef\u001b[0m \u001b[0mtransfer\u001b[0m\u001b[0;34m(\u001b[0m\u001b[0mself\u001b[0m\u001b[0;34m,\u001b[0m \u001b[0m_from\u001b[0m\u001b[0;34m,\u001b[0m \u001b[0m_to\u001b[0m\u001b[0;34m,\u001b[0m \u001b[0m_amount\u001b[0m\u001b[0;34m,\u001b[0m \u001b[0m_memo\u001b[0m\u001b[0;34m=\u001b[0m\u001b[0;34m''\u001b[0m\u001b[0;34m,\u001b[0m \u001b[0mtoken_account\u001b[0m\u001b[0;34m=\u001b[0m\u001b[0;34m'eosio.token'\u001b[0m\u001b[0;34m,\u001b[0m \u001b[0msymbol\u001b[0m\u001b[0;34m=\u001b[0m\u001b[0;34m'EOS'\u001b[0m\u001b[0;34m)\u001b[0m\u001b[0;34m:\u001b[0m\u001b[0;34m\u001b[0m\u001b[0;34m\u001b[0m\u001b[0m\n\u001b[1;32m    312\u001b[0m         \u001b[0margs\u001b[0m \u001b[0;34m=\u001b[0m \u001b[0;34m{\u001b[0m\u001b[0;34m\"from\"\u001b[0m\u001b[0;34m:\u001b[0m\u001b[0m_from\u001b[0m\u001b[0;34m,\u001b[0m \u001b[0;34m\"to\"\u001b[0m\u001b[0;34m:\u001b[0m\u001b[0m_to\u001b[0m\u001b[0;34m,\u001b[0m \u001b[0;34m\"quantity\"\u001b[0m\u001b[0;34m:\u001b[0m\u001b[0;34m'%.4f %s'\u001b[0m\u001b[0;34m%\u001b[0m\u001b[0;34m(\u001b[0m\u001b[0m_amount\u001b[0m\u001b[0;34m,\u001b[0m\u001b[0msymbol\u001b[0m\u001b[0;34m)\u001b[0m\u001b[0;34m,\u001b[0m \u001b[0;34m\"memo\"\u001b[0m\u001b[0;34m:\u001b[0m\u001b[0m_memo\u001b[0m\u001b[0;34m}\u001b[0m\u001b[0;34m\u001b[0m\u001b[0;34m\u001b[0m\u001b[0m\n\u001b[0;32m--> 313\u001b[0;31m         \u001b[0;32mreturn\u001b[0m \u001b[0mself\u001b[0m\u001b[0;34m.\u001b[0m\u001b[0mpush_action\u001b[0m\u001b[0;34m(\u001b[0m\u001b[0mtoken_account\u001b[0m\u001b[0;34m,\u001b[0m \u001b[0;34m'transfer'\u001b[0m\u001b[0;34m,\u001b[0m \u001b[0margs\u001b[0m\u001b[0;34m,\u001b[0m \u001b[0;34m{\u001b[0m\u001b[0m_from\u001b[0m\u001b[0;34m:\u001b[0m\u001b[0;34m'active'\u001b[0m\u001b[0;34m}\u001b[0m\u001b[0;34m)\u001b[0m\u001b[0;34m\u001b[0m\u001b[0;34m\u001b[0m\u001b[0m\n\u001b[0m\u001b[1;32m    314\u001b[0m \u001b[0;34m\u001b[0m\u001b[0m\n\u001b[1;32m    315\u001b[0m     \u001b[0;32mdef\u001b[0m \u001b[0mget_abi\u001b[0m\u001b[0;34m(\u001b[0m\u001b[0mself\u001b[0m\u001b[0;34m,\u001b[0m \u001b[0maccount\u001b[0m\u001b[0;34m)\u001b[0m\u001b[0;34m:\u001b[0m\u001b[0;34m\u001b[0m\u001b[0;34m\u001b[0m\u001b[0m\n",
      "\u001b[0;32m~/anaconda3/lib/python3.7/site-packages/pyeoskit/eosapi.py\u001b[0m in \u001b[0;36mpush_action\u001b[0;34m(self, contract, action, args, permissions)\u001b[0m\n\u001b[1;32m    213\u001b[0m         \u001b[0mtrx\u001b[0m \u001b[0;34m=\u001b[0m \u001b[0mwallet\u001b[0m\u001b[0;34m.\u001b[0m\u001b[0msign_transaction\u001b[0m\u001b[0;34m(\u001b[0m\u001b[0mtrx\u001b[0m\u001b[0;34m,\u001b[0m \u001b[0mkeys\u001b[0m\u001b[0;34m,\u001b[0m \u001b[0mself\u001b[0m\u001b[0;34m.\u001b[0m\u001b[0mget_info\u001b[0m\u001b[0;34m(\u001b[0m\u001b[0;34m)\u001b[0m\u001b[0;34m.\u001b[0m\u001b[0mchain_id\u001b[0m\u001b[0;34m)\u001b[0m\u001b[0;34m\u001b[0m\u001b[0;34m\u001b[0m\u001b[0m\n\u001b[1;32m    214\u001b[0m         \u001b[0mtrx\u001b[0m \u001b[0;34m=\u001b[0m \u001b[0m_eosapi\u001b[0m\u001b[0;34m.\u001b[0m\u001b[0mpack_transaction\u001b[0m\u001b[0;34m(\u001b[0m\u001b[0mtrx\u001b[0m\u001b[0;34m,\u001b[0m \u001b[0;36m0\u001b[0m\u001b[0;34m)\u001b[0m\u001b[0;34m\u001b[0m\u001b[0;34m\u001b[0m\u001b[0m\n\u001b[0;32m--> 215\u001b[0;31m         \u001b[0;32mreturn\u001b[0m \u001b[0mself\u001b[0m\u001b[0;34m.\u001b[0m\u001b[0mclient\u001b[0m\u001b[0;34m.\u001b[0m\u001b[0mpush_transaction\u001b[0m\u001b[0;34m(\u001b[0m\u001b[0mtrx\u001b[0m\u001b[0;34m)\u001b[0m\u001b[0;34m\u001b[0m\u001b[0;34m\u001b[0m\u001b[0m\n\u001b[0m\u001b[1;32m    216\u001b[0m \u001b[0;34m\u001b[0m\u001b[0m\n\u001b[1;32m    217\u001b[0m     \u001b[0;32mdef\u001b[0m \u001b[0mpush_actions\u001b[0m\u001b[0;34m(\u001b[0m\u001b[0mself\u001b[0m\u001b[0;34m,\u001b[0m \u001b[0mactions\u001b[0m\u001b[0;34m)\u001b[0m\u001b[0;34m:\u001b[0m\u001b[0;34m\u001b[0m\u001b[0;34m\u001b[0m\u001b[0m\n",
      "\u001b[0;32m~/anaconda3/lib/python3.7/site-packages/pyeoskit/client.py\u001b[0m in \u001b[0;36mpush_transaction\u001b[0;34m(self, signed_transaction)\u001b[0m\n\u001b[1;32m    354\u001b[0m             \u001b[0mapi\u001b[0m\u001b[0;34m=\u001b[0m\u001b[0;34m'chain'\u001b[0m\u001b[0;34m,\u001b[0m\u001b[0;34m\u001b[0m\u001b[0;34m\u001b[0m\u001b[0m\n\u001b[1;32m    355\u001b[0m             \u001b[0mendpoint\u001b[0m\u001b[0;34m=\u001b[0m\u001b[0;34m'push_transaction'\u001b[0m\u001b[0;34m,\u001b[0m\u001b[0;34m\u001b[0m\u001b[0;34m\u001b[0m\u001b[0m\n\u001b[0;32m--> 356\u001b[0;31m             \u001b[0mbody\u001b[0m\u001b[0;34m=\u001b[0m\u001b[0mbody\u001b[0m\u001b[0;34m\u001b[0m\u001b[0;34m\u001b[0m\u001b[0m\n\u001b[0m\u001b[1;32m    357\u001b[0m         )\n\u001b[1;32m    358\u001b[0m \u001b[0;34m\u001b[0m\u001b[0m\n",
      "\u001b[0;32m~/anaconda3/lib/python3.7/site-packages/pyeoskit/http_client.py\u001b[0m in \u001b[0;36mexec\u001b[0;34m(self, api, endpoint, body, _ret_cnt)\u001b[0m\n\u001b[1;32m    158\u001b[0m                 return self._return(\n\u001b[1;32m    159\u001b[0m                     \u001b[0mresponse\u001b[0m\u001b[0;34m=\u001b[0m\u001b[0mresponse\u001b[0m\u001b[0;34m,\u001b[0m\u001b[0;34m\u001b[0m\u001b[0;34m\u001b[0m\u001b[0m\n\u001b[0;32m--> 160\u001b[0;31m                     body=body)\n\u001b[0m\u001b[1;32m    161\u001b[0m \u001b[0;34m\u001b[0m\u001b[0m\n\u001b[1;32m    162\u001b[0m     \u001b[0;34m@\u001b[0m\u001b[0mstaticmethod\u001b[0m\u001b[0;34m\u001b[0m\u001b[0;34m\u001b[0m\u001b[0m\n",
      "\u001b[0;32m~/anaconda3/lib/python3.7/site-packages/pyeoskit/http_client.py\u001b[0m in \u001b[0;36m_return\u001b[0;34m(response, body)\u001b[0m\n\u001b[1;32m    185\u001b[0m                         \u001b[0mresponse\u001b[0m\u001b[0;34m.\u001b[0m\u001b[0mstatus\u001b[0m\u001b[0;34m,\u001b[0m\u001b[0;34m\u001b[0m\u001b[0;34m\u001b[0m\u001b[0m\n\u001b[1;32m    186\u001b[0m                         extra=extra)\n\u001b[0;32m--> 187\u001b[0;31m             \u001b[0;32mraise\u001b[0m \u001b[0mHttpAPIError\u001b[0m\u001b[0;34m(\u001b[0m\u001b[0mresponse\u001b[0m\u001b[0;34m.\u001b[0m\u001b[0mstatus\u001b[0m\u001b[0;34m,\u001b[0m \u001b[0mresult\u001b[0m\u001b[0;34m)\u001b[0m\u001b[0;34m\u001b[0m\u001b[0;34m\u001b[0m\u001b[0m\n\u001b[0m\u001b[1;32m    188\u001b[0m \u001b[0;34m\u001b[0m\u001b[0m\n\u001b[1;32m    189\u001b[0m         \u001b[0;32mtry\u001b[0m\u001b[0;34m:\u001b[0m\u001b[0;34m\u001b[0m\u001b[0;34m\u001b[0m\u001b[0m\n",
      "\u001b[0;31mHttpAPIError\u001b[0m: API returned status code: 500 {\"code\":500,\"message\":\"Internal Service Error\",\"error\":{\"code\":3090003,\"name\":\"unsatisfied_authorization\",\"what\":\"Provided keys, permissions, and delays do not satisfy declared authorizations\",\"details\":[{\"message\":\"transaction declares authority '${auth}', but does not have signatures for it under a provided delay of 0 ms, provided permissions ${provided_permissions}, provided keys ${provided_keys}, and a delay max limit of 3888000000 ms\",\"file\":\"authorization_manager.cpp\",\"line_number\":520,\"method\":\"check_authorization\"}]}}"
     ]
    }
   ],
   "source": [
    "eosapi.transfer('eosio', 'eosio.token', 0.1, 'hello')"
   ]
  },
  {
   "cell_type": "code",
   "execution_count": null,
   "metadata": {},
   "outputs": [],
   "source": []
  }
 ],
 "metadata": {
  "kernelspec": {
   "display_name": "Python 3",
   "language": "python",
   "name": "python3"
  },
  "language_info": {
   "codemirror_mode": {
    "name": "ipython",
    "version": 3
   },
   "file_extension": ".py",
   "mimetype": "text/x-python",
   "name": "python",
   "nbconvert_exporter": "python",
   "pygments_lexer": "ipython3",
   "version": "3.7.3"
  }
 },
 "nbformat": 4,
 "nbformat_minor": 2
}
