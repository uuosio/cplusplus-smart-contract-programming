{
 "cells": [
  {
   "cell_type": "code",
   "execution_count": 3,
   "metadata": {},
   "outputs": [
    {
     "data": {
      "text/plain": [
       "False"
      ]
     },
     "execution_count": 3,
     "metadata": {},
     "output_type": "execute_result"
    }
   ],
   "source": [
    "from init import *\n",
    "wallet.import_key('test', '5KH8vwQkP4QoTwgBtCV5ZYhKmv8mx56WeNrw9AZuhNRXTrPzgYc')\n",
    "wallet.import_key('test', '5KFQ5opDDCADMZwwwsKF89przC9pZc9Dc4Ed2GYbGo8S32Yy2Gw')\n",
    "wallet.import_key('test', '5Ji6xuMzbv8UsvJxqFzzknBhWJQZKAjqAKcxnRtMehViNfS1CSS')"
   ]
  },
  {
   "cell_type": "code",
   "execution_count": 4,
   "metadata": {
    "scrolled": true
   },
   "outputs": [
    {
     "data": {
      "text/plain": [
       "'EOS7ent7keWbVgvptfYaMYeF2cenMBiwYKcwEuc11uCbStsFKsrmV'"
      ]
     },
     "execution_count": 4,
     "metadata": {},
     "output_type": "execute_result"
    }
   ],
   "source": [
    "eosapi.get_public_key('5KH8vwQkP4QoTwgBtCV5ZYhKmv8mx56WeNrw9AZuhNRXTrPzgYc')"
   ]
  },
  {
   "cell_type": "code",
   "execution_count": 5,
   "metadata": {},
   "outputs": [
    {
     "data": {
      "text/plain": [
       "'EOS7u2gnQzoybz6YZvoi5RY6rMqkbAycDBFEFGhsvHEDmB7tffc2h'"
      ]
     },
     "execution_count": 5,
     "metadata": {},
     "output_type": "execute_result"
    }
   ],
   "source": [
    "eosapi.get_public_key('5KFQ5opDDCADMZwwwsKF89przC9pZc9Dc4Ed2GYbGo8S32Yy2Gw')"
   ]
  },
  {
   "cell_type": "code",
   "execution_count": 6,
   "metadata": {},
   "outputs": [
    {
     "data": {
      "text/plain": [
       "'EOS6DW7yDB68zSD7GbUycAkHk6XAxwxfuHMHPJBuz2YexsdnjSZvL'"
      ]
     },
     "execution_count": 6,
     "metadata": {},
     "output_type": "execute_result"
    }
   ],
   "source": [
    "eosapi.get_public_key('5Ji6xuMzbv8UsvJxqFzzknBhWJQZKAjqAKcxnRtMehViNfS1CSS')"
   ]
  },
  {
   "cell_type": "code",
   "execution_count": 7,
   "metadata": {
    "scrolled": true
   },
   "outputs": [
    {
     "data": {
      "text/plain": [
       "{\n",
       "    \"account_name\": \"helloworld11\",\n",
       "    \"head_block_num\": 145828,\n",
       "    \"head_block_time\": \"2019-06-23T03:49:26.000\",\n",
       "    \"privileged\": false,\n",
       "    \"last_code_update\": \"2019-06-23T03:40:23.000\",\n",
       "    \"created\": \"2019-06-21T01:59:21.000\",\n",
       "    \"core_liquid_balance\": \"109990461.3883 UUOS\",\n",
       "    \"ram_quota\": 65206,\n",
       "    \"net_weight\": 10000,\n",
       "    \"cpu_weight\": 10000,\n",
       "    \"net_limit\": {\n",
       "        \"used\": 119822,\n",
       "        \"available\": \"90596966280178\",\n",
       "        \"max\": \"90596966400000\"\n",
       "    },\n",
       "    \"cpu_limit\": {\n",
       "        \"used\": 93160,\n",
       "        \"available\": \"17279999906840\",\n",
       "        \"max\": \"17280000000000\"\n",
       "    },\n",
       "    \"ram_usage\": 52326,\n",
       "    \"permissions\": [\n",
       "        {\n",
       "            \"perm_name\": \"active\",\n",
       "            \"parent\": \"owner\",\n",
       "            \"required_auth\": {\n",
       "                \"threshold\": 1,\n",
       "                \"keys\": [\n",
       "                    {\n",
       "                        \"key\": \"EOS7ent7keWbVgvptfYaMYeF2cenMBiwYKcwEuc11uCbStsFKsrmV\",\n",
       "                        \"weight\": 1\n",
       "                    }\n",
       "                ],\n",
       "                \"accounts\": [],\n",
       "                \"waits\": []\n",
       "            }\n",
       "        },\n",
       "        {\n",
       "            \"perm_name\": \"owner\",\n",
       "            \"parent\": \"\",\n",
       "            \"required_auth\": {\n",
       "                \"threshold\": 1,\n",
       "                \"keys\": [\n",
       "                    {\n",
       "                        \"key\": \"EOS7ent7keWbVgvptfYaMYeF2cenMBiwYKcwEuc11uCbStsFKsrmV\",\n",
       "                        \"weight\": 1\n",
       "                    }\n",
       "                ],\n",
       "                \"accounts\": [],\n",
       "                \"waits\": []\n",
       "            }\n",
       "        }\n",
       "    ],\n",
       "    \"total_resources\": {\n",
       "        \"owner\": \"helloworld11\",\n",
       "        \"net_weight\": \"1.0000 UUOS\",\n",
       "        \"cpu_weight\": \"1.0000 UUOS\",\n",
       "        \"ram_bytes\": 65206\n",
       "    },\n",
       "    \"self_delegated_bandwidth\": {\n",
       "        \"from\": \"helloworld11\",\n",
       "        \"to\": \"helloworld11\",\n",
       "        \"net_weight\": \"1.0000 UUOS\",\n",
       "        \"cpu_weight\": \"1.0000 UUOS\"\n",
       "    },\n",
       "    \"refund_request\": null,\n",
       "    \"voter_info\": {\n",
       "        \"owner\": \"helloworld11\",\n",
       "        \"proxy\": \"\",\n",
       "        \"producers\": [],\n",
       "        \"staked\": 20000,\n",
       "        \"last_vote_weight\": \"0.00000000000000000\",\n",
       "        \"proxied_vote_weight\": \"0.00000000000000000\",\n",
       "        \"is_proxy\": 0\n",
       "    }\n",
       "}"
      ]
     },
     "execution_count": 7,
     "metadata": {},
     "output_type": "execute_result"
    }
   ],
   "source": [
    "eosapi.get_account('helloworld11')"
   ]
  },
  {
   "cell_type": "code",
   "execution_count": 8,
   "metadata": {},
   "outputs": [
    {
     "name": "stdout",
     "output_type": "stream",
     "text": [
      "done!\n"
     ]
    }
   ],
   "source": [
    "account_name = 'helloworld11'\n",
    "a = {\n",
    "    \"account\": account_name,\n",
    "    \"permission\": \"active\",\n",
    "    \"parent\": \"owner\",\n",
    "    \"auth\": {\n",
    "        \"threshold\": 1,\n",
    "        \"keys\": [\n",
    "            {\n",
    "                \"key\": \"EOS6DW7yDB68zSD7GbUycAkHk6XAxwxfuHMHPJBuz2YexsdnjSZvL\",\n",
    "                \"weight\": 1\n",
    "            }\n",
    "        ],\n",
    "        \"accounts\": [],\n",
    "        \"waits\": []\n",
    "    }\n",
    "}\n",
    "r = eosapi.push_action('eosio', 'updateauth', a, {account_name:'owner'})\n",
    "print('done!')"
   ]
  },
  {
   "cell_type": "code",
   "execution_count": 9,
   "metadata": {},
   "outputs": [
    {
     "name": "stdout",
     "output_type": "stream",
     "text": [
      "done!\n"
     ]
    }
   ],
   "source": [
    "account_name = 'helloworld11'\n",
    "a = {\n",
    "    \"account\": account_name,\n",
    "    \"permission\": \"owner\",\n",
    "    \"parent\": \"\",\n",
    "    \"auth\": {\n",
    "        \"threshold\": 1,\n",
    "        \"keys\": [\n",
    "            {\n",
    "                \"key\": \"EOS6DW7yDB68zSD7GbUycAkHk6XAxwxfuHMHPJBuz2YexsdnjSZvL\",\n",
    "                \"weight\": 1\n",
    "            }\n",
    "        ],\n",
    "        \"accounts\": [],\n",
    "        \"waits\": []\n",
    "    }\n",
    "}\n",
    "r = eosapi.push_action('eosio', 'updateauth', a, {account_name:'owner'})\n",
    "print('done!')"
   ]
  },
  {
   "cell_type": "code",
   "execution_count": 10,
   "metadata": {},
   "outputs": [
    {
     "name": "stdout",
     "output_type": "stream",
     "text": [
      "done!\n"
     ]
    }
   ],
   "source": [
    "account_name = 'helloworld11'\n",
    "authority = {\n",
    "    \"account\": account_name,\n",
    "    \"permission\": \"active\",\n",
    "    \"parent\": \"owner\",\n",
    "    \"auth\": {\n",
    "        \"threshold\": 1,\n",
    "        \"keys\": [\n",
    "        ],\n",
    "        \"accounts\": [],\n",
    "        \"waits\": []\n",
    "    }\n",
    "}\n",
    "\n",
    "public_keys = ['EOS7u2gnQzoybz6YZvoi5RY6rMqkbAycDBFEFGhsvHEDmB7tffc2h', 'EOS7ent7keWbVgvptfYaMYeF2cenMBiwYKcwEuc11uCbStsFKsrmV',]\n",
    "public_keys.sort()\n",
    "\n",
    "key = {\"key\": public_keys[0], \"weight\": 1}\n",
    "\n",
    "authority['auth']['keys'].append(key)\n",
    "\n",
    "key = {\"key\": public_keys[1], \"weight\": 1}\n",
    "authority['auth']['keys'].append(key)\n",
    "\n",
    "accounts = ['eosio', 'eosio.token']\n",
    "accounts.sort()\n",
    "\n",
    "account = {\"permission\":{\"actor\":accounts[0],\"permission\":\"active\"},\"weight\":1}\n",
    "authority['auth']['accounts'].append(account)\n",
    "\n",
    "account = {\"permission\":{\"actor\":accounts[1],\"permission\":\"active\"},\"weight\":1}\n",
    "authority['auth']['accounts'].append(account)\n",
    "\n",
    "\n",
    "r = eosapi.push_action('eosio', 'updateauth', authority, {account_name:'owner'})\n",
    "print('done!')"
   ]
  },
  {
   "cell_type": "code",
   "execution_count": 11,
   "metadata": {
    "scrolled": true
   },
   "outputs": [
    {
     "data": {
      "text/plain": [
       "{\n",
       "    \"account_name\": \"helloworld11\",\n",
       "    \"head_block_num\": 146057,\n",
       "    \"head_block_time\": \"2019-06-23T03:51:20.500\",\n",
       "    \"privileged\": false,\n",
       "    \"last_code_update\": \"2019-06-23T03:40:23.000\",\n",
       "    \"created\": \"2019-06-21T01:59:21.000\",\n",
       "    \"core_liquid_balance\": \"109990461.3883 UUOS\",\n",
       "    \"ram_quota\": 65206,\n",
       "    \"net_weight\": 10000,\n",
       "    \"cpu_weight\": 10000,\n",
       "    \"net_limit\": {\n",
       "        \"used\": 119477,\n",
       "        \"available\": \"90596966280523\",\n",
       "        \"max\": \"90596966400000\"\n",
       "    },\n",
       "    \"cpu_limit\": {\n",
       "        \"used\": 94649,\n",
       "        \"available\": \"17279999905351\",\n",
       "        \"max\": \"17280000000000\"\n",
       "    },\n",
       "    \"ram_usage\": 52440,\n",
       "    \"permissions\": [\n",
       "        {\n",
       "            \"perm_name\": \"active\",\n",
       "            \"parent\": \"owner\",\n",
       "            \"required_auth\": {\n",
       "                \"threshold\": 1,\n",
       "                \"keys\": [\n",
       "                    {\n",
       "                        \"key\": \"EOS7ent7keWbVgvptfYaMYeF2cenMBiwYKcwEuc11uCbStsFKsrmV\",\n",
       "                        \"weight\": 1\n",
       "                    },\n",
       "                    {\n",
       "                        \"key\": \"EOS7u2gnQzoybz6YZvoi5RY6rMqkbAycDBFEFGhsvHEDmB7tffc2h\",\n",
       "                        \"weight\": 1\n",
       "                    }\n",
       "                ],\n",
       "                \"accounts\": [\n",
       "                    {\n",
       "                        \"permission\": {\n",
       "                            \"actor\": \"eosio\",\n",
       "                            \"permission\": \"active\"\n",
       "                        },\n",
       "                        \"weight\": 1\n",
       "                    },\n",
       "                    {\n",
       "                        \"permission\": {\n",
       "                            \"actor\": \"eosio.token\",\n",
       "                            \"permission\": \"active\"\n",
       "                        },\n",
       "                        \"weight\": 1\n",
       "                    }\n",
       "                ],\n",
       "                \"waits\": []\n",
       "            }\n",
       "        },\n",
       "        {\n",
       "            \"perm_name\": \"owner\",\n",
       "            \"parent\": \"\",\n",
       "            \"required_auth\": {\n",
       "                \"threshold\": 1,\n",
       "                \"keys\": [\n",
       "                    {\n",
       "                        \"key\": \"EOS6DW7yDB68zSD7GbUycAkHk6XAxwxfuHMHPJBuz2YexsdnjSZvL\",\n",
       "                        \"weight\": 1\n",
       "                    }\n",
       "                ],\n",
       "                \"accounts\": [],\n",
       "                \"waits\": []\n",
       "            }\n",
       "        }\n",
       "    ],\n",
       "    \"total_resources\": {\n",
       "        \"owner\": \"helloworld11\",\n",
       "        \"net_weight\": \"1.0000 UUOS\",\n",
       "        \"cpu_weight\": \"1.0000 UUOS\",\n",
       "        \"ram_bytes\": 65206\n",
       "    },\n",
       "    \"self_delegated_bandwidth\": {\n",
       "        \"from\": \"helloworld11\",\n",
       "        \"to\": \"helloworld11\",\n",
       "        \"net_weight\": \"1.0000 UUOS\",\n",
       "        \"cpu_weight\": \"1.0000 UUOS\"\n",
       "    },\n",
       "    \"refund_request\": null,\n",
       "    \"voter_info\": {\n",
       "        \"owner\": \"helloworld11\",\n",
       "        \"proxy\": \"\",\n",
       "        \"producers\": [],\n",
       "        \"staked\": 20000,\n",
       "        \"last_vote_weight\": \"0.00000000000000000\",\n",
       "        \"proxied_vote_weight\": \"0.00000000000000000\",\n",
       "        \"is_proxy\": 0\n",
       "    }\n",
       "}"
      ]
     },
     "execution_count": 11,
     "metadata": {},
     "output_type": "execute_result"
    }
   ],
   "source": [
    "eosapi.get_account('helloworld11')"
   ]
  },
  {
   "cell_type": "markdown",
   "metadata": {},
   "source": [
    "# has_auth"
   ]
  },
  {
   "cell_type": "code",
   "execution_count": 24,
   "metadata": {},
   "outputs": [
    {
     "name": "stdout",
     "output_type": "stream",
     "text": [
      "\n",
      "\n",
      "update contract\n",
      "done!\n"
     ]
    }
   ],
   "source": [
    "from init import *\n",
    "code = r'''\n",
    "#include <eosio/print.hpp>\n",
    "#include <eosio/name.hpp>\n",
    "#include <eosio/action.hpp>\n",
    "\n",
    "using namespace eosio;\n",
    "\n",
    "extern \"C\" {\n",
    "    void apply( uint64_t receiver, uint64_t code, uint64_t action ) {\n",
    "        print(has_auth(\"helloworld11\"_n), \" \", has_auth(\"helloworld33\"_n));\n",
    "    }\n",
    "}\n",
    "'''\n",
    "\n",
    "publish_cpp_contract('helloworld11', code)\n",
    "print('done!')\n"
   ]
  },
  {
   "cell_type": "code",
   "execution_count": 25,
   "metadata": {},
   "outputs": [
    {
     "name": "stdout",
     "output_type": "stream",
     "text": [
      "true false\n"
     ]
    }
   ],
   "source": [
    "name = 'helloworld11'\n",
    "try:\n",
    "    r = eosapi.push_action(name, 'sayhello', b'hello,world', {name:'active'})\n",
    "    print(r['processed']['action_traces'][0]['console'])\n",
    "except Exception as e:\n",
    "    print(e)\n"
   ]
  },
  {
   "cell_type": "markdown",
   "metadata": {},
   "source": [
    "# require_auth/require_auth2"
   ]
  },
  {
   "cell_type": "code",
   "execution_count": 26,
   "metadata": {},
   "outputs": [
    {
     "name": "stdout",
     "output_type": "stream",
     "text": [
      "\n",
      "\n",
      "update contract\n",
      "done!\n"
     ]
    }
   ],
   "source": [
    "from init import *\n",
    "code = r'''\n",
    "#include <eosio/print.hpp>\n",
    "#include <eosio/name.hpp>\n",
    "#include <eosio/action.hpp>\n",
    "\n",
    "using namespace eosio;\n",
    "\n",
    "extern \"C\" {\n",
    "    void apply( uint64_t receiver, uint64_t code, uint64_t action ) {\n",
    "//        require_auth({\"helloworld11\"_n, \"active\"_n});\n",
    "        require_auth({\"helloworld11\"_n, \"owner\"_n});\n",
    "    }\n",
    "}\n",
    "'''\n",
    "\n",
    "publish_cpp_contract('helloworld11', code)\n",
    "print('done!')\n"
   ]
  },
  {
   "cell_type": "code",
   "execution_count": 29,
   "metadata": {},
   "outputs": [
    {
     "name": "stdout",
     "output_type": "stream",
     "text": [
      "API returned status code: 500 {\"code\":500,\"message\":\"Internal Service Error\",\"error\":{\"code\":3090004,\"name\":\"missing_auth_exception\",\"what\":\"Missing required authority\",\"details\":[{\"message\":\"missing authority of helloworld11/owner\",\"file\":\"apply_context.cpp\",\"line_number\":195,\"method\":\"require_authorization\"},{\"message\":\"pending console output: \",\"file\":\"apply_context.cpp\",\"line_number\":96,\"method\":\"exec_one\"}]}}\n"
     ]
    }
   ],
   "source": [
    "name = 'helloworld11'\n",
    "try:\n",
    "    r = eosapi.push_action(name, 'sayhello', b'hello,world', {name:'active'})\n",
    "    print(r['processed']['action_traces'][0]['console'])\n",
    "except Exception as e:\n",
    "    print(e)"
   ]
  },
  {
   "cell_type": "code",
   "execution_count": 28,
   "metadata": {},
   "outputs": [
    {
     "name": "stdout",
     "output_type": "stream",
     "text": [
      "\n"
     ]
    }
   ],
   "source": [
    "name = 'helloworld11'\n",
    "try:\n",
    "    r = eosapi.push_action(name, 'sayhello', b'hello,world', {name:'owner'})\n",
    "    print(r['processed']['action_traces'][0]['console'])\n",
    "except Exception as e:\n",
    "    print(e)"
   ]
  }
 ],
 "metadata": {
  "kernelspec": {
   "display_name": "Python 3",
   "language": "python",
   "name": "python3"
  },
  "language_info": {
   "codemirror_mode": {
    "name": "ipython",
    "version": 3
   },
   "file_extension": ".py",
   "mimetype": "text/x-python",
   "name": "python",
   "nbconvert_exporter": "python",
   "pygments_lexer": "ipython3",
   "version": "3.7.3"
  }
 },
 "nbformat": 4,
 "nbformat_minor": 2
}
