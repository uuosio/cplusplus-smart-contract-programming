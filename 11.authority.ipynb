{
 "cells": [
  {
   "cell_type": "code",
   "execution_count": 1,
   "metadata": {},
   "outputs": [],
   "source": [
    "from init import *"
   ]
  },
  {
   "cell_type": "markdown",
   "metadata": {},
   "source": [
    "# has_auth"
   ]
  },
  {
   "cell_type": "code",
   "execution_count": 2,
   "metadata": {},
   "outputs": [
    {
     "name": "stdout",
     "output_type": "stream",
     "text": [
      "done!\n"
     ]
    }
   ],
   "source": [
    "code = r'''\n",
    "#include <eosio/print.hpp>\n",
    "#include <eosio/name.hpp>\n",
    "#include <eosio/action.hpp>\n",
    "\n",
    "using namespace eosio;\n",
    "\n",
    "extern \"C\" {\n",
    "    void apply( uint64_t receiver, uint64_t code, uint64_t action ) {\n",
    "        print(has_auth(\"helloworld11\"_n), \" \", has_auth(\"helloworld33\"_n));\n",
    "    }\n",
    "}\n",
    "'''\n",
    "\n",
    "code = uuosapi.compile(test_account1, code, vm_type=0)\n",
    "uuosapi.deploy_code(test_account1, code, vm_type=0)\n",
    "print('done!')"
   ]
  },
  {
   "cell_type": "code",
   "execution_count": 3,
   "metadata": {},
   "outputs": [
    {
     "name": "stdout",
     "output_type": "stream",
     "text": [
      "false false\n",
      "658\n"
     ]
    }
   ],
   "source": [
    "r = uuosapi.push_action(test_account1, 'sayhello', b'hello,world', {test_account1:'active'})\n",
    "print(r['processed']['action_traces'][0]['console'])\n",
    "print(r['processed']['elapsed'])"
   ]
  },
  {
   "cell_type": "markdown",
   "metadata": {},
   "source": [
    "# require_auth/require_auth2"
   ]
  },
  {
   "cell_type": "code",
   "execution_count": 6,
   "metadata": {},
   "outputs": [
    {
     "name": "stdout",
     "output_type": "stream",
     "text": [
      "done!\n"
     ]
    }
   ],
   "source": [
    "code = r'''\n",
    "#include <eosio/print.hpp>\n",
    "#include <eosio/name.hpp>\n",
    "#include <eosio/action.hpp>\n",
    "\n",
    "using namespace eosio;\n",
    "\n",
    "extern \"C\" {\n",
    "    void apply( uint64_t receiver, uint64_t code, uint64_t action ) {\n",
    "        require_auth({name(receiver), \"active\"_n});\n",
    "//        require_auth({name(receiver), \"owner\"_n});\n",
    "    }\n",
    "}\n",
    "'''\n",
    "\n",
    "code = uuosapi.compile(test_account1, code, vm_type=0)\n",
    "uuosapi.deploy_code(test_account1, code, vm_type=0)\n",
    "print('done!')"
   ]
  },
  {
   "cell_type": "code",
   "execution_count": 7,
   "metadata": {},
   "outputs": [
    {
     "name": "stdout",
     "output_type": "stream",
     "text": [
      "\n",
      "551\n"
     ]
    }
   ],
   "source": [
    "r = uuosapi.push_action(test_account1, 'sayhello', b'hello,world', {test_account1:'active'})\n",
    "print(r['processed']['action_traces'][0]['console'])\n",
    "print(r['processed']['elapsed'])"
   ]
  }
 ],
 "metadata": {
  "kernelspec": {
   "display_name": "Python 3",
   "language": "python",
   "name": "python3"
  },
  "language_info": {
   "codemirror_mode": {
    "name": "ipython",
    "version": 3
   },
   "file_extension": ".py",
   "mimetype": "text/x-python",
   "name": "python",
   "nbconvert_exporter": "python",
   "pygments_lexer": "ipython3",
   "version": "3.7.4"
  }
 },
 "nbformat": 4,
 "nbformat_minor": 2
}
