{
 "cells": [
  {
   "cell_type": "code",
   "execution_count": 1,
   "metadata": {},
   "outputs": [
    {
     "name": "stdout",
     "output_type": "stream",
     "text": [
      "/usr/local/Cellar/eosio.cdt/1.6.1/opt/eosio.cdt/include/eosiolib/capi\n"
     ]
    }
   ],
   "source": [
    "from init import *"
   ]
  },
  {
   "cell_type": "code",
   "execution_count": 43,
   "metadata": {},
   "outputs": [
    {
     "name": "stdout",
     "output_type": "stream",
     "text": [
      "clang_7 output: \n",
      "wasm_ld output: \n",
      "done!\n"
     ]
    }
   ],
   "source": [
    "from pyeoskit import db\n",
    "db.reset()\n",
    "\n",
    "code = r'''\n",
    "#include <eosio/print.hpp>\n",
    "#include <eosio/name.hpp>\n",
    "using namespace eosio;\n",
    "\n",
    "extern \"C\" {\n",
    "int call_contract_set_results(void* result, size_t size1);\n",
    "    void apply( uint64_t receiver, uint64_t code, uint64_t action ) {\n",
    "        if (\"sayhello\"_n.value == action) {\n",
    "            print(\"hello,world\\n\");\n",
    "        }\n",
    "    }\n",
    "}\n",
    "'''\n",
    "\n",
    "r = open('test.cpp', 'w').write(code)\n",
    "\n",
    "if  compile_cpp('test'):\n",
    "    account_name = 'helloworld11'\n",
    "    code = open('test.wasm', 'rb').read()\n",
    "    m = hashlib.sha256()\n",
    "    m.update(code)\n",
    "    code_hash = m.hexdigest()\n",
    "\n",
    "    r = eosapi.get_code(account_name)\n",
    "    if code_hash != r['code_hash']:\n",
    "        print('update contract')\n",
    "        abi = ''\n",
    "        r = eosapi.set_contract(account_name, code, abi, 0)\n",
    "print('done!')\n"
   ]
  },
  {
   "cell_type": "code",
   "execution_count": 44,
   "metadata": {},
   "outputs": [
    {
     "name": "stdout",
     "output_type": "stream",
     "text": [
      "hello,world\n",
      "\n",
      "1039\n"
     ]
    }
   ],
   "source": [
    "from pyeoskit import db\n",
    "db.reset()\n",
    "name = 'helloworld11'\n",
    "try:\n",
    "    r = eosapi.push_action(name, 'sayhello', b'hello,world', {name:'active'})\n",
    "    print(r['processed']['action_traces'][0]['console'])\n",
    "    print(r['processed']['elapsed'])\n",
    "except Exception as e:\n",
    "    print(e)\n"
   ]
  }
 ],
 "metadata": {
  "kernelspec": {
   "display_name": "Python 3",
   "language": "python",
   "name": "python3"
  },
  "language_info": {
   "codemirror_mode": {
    "name": "ipython",
    "version": 3
   },
   "file_extension": ".py",
   "mimetype": "text/x-python",
   "name": "python",
   "nbconvert_exporter": "python",
   "pygments_lexer": "ipython3",
   "version": "3.7.3"
  }
 },
 "nbformat": 4,
 "nbformat_minor": 2
}
