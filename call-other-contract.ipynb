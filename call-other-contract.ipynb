{
 "cells": [
  {
   "cell_type": "code",
   "execution_count": 1,
   "metadata": {},
   "outputs": [],
   "source": [
    "from init import *"
   ]
  },
  {
   "cell_type": "code",
   "execution_count": 7,
   "metadata": {},
   "outputs": [
    {
     "name": "stdout",
     "output_type": "stream",
     "text": [
      "clang_7 output: \n",
      "wasm_ld output: \n",
      "update contract\n",
      "done!\n"
     ]
    }
   ],
   "source": [
    "from pyeoskit import db\n",
    "db.reset()\n",
    "\n",
    "code = r'''\n",
    "#include <eosio/types.h>\n",
    "#include <eosio/action.h>\n",
    "#include <eosio/print.h>\n",
    "#include <eosio/name.hpp>\n",
    "\n",
    "#define N(name) #name##_n.value\n",
    "\n",
    "extern \"C\" {\n",
    "\n",
    "__attribute__((eosio_wasm_import))\n",
    "int call_contract_get_extra_args(void* extra_args, size_t size1);\n",
    "\n",
    "__attribute__((eosio_wasm_import))\n",
    "int call_contract_set_results(void* result, size_t size1);\n",
    "\n",
    "    void apply( uint64_t receiver, uint64_t code, uint64_t action ) {\n",
    "        uint64_t n = 0;\n",
    "        float f = 10.8;\n",
    "        for (int i=0;i<100;i++) {\n",
    "            n += i;\n",
    "            f += (float)i;\n",
    "        }\n",
    "        prints(\"goodbye,world\\n\");\n",
    "    }\n",
    "    \n",
    "    __attribute__((eosio_wasm_entry))\n",
    "    void call(uint64_t func, uint64_t arg1, uint64_t arg2, uint64_t arg3) {\n",
    "      if (func == N(calltest1)) {\n",
    "         uint64_t extra_args;\n",
    "         call_contract_get_extra_args(&extra_args, sizeof(extra_args));\n",
    "         extra_args += 1;\n",
    "         call_contract_set_results(&extra_args, sizeof(extra_args));\n",
    "      }\n",
    "   }\n",
    "}\n",
    "'''\n",
    "\n",
    "\n",
    "r = open('test.cpp', 'w').write(code)\n",
    "\n",
    "if  compile_cpp('test'):\n",
    "    account_name = 'helloworld11'\n",
    "    code = open('test.wasm', 'rb').read()\n",
    "    m = hashlib.sha256()\n",
    "    m.update(code)\n",
    "    code_hash = m.hexdigest()\n",
    "\n",
    "    r = eosapi.get_code(account_name)\n",
    "    if code_hash != r['code_hash']:\n",
    "        print('update contract')\n",
    "        abi = ''\n",
    "        r = eosapi.set_contract(account_name, code, abi, 0)\n",
    "print('done!')\n"
   ]
  },
  {
   "cell_type": "code",
   "execution_count": 329,
   "metadata": {},
   "outputs": [
    {
     "data": {
      "text/plain": [
       "True"
      ]
     },
     "execution_count": 329,
     "metadata": {},
     "output_type": "execute_result"
    },
    {
     "name": "stdout",
     "output_type": "stream",
     "text": [
      "\n",
      "279\n"
     ]
    }
   ],
   "source": [
    "from pyeoskit import db\n",
    "db.reset()\n",
    "code = '''\n",
    "def apply(receiver, code, action):\n",
    "    ret = call_contract('helloworld33', 'calltest1', 0, 0, 0, int.to_bytes(1, 8, 'little'))\n",
    "    print(ret)\n",
    "    print(int.from_bytes(ret, 'little'))\n",
    "'''\n",
    "abi = ''\n",
    "name = 'helloworld11'\n",
    "publish_contract(name, code, abi)\n",
    "try:\n",
    "    r = eosapi.push_action(name, 'sayhello', b'hello,world', {name:'active'})\n",
    "    print(r['processed']['action_traces'][0]['console'])\n",
    "    print(r['processed']['elapsed'])\n",
    "except Exception as e:\n",
    "    print(e)"
   ]
  }
 ],
 "metadata": {
  "kernelspec": {
   "display_name": "Python 3",
   "language": "python",
   "name": "python3"
  },
  "language_info": {
   "codemirror_mode": {
    "name": "ipython",
    "version": 3
   },
   "file_extension": ".py",
   "mimetype": "text/x-python",
   "name": "python",
   "nbconvert_exporter": "python",
   "pygments_lexer": "ipython3",
   "version": "3.7.3"
  }
 },
 "nbformat": 4,
 "nbformat_minor": 2
}
