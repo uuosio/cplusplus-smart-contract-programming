{
 "cells": [
  {
   "cell_type": "markdown",
   "metadata": {},
   "source": [
    "# Linux平台下测试环境搭建"
   ]
  },
  {
   "cell_type": "markdown",
   "metadata": {},
   "source": [
    "1. 安装python\n",
    "\n",
    "[Installing The Latest Python 3.7 On Ubuntu 16.04 / 18.04](https://websiteforstudents.com/installing-the-latest-python-3-7-on-ubuntu-16-04-18-04)\n",
    "\n",
    "Install steps:\n",
    "\n",
    "```bash\n",
    "sudo apt update\n",
    "sudo apt install software-properties-common\n",
    "sudo add-apt-repository ppa:deadsnakes/ppa\n",
    "sudo apt update\n",
    "sudo apt install python3.7\n",
    "```\n",
    "\n",
    "2. 安装pyeoskit\n",
    "```\n",
    "python3.7 -m pip install https://github.com/learnforpractice/pyeoskit/releases/download/v0.6.0/pyeoskit-0.6.0-cp37-cp37m-manylinux1_x86_64.whl\n",
    "```\n",
    "3. 安装notebook\n",
    "```\n",
    "python3.7 -m pip install notebook\n",
    "```\n",
    "4. 运行notebook\n",
    "```\n",
    "python3.7 -m notebook\n",
    "```"
   ]
  },
  {
   "cell_type": "markdown",
   "metadata": {},
   "source": [
    "# Mac OS X平台下测试环境搭建"
   ]
  },
  {
   "cell_type": "markdown",
   "metadata": {},
   "source": [
    "1. 安装python\n",
    "```\n",
    "brew install python3\n",
    "```\n",
    "\n",
    "2. 安装pyeoskit\n",
    "```\n",
    "python3.7 -m pip install https://github.com/learnforpractice/pyeoskit/releases/download/v0.6.0/pyeoskit-0.6.0-cp37-cp37m-macosx_10_9_x86_64.whl\n",
    "```\n",
    "\n",
    "3. 安装notebook\n",
    "```\n",
    "python3.7 -m pip install notebook\n",
    "```\n",
    "\n",
    "4. 运行notebook\n",
    "```\n",
    "python3.7 -m notebook\n",
    "```\n"
   ]
  },
  {
   "cell_type": "markdown",
   "metadata": {},
   "source": [
    "# 测试pyeoskit是否安装成功"
   ]
  },
  {
   "cell_type": "code",
   "execution_count": 5,
   "metadata": {},
   "outputs": [
    {
     "data": {
      "text/plain": [
       "{\n",
       "    \"server_version\": \"448287d5\",\n",
       "    \"chain_id\": \"aca376f206b8fc25a6ed44dbdc66547c36c6c33e3a119ffbeaef943642f0e906\",\n",
       "    \"head_block_num\": 65284083,\n",
       "    \"last_irreversible_block_num\": 65283757,\n",
       "    \"last_irreversible_block_id\": \"03e426adf46d035e968d7096a151b47368dbce427c5c9b62d20b9484ed38abeb\",\n",
       "    \"head_block_id\": \"03e427f36e0012a714a940e981f06a510cecbe3af63e81281f3f437aed0ad90d\",\n",
       "    \"head_block_time\": \"2019-06-25T02:52:12.500\",\n",
       "    \"head_block_producer\": \"cochainworld\",\n",
       "    \"virtual_block_cpu_limit\": 200000000,\n",
       "    \"virtual_block_net_limit\": 1048576000,\n",
       "    \"block_cpu_limit\": 188687,\n",
       "    \"block_net_limit\": 1046472,\n",
       "    \"server_version_string\": \"v1.7.3\"\n",
       "}"
      ]
     },
     "execution_count": 5,
     "metadata": {},
     "output_type": "execute_result"
    }
   ],
   "source": [
    "from pyeoskit import eosapi\n",
    "eosapi.set_default_nodes()\n",
    "eosapi.get_info()"
   ]
  },
  {
   "cell_type": "markdown",
   "metadata": {},
   "source": [
    "# 测试eosio.cdt是否安装成功"
   ]
  },
  {
   "cell_type": "code",
   "execution_count": 4,
   "metadata": {},
   "outputs": [
    {
     "name": "stdout",
     "output_type": "stream",
     "text": [
      "\n",
      "\n",
      "\u001b[31mtest.wasm\u001b[m\u001b[m*\r\n"
     ]
    }
   ],
   "source": [
    "from init import *\n",
    "code = r'''\n",
    "#include <eosio/print.hpp>\n",
    "#include <eosio/name.hpp>\n",
    "#include <eosio/action.hpp>\n",
    "\n",
    "using namespace eosio;\n",
    "\n",
    "extern \"C\" {\n",
    "    void apply( uint64_t receiver, uint64_t code, uint64_t action ) {\n",
    "        if (\"sayhello\"_n.value == action) {\n",
    "            eosio::print(\"hello,world\\n\");\n",
    "        }\n",
    "    }\n",
    "}\n",
    "'''\n",
    "open('test.cpp', 'w').write(code)\n",
    "compile_cpp_file('test.cpp')\n",
    "\n",
    "\n",
    "%ls test.wasm"
   ]
  }
 ],
 "metadata": {
  "kernelspec": {
   "display_name": "Python 3",
   "language": "python",
   "name": "python3"
  },
  "language_info": {
   "codemirror_mode": {
    "name": "ipython",
    "version": 3
   },
   "file_extension": ".py",
   "mimetype": "text/x-python",
   "name": "python",
   "nbconvert_exporter": "python",
   "pygments_lexer": "ipython3",
   "version": "3.7.3"
  }
 },
 "nbformat": 4,
 "nbformat_minor": 2
}
