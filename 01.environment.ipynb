{
 "cells": [
  {
   "cell_type": "markdown",
   "metadata": {},
   "source": [
    "# Windows平台下测试环境搭建"
   ]
  },
  {
   "cell_type": "markdown",
   "metadata": {},
   "source": [
    "1. 安装python\n",
    "```\n",
    "https://www.python.org/ftp/python/3.7.3/python-3.7.3-amd64.exe\n",
    "```\n",
    "2. 安装pyeoskit\n",
    "```\n",
    "python -m pip install https://github.com/learnforpractice/pyeoskit/releases/download/v0.5.0/pyeoskit-0.5.0-cp37-cp37m-win_amd64.whl\n",
    "```\n",
    "3. 安装notebook\n",
    "```\n",
    "python -m pip install notebook\n",
    "```\n",
    "4. 运行notebook\n",
    "```\n",
    "python -m notebook\n",
    "```\n",
    "5. 测试环境是否安装成功\n",
    "```python\n",
    "from pyeoskit import eosapi\n",
    "eosapi.set_default_nodes()\n",
    "eosapi.get_info()\n",
    "```"
   ]
  },
  {
   "cell_type": "code",
   "execution_count": 1,
   "metadata": {},
   "outputs": [
    {
     "data": {
      "text/plain": [
       "{\n",
       "    \"server_version\": \"448287d5\",\n",
       "    \"chain_id\": \"aca376f206b8fc25a6ed44dbdc66547c36c6c33e3a119ffbeaef943642f0e906\",\n",
       "    \"head_block_num\": 61517913,\n",
       "    \"last_irreversible_block_num\": 61517584,\n",
       "    \"last_irreversible_block_id\": \"03aaaf102d0fb49bd26cc52eb4e97984e8bf7d78ab06ec37b9b15287ab33d316\",\n",
       "    \"head_block_id\": \"03aab059684bc455d2773fdbd00daf98167b26af0615e96475d137c0d69c699f\",\n",
       "    \"head_block_time\": \"2019-06-03T07:25:56.000\",\n",
       "    \"head_block_producer\": \"eossv12eossv\",\n",
       "    \"virtual_block_cpu_limit\": 200000000,\n",
       "    \"virtual_block_net_limit\": 1048576000,\n",
       "    \"block_cpu_limit\": 184480,\n",
       "    \"block_net_limit\": 1044256,\n",
       "    \"server_version_string\": \"v1.7.3\"\n",
       "}"
      ]
     },
     "execution_count": 1,
     "metadata": {},
     "output_type": "execute_result"
    }
   ],
   "source": [
    "from pyeoskit import eosapi\n",
    "eosapi.set_default_nodes()\n",
    "eosapi.get_info()"
   ]
  },
  {
   "cell_type": "markdown",
   "metadata": {},
   "source": [
    "# Linux平台下测试环境搭建"
   ]
  },
  {
   "cell_type": "markdown",
   "metadata": {},
   "source": [
    "1. 安装python\n",
    "\n",
    "[Installing The Latest Python 3.7 On Ubuntu 16.04 / 18.04](https://websiteforstudents.com/installing-the-latest-python-3-7-on-ubuntu-16-04-18-04)\n",
    "\n",
    "Install steps:\n",
    "\n",
    "```bash\n",
    "sudo apt update\n",
    "sudo apt install software-properties-common\n",
    "sudo add-apt-repository ppa:deadsnakes/ppa\n",
    "sudo apt update\n",
    "sudo apt install python3.7\n",
    "```\n",
    "\n",
    "2. 安装pyeoskit\n",
    "```\n",
    "python3.7 -m pip install https://github.com/learnforpractice/pyeoskit/releases/download/v0.5.0/pyeoskit-0.5.0-cp37-cp37m-linux_x86_64.whl\n",
    "```\n",
    "3. 安装notebook\n",
    "```\n",
    "python3.7 -m pip install notebook\n",
    "```\n",
    "4. 运行notebook\n",
    "```\n",
    "python3.7 -m notebook\n",
    "```\n",
    "5. 测试环境是否安装成功\n",
    "```\n",
    "from pyeoskit import eosapi\n",
    "eosapi.set_default_nodes()\n",
    "eosapi.get_info()\n",
    "```"
   ]
  },
  {
   "cell_type": "markdown",
   "metadata": {},
   "source": [
    "# Mac OS X平台下测试环境搭建"
   ]
  },
  {
   "cell_type": "markdown",
   "metadata": {},
   "source": [
    "1. 安装python\n",
    "```\n",
    "brew install python3\n",
    "```\n",
    "\n",
    "2. 安装pyeoskit\n",
    "```\n",
    "python3.7 -m pip install https://github.com/learnforpractice/pyeoskit/releases/download/v0.5.0/pyeoskit-0.5.0-cp37-cp37m-macosx_10_9_x86_64.whl\n",
    "```\n",
    "\n",
    "3. 安装notebook\n",
    "```\n",
    "python3.7 -m pip install notebook\n",
    "```\n",
    "\n",
    "4. 运行notebook\n",
    "```\n",
    "python3.7 -m notebook\n",
    "```\n",
    "\n",
    "5. 测试环境是否安装成功\n",
    "```\n",
    "from pyeoskit import eosapi\n",
    "eosapi.set_default_nodes()\n",
    "eosapi.get_info()\n",
    "```"
   ]
  }
 ],
 "metadata": {
  "kernelspec": {
   "display_name": "Python 3",
   "language": "python",
   "name": "python3"
  },
  "language_info": {
   "codemirror_mode": {
    "name": "ipython",
    "version": 3
   },
   "file_extension": ".py",
   "mimetype": "text/x-python",
   "name": "python",
   "nbconvert_exporter": "python",
   "pygments_lexer": "ipython3",
   "version": "3.7.3"
  }
 },
 "nbformat": 4,
 "nbformat_minor": 2
}
