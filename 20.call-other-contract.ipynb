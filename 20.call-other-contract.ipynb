{
 "cells": [
  {
   "cell_type": "code",
   "execution_count": 1,
   "metadata": {},
   "outputs": [],
   "source": [
    "from init import *\n",
    "#eosapi.set_nodes(['https://nodes.uuos.network:8443'])\n",
    "eosapi.set_nodes(['http://127.0.0.1:8888'])\n",
    "config.main_token='UUOS'"
   ]
  },
  {
   "cell_type": "code",
   "execution_count": 60,
   "metadata": {},
   "outputs": [
    {
     "name": "stdout",
     "output_type": "stream",
     "text": [
      "\n",
      "\n",
      "done!\n"
     ]
    }
   ],
   "source": [
    "code = r'''\n",
    "#include <eosio/types.h>\n",
    "#include <eosio/action.h>\n",
    "#include <eosio/print.hpp>\n",
    "#include <eosio/name.hpp>\n",
    "\n",
    "#define N(name) #name##_n.value\n",
    "\n",
    "using namespace eosio;\n",
    "\n",
    "extern \"C\" {\n",
    "\n",
    "    __attribute__((eosio_wasm_import))\n",
    "    int call_contract_get_extra_args(void* extra_args, size_t size1);\n",
    "\n",
    "    __attribute__((eosio_wasm_import))\n",
    "    int call_contract_set_results(void* result, size_t size1);\n",
    "\n",
    "    void apply(uint64_t receiver, uint64_t code, uint64_t action) {\n",
    "    \n",
    "    }\n",
    "\n",
    "    __attribute__((eosio_wasm_entry))\n",
    "    void call(uint64_t func, uint64_t arg1, uint64_t arg2, uint64_t arg3) {\n",
    "        if (func == N(calltest1)) {\n",
    "            uint64_t extra_args;\n",
    "            int ret = call_contract_get_extra_args(&extra_args, sizeof(extra_args));\n",
    "            check(ret == sizeof(extra_args), \"size mismatch!\");\n",
    "            extra_args += 1;\n",
    "            call_contract_set_results(&extra_args, sizeof(extra_args));\n",
    "        }\n",
    "   }\n",
    "}\n",
    "'''\n",
    "\n",
    "publish_cpp_contract('helloworld33', code, entry='call')\n",
    "print(\"done!\")"
   ]
  },
  {
   "cell_type": "code",
   "execution_count": 59,
   "metadata": {},
   "outputs": [
    {
     "name": "stdout",
     "output_type": "stream",
     "text": [
      "\n",
      "\n",
      "done!\n"
     ]
    }
   ],
   "source": [
    "code = r'''\n",
    "#include <eosio/types.h>\n",
    "#include <eosio/action.h>\n",
    "#include <eosio/print.hpp>\n",
    "#include <eosio/name.hpp>\n",
    "\n",
    "#define N(name) #name##_n.value\n",
    "\n",
    "extern \"C\" {\n",
    "\n",
    "    __attribute__((eosio_wasm_import))\n",
    "    void call_contract(uint64_t contract, uint64_t func_name, uint64_t arg1, uint64_t arg2, uint64_t arg3, void* extra_args, size_t size1);\n",
    "\n",
    "    __attribute__((eosio_wasm_import))\n",
    "    int call_contract_get_results(void* result, size_t size1);\n",
    "\n",
    "    void apply( uint64_t receiver, uint64_t code, uint64_t action ) {\n",
    "        if (\"sayhello\"_n.value == action) {\n",
    "            uint64_t n = 1;\n",
    "            call_contract(\"helloworld33\"_n.value, \"calltest1\"_n.value, 0, 0, 0, &n, sizeof(n));\n",
    "            int ret = call_contract_get_results(&n, sizeof(n));\n",
    "            eosio::check(ret == sizeof(uint64_t), \"size mismatch\");\n",
    "            eosio::print(\"calltest1 return: \", n);\n",
    "        }\n",
    "    }\n",
    "}\n",
    "'''\n",
    "\n",
    "publish_cpp_contract('helloworld11', code)\n",
    "print('done!')"
   ]
  },
  {
   "cell_type": "code",
   "execution_count": 62,
   "metadata": {},
   "outputs": [
    {
     "name": "stdout",
     "output_type": "stream",
     "text": [
      "calltest1 return: 2\n",
      "216\n"
     ]
    }
   ],
   "source": [
    "name = 'helloworld11'\n",
    "try:\n",
    "    r = eosapi.push_action(name, 'sayhello', b'hello,world', {name:'active'})\n",
    "    print(r['processed']['action_traces'][0]['console'])\n",
    "    print(r['processed']['elapsed'])\n",
    "except Exception as e:\n",
    "    print(e)"
   ]
  }
 ],
 "metadata": {
  "kernelspec": {
   "display_name": "Python 3",
   "language": "python",
   "name": "python3"
  },
  "language_info": {
   "codemirror_mode": {
    "name": "ipython",
    "version": 3
   },
   "file_extension": ".py",
   "mimetype": "text/x-python",
   "name": "python",
   "nbconvert_exporter": "python",
   "pygments_lexer": "ipython3",
   "version": "3.7.3"
  }
 },
 "nbformat": 4,
 "nbformat_minor": 2
}
