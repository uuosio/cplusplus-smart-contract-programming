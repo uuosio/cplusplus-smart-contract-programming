{
 "cells": [
  {
   "cell_type": "code",
   "execution_count": 1,
   "metadata": {
    "scrolled": true
   },
   "outputs": [],
   "source": [
    "from init import *\n",
    "#eosapi.set_nodes(['https://nodes.uuos.network:8443'])\n",
    "eosapi.set_nodes(['http://127.0.0.1:8888'])\n",
    "config.main_token='UUOS'\n"
   ]
  },
  {
   "cell_type": "code",
   "execution_count": 66,
   "metadata": {},
   "outputs": [
    {
     "name": "stdout",
     "output_type": "stream",
     "text": [
      "\n",
      "\n",
      "update contract\n"
     ]
    },
    {
     "data": {
      "text/plain": [
       "True"
      ]
     },
     "execution_count": 66,
     "metadata": {},
     "output_type": "execute_result"
    }
   ],
   "source": [
    "abi = open('eosio.token/eosio.token.abi', 'rb').read()\n",
    "publish_cpp_contract_from_file('helloworld11', 'eosio.token/eosio.token.cpp', abi, includes=['.',])"
   ]
  },
  {
   "cell_type": "code",
   "execution_count": 67,
   "metadata": {},
   "outputs": [],
   "source": [
    "symbol_name = 'KKK'\n",
    "msg = {\"issuer\":\"helloworld11\",\"maximum_supply\":f\"11000000000000.0000 {symbol_name}\"}\n",
    "r = eosapi.push_action('helloworld11', 'create', msg, {'helloworld11':'active'})"
   ]
  },
  {
   "cell_type": "code",
   "execution_count": 68,
   "metadata": {},
   "outputs": [
    {
     "name": "stdout",
     "output_type": "stream",
     "text": [
      "\n"
     ]
    }
   ],
   "source": [
    "args = {\"to\":\"helloworld11\",\"quantity\":f\"1000000.0000 {symbol_name}\", \"memo\":f\"issue 1000000.0000 {symbol_name} to helloword11\"}\n",
    "r = eosapi.push_action('helloworld11', 'issue', args, {'helloworld11':'active'})\n",
    "print(r['processed']['action_traces'][0]['console'])"
   ]
  },
  {
   "cell_type": "code",
   "execution_count": 69,
   "metadata": {},
   "outputs": [
    {
     "data": {
      "text/plain": [
       "1000000.0"
      ]
     },
     "execution_count": 69,
     "metadata": {},
     "output_type": "execute_result"
    }
   ],
   "source": [
    "eosapi.get_balance('helloworld11', token_account='helloworld11', token_name=symbol_name)"
   ]
  },
  {
   "cell_type": "code",
   "execution_count": 70,
   "metadata": {},
   "outputs": [],
   "source": [
    "args = {'from':'helloworld11', 'to':'eosio', 'quantity':f'10.0000 {symbol_name}', 'memo':'hello,world'}\n",
    "r = eosapi.push_action('helloworld11', 'transfer', args, {'helloworld11':'active'})"
   ]
  },
  {
   "cell_type": "code",
   "execution_count": 71,
   "metadata": {},
   "outputs": [
    {
     "data": {
      "text/plain": [
       "10.0"
      ]
     },
     "execution_count": 71,
     "metadata": {},
     "output_type": "execute_result"
    }
   ],
   "source": [
    "eosapi.get_balance('eosio', token_account='helloworld11', token_name=symbol_name)"
   ]
  },
  {
   "cell_type": "code",
   "execution_count": 72,
   "metadata": {},
   "outputs": [
    {
     "data": {
      "text/plain": [
       "10.0"
      ]
     },
     "execution_count": 72,
     "metadata": {},
     "output_type": "execute_result"
    }
   ],
   "source": [
    "eosapi.get_balance('eosio', token_account='helloworld11', token_name=symbol_name)"
   ]
  },
  {
   "cell_type": "code",
   "execution_count": 73,
   "metadata": {},
   "outputs": [],
   "source": [
    "msg = {\"issuer\":\"helloworld11\",\"maximum_supply\":\"11000000000000.0000 VVV\"}\n",
    "r = eosapi.push_action('helloworld11', 'create', msg, {'helloworld11':'active'})"
   ]
  },
  {
   "cell_type": "code",
   "execution_count": 75,
   "metadata": {},
   "outputs": [
    {
     "name": "stdout",
     "output_type": "stream",
     "text": [
      "\n"
     ]
    }
   ],
   "source": [
    "'''\n",
    "{\"name\":\"to\", \"type\":\"account_name\"},\n",
    "{\"name\":\"quantity\", \"type\":\"asset\"},\n",
    "{\"name\":\"memo\", \"type\":\"string\"}\n",
    "'''\n",
    "args = {\"to\":\"helloworld11\",\"quantity\":\"1000000.0000 VVV\", \"memo\":\"issue 1000000.0000 VVV to helloword11\"}\n",
    "#msg = {\"to\":\"helloworld11\",\"quantity\":\"1000000.0000 SSS\", \"memo\":\"hello\"}\n",
    "r = eosapi.push_action('helloworld11', 'issue', args, {'helloworld11':'active'})\n",
    "print(r['processed']['action_traces'][0]['console'])"
   ]
  },
  {
   "cell_type": "code",
   "execution_count": 76,
   "metadata": {},
   "outputs": [
    {
     "data": {
      "text/plain": [
       "1000000.0"
      ]
     },
     "execution_count": 76,
     "metadata": {},
     "output_type": "execute_result"
    }
   ],
   "source": [
    "eosapi.get_balance('helloworld11', token_account='helloworld11', token_name='VVV')"
   ]
  },
  {
   "cell_type": "code",
   "execution_count": 77,
   "metadata": {},
   "outputs": [],
   "source": [
    "args = {'from':'helloworld11', 'to':'eosio', 'quantity':'10.0000 VVV', 'memo':'hello,world'}\n",
    "r = eosapi.push_action('helloworld11', 'transfer', args, {'helloworld11':'active'})"
   ]
  },
  {
   "cell_type": "code",
   "execution_count": 78,
   "metadata": {
    "scrolled": true
   },
   "outputs": [
    {
     "data": {
      "text/plain": [
       "10.0"
      ]
     },
     "execution_count": 78,
     "metadata": {},
     "output_type": "execute_result"
    }
   ],
   "source": [
    "eosapi.get_balance('eosio', token_account='helloworld11', token_name='VVV')"
   ]
  },
  {
   "cell_type": "code",
   "execution_count": 79,
   "metadata": {},
   "outputs": [
    {
     "data": {
      "text/plain": [
       "9999999999000.002"
      ]
     },
     "execution_count": 79,
     "metadata": {},
     "output_type": "execute_result"
    }
   ],
   "source": [
    "eosapi.get_balance('eosio', token_account='eosio.token', token_name='UUOS')"
   ]
  },
  {
   "cell_type": "code",
   "execution_count": 84,
   "metadata": {},
   "outputs": [
    {
     "data": {
      "text/plain": [
       "{\n",
       "    \"rows\": [\n",
       "        {\n",
       "            \"supply\": \"1000000.0000 KKK\",\n",
       "            \"max_supply\": \"11000000000000.0000 KKK\",\n",
       "            \"issuer\": \"helloworld11\"\n",
       "        }\n",
       "    ],\n",
       "    \"more\": false\n",
       "}"
      ]
     },
     "execution_count": 84,
     "metadata": {},
     "output_type": "execute_result"
    }
   ],
   "source": [
    "eosapi.get_table_rows(True, 'helloworld11', 'KKK', 'stat', 'KKK', '', '', 10)"
   ]
  },
  {
   "cell_type": "code",
   "execution_count": 86,
   "metadata": {},
   "outputs": [
    {
     "data": {
      "text/plain": [
       "{\n",
       "    \"rows\": [\n",
       "        {\n",
       "            \"supply\": \"10000000000000.0000 UUOS\",\n",
       "            \"max_supply\": \"11000000000000.0000 UUOS\",\n",
       "            \"issuer\": \"eosio\"\n",
       "        }\n",
       "    ],\n",
       "    \"more\": false\n",
       "}"
      ]
     },
     "execution_count": 86,
     "metadata": {},
     "output_type": "execute_result"
    }
   ],
   "source": [
    "eosapi.get_table_rows(True, 'eosio.token', 'UUOS', 'stat', 'UUOS', '', '', 10)"
   ]
  }
 ],
 "metadata": {
  "kernelspec": {
   "display_name": "Python 3",
   "language": "python",
   "name": "python3"
  },
  "language_info": {
   "codemirror_mode": {
    "name": "ipython",
    "version": 3
   },
   "file_extension": ".py",
   "mimetype": "text/x-python",
   "name": "python",
   "nbconvert_exporter": "python",
   "pygments_lexer": "ipython3",
   "version": "3.7.3"
  }
 },
 "nbformat": 4,
 "nbformat_minor": 2
}
