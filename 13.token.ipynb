{
 "cells": [
  {
   "cell_type": "code",
   "execution_count": 4,
   "metadata": {
    "scrolled": true
   },
   "outputs": [],
   "source": [
    "from init import *\n",
    "from uuoskit import wasmcompiler"
   ]
  },
  {
   "cell_type": "code",
   "execution_count": 12,
   "metadata": {},
   "outputs": [
    {
     "name": "stdout",
     "output_type": "stream",
     "text": [
      "done!\n"
     ]
    }
   ],
   "source": [
    "with open('./eosio.token/eosio.token.cpp', 'r') as f:\n",
    "    code = f.read()\n",
    "code = wasmcompiler.compile_cpp_file('./eosio.token/eosio.token.cpp', includes=['.'])\n",
    "print('done!')"
   ]
  },
  {
   "cell_type": "code",
   "execution_count": null,
   "metadata": {},
   "outputs": [],
   "source": [
    "abi = open('eosio.token/eosio.token.abi', 'rb').read()\n",
    "r = uuosapi.deploy_contract(test_account1, code, abi, vm_type=0)"
   ]
  },
  {
   "cell_type": "code",
   "execution_count": 17,
   "metadata": {},
   "outputs": [],
   "source": [
    "symbol_name = 'YYY'\n",
    "msg = {\"issuer\":test_account1,\"maximum_supply\":f\"11000000000000.0000 {symbol_name}\"}\n",
    "r = uuosapi.push_action(test_account1, 'create', msg, {test_account1:'active'})"
   ]
  },
  {
   "cell_type": "code",
   "execution_count": 19,
   "metadata": {},
   "outputs": [
    {
     "name": "stdout",
     "output_type": "stream",
     "text": [
      "\n"
     ]
    }
   ],
   "source": [
    "args = {\"to\":test_account1,\"quantity\":f\"1000000.0000 {symbol_name}\", \"memo\":f\"issue 1000000.0000 {symbol_name} to {test_account1}\"}\n",
    "r = uuosapi.push_action(test_account1, 'issue', args, {test_account1:'active'})\n",
    "print(r['processed']['action_traces'][0]['console'])"
   ]
  },
  {
   "cell_type": "code",
   "execution_count": 20,
   "metadata": {},
   "outputs": [
    {
     "data": {
      "text/plain": [
       "1000000.0"
      ]
     },
     "execution_count": 20,
     "metadata": {},
     "output_type": "execute_result"
    }
   ],
   "source": [
    "uuosapi.get_balance(test_account1, token_account=test_account1, token_name=symbol_name)"
   ]
  },
  {
   "cell_type": "code",
   "execution_count": 21,
   "metadata": {},
   "outputs": [],
   "source": [
    "args = {'from':test_account1, 'to':'eosio', 'quantity':f'10.0000 {symbol_name}', 'memo':'hello,world'}\n",
    "r = uuosapi.push_action(test_account1, 'transfer', args, {test_account1:'active'})"
   ]
  },
  {
   "cell_type": "code",
   "execution_count": 26,
   "metadata": {},
   "outputs": [
    {
     "data": {
      "text/plain": [
       "999990.0"
      ]
     },
     "execution_count": 26,
     "metadata": {},
     "output_type": "execute_result"
    }
   ],
   "source": [
    "uuosapi.get_balance(test_account1, token_account=test_account1, token_name=symbol_name)"
   ]
  },
  {
   "cell_type": "code",
   "execution_count": 25,
   "metadata": {},
   "outputs": [
    {
     "data": {
      "text/plain": [
       "10.0"
      ]
     },
     "execution_count": 25,
     "metadata": {},
     "output_type": "execute_result"
    }
   ],
   "source": [
    "uuosapi.get_balance('eosio', token_account=test_account1, token_name=symbol_name)"
   ]
  },
  {
   "cell_type": "code",
   "execution_count": 36,
   "metadata": {},
   "outputs": [
    {
     "data": {
      "text/plain": [
       "{'rows': [{'supply': '1000000.0000 YYY',\n",
       "   'max_supply': '11000000000000.0000 YYY',\n",
       "   'issuer': 'wkpmdjdsztyu'}],\n",
       " 'more': False,\n",
       " 'next_key': ''}"
      ]
     },
     "execution_count": 36,
     "metadata": {},
     "output_type": "execute_result"
    }
   ],
   "source": [
    "uuosapi.get_table_rows(True, test_account1, 'YYY', 'stat', '', '', 10)"
   ]
  }
 ],
 "metadata": {
  "kernelspec": {
   "display_name": "Python 3",
   "language": "python",
   "name": "python3"
  },
  "language_info": {
   "codemirror_mode": {
    "name": "ipython",
    "version": 3
   },
   "file_extension": ".py",
   "mimetype": "text/x-python",
   "name": "python",
   "nbconvert_exporter": "python",
   "pygments_lexer": "ipython3",
   "version": "3.7.4"
  }
 },
 "nbformat": 4,
 "nbformat_minor": 2
}
