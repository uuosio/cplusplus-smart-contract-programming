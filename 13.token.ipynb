{
 "cells": [
  {
   "cell_type": "code",
   "execution_count": 1,
   "metadata": {
    "scrolled": true
   },
   "outputs": [],
   "source": [
    "from init import *\n",
    "#eosapi.set_nodes(['https://nodes.uuos.network:8443'])\n",
    "eosapi.set_nodes(['http://127.0.0.1:8888'])"
   ]
  },
  {
   "cell_type": "code",
   "execution_count": 2,
   "metadata": {},
   "outputs": [
    {
     "name": "stdout",
     "output_type": "stream",
     "text": [
      "done!\n"
     ]
    }
   ],
   "source": [
    "publish_cpp_contract_from_file('helloworld11', 'eosio.token/eosio.token', ['eosio.token',])"
   ]
  },
  {
   "cell_type": "code",
   "execution_count": 3,
   "metadata": {},
   "outputs": [],
   "source": [
    "symbol_name = 'KKK'\n",
    "msg = {\"issuer\":\"helloworld11\",\"maximum_supply\":f\"11000000000000.0000 {symbol_name}\"}\n",
    "r = eosapi.push_action('helloworld11', 'create', msg, {'helloworld11':'active'})"
   ]
  },
  {
   "cell_type": "code",
   "execution_count": 4,
   "metadata": {},
   "outputs": [
    {
     "name": "stdout",
     "output_type": "stream",
     "text": [
      "\n"
     ]
    }
   ],
   "source": [
    "args = {\"to\":\"helloworld11\",\"quantity\":f\"1000000.0000 {symbol_name}\", \"memo\":f\"issue 1000000.0000 {symbol_name} to helloword11\"}\n",
    "r = eosapi.push_action('helloworld11', 'issue', args, {'helloworld11':'active'})\n",
    "print(r['processed']['action_traces'][0]['console'])"
   ]
  },
  {
   "cell_type": "code",
   "execution_count": 5,
   "metadata": {},
   "outputs": [
    {
     "data": {
      "text/plain": [
       "1000000.0"
      ]
     },
     "execution_count": 5,
     "metadata": {},
     "output_type": "execute_result"
    }
   ],
   "source": [
    "eosapi.get_balance('helloworld11', token_account='helloworld11', token_name=symbol_name)"
   ]
  },
  {
   "cell_type": "code",
   "execution_count": 6,
   "metadata": {},
   "outputs": [],
   "source": [
    "args = {'from':'helloworld11', 'to':'eosio', 'quantity':f'10.0000 {symbol_name}', 'memo':'hello,world'}\n",
    "r = eosapi.push_action('helloworld11', 'transfer', args, {'helloworld11':'active'})"
   ]
  },
  {
   "cell_type": "code",
   "execution_count": 7,
   "metadata": {},
   "outputs": [
    {
     "data": {
      "text/plain": [
       "10.0"
      ]
     },
     "execution_count": 7,
     "metadata": {},
     "output_type": "execute_result"
    }
   ],
   "source": [
    "eosapi.get_balance('eosio', token_account='helloworld11', token_name=symbol_name)"
   ]
  },
  {
   "cell_type": "code",
   "execution_count": 8,
   "metadata": {},
   "outputs": [
    {
     "data": {
      "text/plain": [
       "10.0"
      ]
     },
     "execution_count": 8,
     "metadata": {},
     "output_type": "execute_result"
    }
   ],
   "source": [
    "eosapi.get_balance('eosio', token_account='helloworld11', token_name=symbol_name)"
   ]
  },
  {
   "cell_type": "code",
   "execution_count": 130,
   "metadata": {},
   "outputs": [],
   "source": [
    "msg = {\"issuer\":\"helloworld11\",\"maximum_supply\":\"11000000000000.0000 VVV\"}\n",
    "r = eosapi.push_action('helloworld11', 'create', msg, {'helloworld11':'active'})"
   ]
  },
  {
   "cell_type": "code",
   "execution_count": 131,
   "metadata": {},
   "outputs": [
    {
     "name": "stdout",
     "output_type": "stream",
     "text": [
      "\n"
     ]
    }
   ],
   "source": [
    "'''\n",
    "{\"name\":\"to\", \"type\":\"account_name\"},\n",
    "{\"name\":\"quantity\", \"type\":\"asset\"},\n",
    "{\"name\":\"memo\", \"type\":\"string\"}\n",
    "'''\n",
    "args = {\"to\":\"helloworld11\",\"quantity\":\"1000000.0000 VVV\", \"memo\":\"issue 1000000.0000 VVV to helloword11\"}\n",
    "#msg = {\"to\":\"helloworld11\",\"quantity\":\"1000000.0000 SSS\", \"memo\":\"hello\"}\n",
    "r = eosapi.push_action('helloworld11', 'issue', args, {'helloworld11':'active'})\n",
    "print(r['processed']['action_traces'][0]['console'])"
   ]
  },
  {
   "cell_type": "code",
   "execution_count": 132,
   "metadata": {},
   "outputs": [
    {
     "data": {
      "text/plain": [
       "1000000.0"
      ]
     },
     "execution_count": 132,
     "metadata": {},
     "output_type": "execute_result"
    }
   ],
   "source": [
    "eosapi.get_balance('helloworld11', token_account='helloworld11', token_name='VVV')"
   ]
  },
  {
   "cell_type": "code",
   "execution_count": 133,
   "metadata": {},
   "outputs": [],
   "source": [
    "args = {'from':'helloworld11', 'to':'eosio', 'quantity':'10.0000 VVV', 'memo':'hello,world'}\n",
    "r = eosapi.push_action('helloworld11', 'transfer', args, {'helloworld11':'active'})"
   ]
  },
  {
   "cell_type": "code",
   "execution_count": 134,
   "metadata": {},
   "outputs": [
    {
     "data": {
      "text/plain": [
       "10.0"
      ]
     },
     "execution_count": 134,
     "metadata": {},
     "output_type": "execute_result"
    }
   ],
   "source": [
    "eosapi.get_balance('eosio', token_account='helloworld11', token_name='VVV')"
   ]
  }
 ],
 "metadata": {
  "kernelspec": {
   "display_name": "Python 3",
   "language": "python",
   "name": "python3"
  },
  "language_info": {
   "codemirror_mode": {
    "name": "ipython",
    "version": 3
   },
   "file_extension": ".py",
   "mimetype": "text/x-python",
   "name": "python",
   "nbconvert_exporter": "python",
   "pygments_lexer": "ipython3",
   "version": "3.7.3"
  }
 },
 "nbformat": 4,
 "nbformat_minor": 2
}
