{
 "cells": [
  {
   "cell_type": "code",
   "execution_count": 76,
   "metadata": {},
   "outputs": [
    {
     "name": "stdout",
     "output_type": "stream",
     "text": [
      "\n",
      "\n",
      "done!\n"
     ]
    }
   ],
   "source": [
    "from init import *\n",
    "code = r'''\n",
    "#include <eosio/print.hpp>\n",
    "#include <eosio/name.hpp>\n",
    "#include <eosio/action.hpp>\n",
    "#include <eosio/multi_index.hpp>\n",
    "\n",
    "using namespace eosio;\n",
    "\n",
    "#define N(name) name##_n.value\n",
    "\n",
    "\n",
    "struct record {\n",
    "   uint64_t    primary;\n",
    "   uint128_t   secondary;\n",
    "   uint64_t    data;\n",
    "   uint64_t primary_key() const { return primary; }\n",
    "   uint128_t get_secondary() const { return secondary; }\n",
    "   EOSLIB_SERIALIZE( record, (primary)(secondary)(data))\n",
    "};\n",
    "\n",
    "extern \"C\" {\n",
    "    void apply( uint64_t receiver, uint64_t code, uint64_t action ) {\n",
    "        name _self(receiver);\n",
    "\n",
    "        if (N(\"sayhello\") == action) {\n",
    "            name code = \"helloworld11\"_n;\n",
    "            uint64_t scope = \"scope\"_n.value;\n",
    "            \n",
    "            multi_index<\"mytable4\"_n,\n",
    "                        record,\n",
    "                        indexed_by< \"bysecondary\"_n,\n",
    "                        const_mem_fun<record, uint128_t, &record::get_secondary> > > mytable( code, scope);\n",
    "            \n",
    "            auto itr = mytable.find(11);\n",
    "            \n",
    "            if (mytable.end() == itr) {\n",
    "                mytable.emplace( _self, [&]( auto& row ) {\n",
    "                    row.primary = 11;\n",
    "                    row.secondary = 22;\n",
    "                    row.data = 111;\n",
    "                });\n",
    "            } else {\n",
    "                mytable.modify( itr, _self, [&]( auto& row ) {\n",
    "                    row.data = 1111;\n",
    "                    row.secondary = 44;\n",
    "                });\n",
    "            }\n",
    "            \n",
    "            itr = mytable.find(22);\n",
    "            if (itr == mytable.end()) {\n",
    "                mytable.emplace( _self, [&]( auto& row ) {\n",
    "                    row.primary = 22;\n",
    "                    row.secondary = 222;\n",
    "                    row.data = 2222;\n",
    "                });\n",
    "            } else {\n",
    "                print(itr->primary, \" \", itr->secondary, \"\\n\");\n",
    "            }\n",
    "\n",
    "            auto idx = mytable.get_index<\"bysecondary\"_n>();\n",
    "            print(idx.begin() == idx.end());\n",
    "            for ( auto itr = idx.begin(); itr != idx.end(); itr++ ) {\n",
    "                print(itr->primary, \" \", itr->secondary);\n",
    "            }\n",
    "        }\n",
    "    }\n",
    "}\n",
    "'''\n",
    "\n",
    "publish_cpp_contract('helloworld11', code)\n",
    "print('done!')\n"
   ]
  },
  {
   "cell_type": "code",
   "execution_count": 80,
   "metadata": {},
   "outputs": [
    {
     "name": "stdout",
     "output_type": "stream",
     "text": [
      "22 222\n",
      "true\n",
      "261\n"
     ]
    }
   ],
   "source": [
    "name = 'helloworld11'\n",
    "try:\n",
    "    r = eosapi.push_action(name, 'sayhello', b'hello,world', {name:'active'})\n",
    "    print(r['processed']['action_traces'][0]['console'])\n",
    "    print(r['processed']['elapsed'])\n",
    "except Exception as e:\n",
    "    print(e)"
   ]
  }
 ],
 "metadata": {
  "kernelspec": {
   "display_name": "Python 3",
   "language": "python",
   "name": "python3"
  },
  "language_info": {
   "codemirror_mode": {
    "name": "ipython",
    "version": 3
   },
   "file_extension": ".py",
   "mimetype": "text/x-python",
   "name": "python",
   "nbconvert_exporter": "python",
   "pygments_lexer": "ipython3",
   "version": "3.7.3"
  }
 },
 "nbformat": 4,
 "nbformat_minor": 2
}
