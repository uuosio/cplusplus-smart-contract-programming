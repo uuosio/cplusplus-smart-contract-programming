{
 "cells": [
  {
   "cell_type": "code",
   "execution_count": 1,
   "metadata": {},
   "outputs": [],
   "source": [
    "from init import *"
   ]
  },
  {
   "cell_type": "code",
   "execution_count": 2,
   "metadata": {},
   "outputs": [
    {
     "name": "stdout",
     "output_type": "stream",
     "text": [
      "done!\n"
     ]
    }
   ],
   "source": [
    "code = r'''\n",
    "#include <eosio/print.hpp>\n",
    "#include <eosio/name.hpp>\n",
    "#include <eosio/action.hpp>\n",
    "#include <eosio/multi_index.hpp>\n",
    "\n",
    "using namespace eosio;\n",
    "\n",
    "#define N(name) name##_n.value\n",
    "\n",
    "\n",
    "struct record {\n",
    "   uint64_t    primary;\n",
    "   uint128_t   secondary;\n",
    "   uint64_t    data;\n",
    "   uint64_t primary_key() const { return primary; }\n",
    "   uint128_t get_secondary() const { return secondary; }\n",
    "   EOSLIB_SERIALIZE( record, (primary)(secondary)(data))\n",
    "};\n",
    "\n",
    "extern \"C\" {\n",
    "    void apply( uint64_t receiver, uint64_t code, uint64_t action ) {\n",
    "        name _self(receiver);\n",
    "\n",
    "        if (N(\"sayhello\") == action) {\n",
    "            name code = name(receiver);\n",
    "            uint64_t scope = \"scope\"_n.value;\n",
    "            \n",
    "            multi_index<\"mytable4\"_n,\n",
    "                        record,\n",
    "                        indexed_by< \"bysecondary\"_n,\n",
    "                        const_mem_fun<record, uint128_t, &record::get_secondary> > > mytable( code, scope);\n",
    "            \n",
    "            auto itr = mytable.find(11);\n",
    "            \n",
    "            if (mytable.end() == itr) {\n",
    "                mytable.emplace( _self, [&]( auto& row ) {\n",
    "                    row.primary = 11;\n",
    "                    row.secondary = 22;\n",
    "                    row.data = 111;\n",
    "                });\n",
    "            } else {\n",
    "                mytable.modify( itr, _self, [&]( auto& row ) {\n",
    "                    row.data = 1111;\n",
    "                    row.secondary = 44;\n",
    "                });\n",
    "            }\n",
    "            \n",
    "            itr = mytable.find(11);\n",
    "            if (itr == mytable.end()) {\n",
    "                mytable.emplace( _self, [&]( auto& row ) {\n",
    "                    row.primary = 22;\n",
    "                    row.secondary = 222;\n",
    "                    row.data = 2222;\n",
    "                });\n",
    "            } else {\n",
    "                print(itr->primary, \" \", itr->secondary, \" \", itr->data, \"\\n\");\n",
    "            }\n",
    "\n",
    "            auto idx = mytable.get_index<\"bysecondary\"_n>();\n",
    "            auto itr_sec = idx.find(222);\n",
    "            print(itr_sec == idx.end(), \"\\n\");\n",
    "            print(itr_sec->primary, \" \", itr_sec->secondary, \" \", itr_sec->data, \"\\n\");\n",
    "\n",
    "            itr_sec = idx.find(888);\n",
    "            print(itr_sec == idx.end(), \"\\n\");\n",
    "        }\n",
    "    }\n",
    "}\n",
    "'''\n",
    "\n",
    "\n",
    "code = uuosapi.compile(test_account1, code, vm_type=0)\n",
    "uuosapi.deploy_code(test_account1, code, vm_type=0)\n",
    "print('done!')"
   ]
  },
  {
   "cell_type": "code",
   "execution_count": 4,
   "metadata": {},
   "outputs": [
    {
     "name": "stdout",
     "output_type": "stream",
     "text": [
      "11 22 111\n",
      "true\n",
      "8496 0 0\n",
      "true\n",
      "\n",
      "1529\n"
     ]
    }
   ],
   "source": [
    "r = uuosapi.push_action(test_account1, 'sayhello', b'hello,world', {test_account1:'active'})\n",
    "print(r['processed']['action_traces'][0]['console'])\n",
    "print(r['processed']['elapsed'])"
   ]
  },
  {
   "cell_type": "code",
   "execution_count": 5,
   "metadata": {},
   "outputs": [
    {
     "name": "stdout",
     "output_type": "stream",
     "text": [
      "done!\n"
     ]
    }
   ],
   "source": [
    "code = r'''\n",
    "#include <eosio/print.hpp>\n",
    "#include <eosio/name.hpp>\n",
    "#include <eosio/singleton.hpp>\n",
    "\n",
    "using namespace eosio;\n",
    "\n",
    "struct accountcounter {\n",
    "   uint64_t                        count;\n",
    "   EOSLIB_SERIALIZE( accountcounter, (count) )\n",
    "};\n",
    "\n",
    "\n",
    " \n",
    "typedef eosio::singleton< \"global\"_n, accountcounter >   account_counter;\n",
    "  \n",
    "extern \"C\" {\n",
    "   void apply( uint64_t receiver, uint64_t code, uint64_t action ) {\n",
    "       account_counter counter(name(receiver), receiver);\n",
    "       accountcounter a = {0};\n",
    "       a = counter.get_or_default(a);\n",
    "       a.count += 1;\n",
    "       counter.set(a, name(receiver));\n",
    "       print(a.count);\n",
    "   }\n",
    "}\n",
    "'''\n",
    "\n",
    "code = uuosapi.compile(test_account1, code, vm_type=0)\n",
    "uuosapi.deploy_code(test_account1, code, vm_type=0)\n",
    "print('done!')\n"
   ]
  },
  {
   "cell_type": "code",
   "execution_count": 6,
   "metadata": {},
   "outputs": [
    {
     "name": "stdout",
     "output_type": "stream",
     "text": [
      "1\n",
      "1209\n"
     ]
    }
   ],
   "source": [
    "r = uuosapi.push_action(test_account1, 'sayhello', b'hello,world', {test_account1:'active'})\n",
    "print(r['processed']['action_traces'][0]['console'])\n",
    "print(r['processed']['elapsed'])"
   ]
  },
  {
   "cell_type": "code",
   "execution_count": 8,
   "metadata": {},
   "outputs": [
    {
     "name": "stdout",
     "output_type": "stream",
     "text": [
      "done!\n"
     ]
    }
   ],
   "source": [
    "code = r'''\n",
    "#include <eosio/print.hpp>\n",
    "#include <eosio/name.hpp>\n",
    "#include <eosio/singleton.hpp>\n",
    "#include <eosio/db.h>\n",
    "\n",
    "using namespace eosio;\n",
    "\n",
    "struct accountcounter {\n",
    "   uint64_t                        count;\n",
    "   EOSLIB_SERIALIZE( accountcounter, (count) )\n",
    "};\n",
    "\n",
    "typedef eosio::singleton< \"global\"_n, accountcounter >   account_counter;\n",
    "  \n",
    "extern \"C\" {\n",
    "    void apply( uint64_t receiver, uint64_t code, uint64_t action ) {\n",
    "        if (0) {\n",
    "            auto itr = db_find_i64(receiver, receiver, \"global\"_n.value, \"global\"_n.value);\n",
    "            db_remove_i64(itr);\n",
    "        }\n",
    "        account_counter counter(name(receiver), receiver);\n",
    "        accountcounter a = {0};\n",
    "        a = counter.get_or_default(a);\n",
    "        a.count += 1;\n",
    "        counter.set(a, name(receiver));\n",
    "        print(a.count, \"\\n\");\n",
    "    }\n",
    "}\n",
    "\n",
    "'''\n",
    "\n",
    "code = uuosapi.compile(test_account1, code, vm_type=0)\n",
    "uuosapi.deploy_code(test_account1, code, vm_type=0)\n",
    "print('done!')"
   ]
  },
  {
   "cell_type": "code",
   "execution_count": 10,
   "metadata": {},
   "outputs": [
    {
     "name": "stdout",
     "output_type": "stream",
     "text": [
      "2\n",
      "\n",
      "1071\n"
     ]
    }
   ],
   "source": [
    "r = uuosapi.push_action(test_account1, 'sayhello', b'hello,world', {test_account1:'active'})\n",
    "print(r['processed']['action_traces'][0]['console'])\n",
    "print(r['processed']['elapsed'])"
   ]
  }
 ],
 "metadata": {
  "kernelspec": {
   "display_name": "Python 3",
   "language": "python",
   "name": "python3"
  },
  "language_info": {
   "codemirror_mode": {
    "name": "ipython",
    "version": 3
   },
   "file_extension": ".py",
   "mimetype": "text/x-python",
   "name": "python",
   "nbconvert_exporter": "python",
   "pygments_lexer": "ipython3",
   "version": "3.7.4"
  }
 },
 "nbformat": 4,
 "nbformat_minor": 2
}
