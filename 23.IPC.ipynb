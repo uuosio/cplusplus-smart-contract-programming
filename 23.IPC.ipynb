{
 "cells": [
  {
   "cell_type": "code",
   "execution_count": 23,
   "metadata": {},
   "outputs": [
    {
     "name": "stdout",
     "output_type": "stream",
     "text": [
      "done!\n"
     ]
    }
   ],
   "source": [
    "from init import *\n",
    "#eosapi.set_nodes(['https://nodes.uuos.network:8443'])\n",
    "url = '/Users/newworld/dev/ethereumos/build/programs/dd/uuos.sock'\n",
    "url = url.replace('/', '%2F')\n",
    "unix_socket = 'unix://'+url\n",
    "eosapi.set_nodes([unix_socket])\n",
    "\n",
    "config.main_token='UUOS'\n",
    "wallet.import_key('test', '5KH8vwQkP4QoTwgBtCV5ZYhKmv8mx56WeNrw9AZuhNRXTrPzgYc')\n",
    "\n",
    "code = r'''\n",
    "#include <eosio/print.hpp>\n",
    "#include <eosio/name.hpp>\n",
    "#include <eosio/action.hpp>\n",
    "\n",
    "using namespace eosio;\n",
    "\n",
    "extern \"C\" {\n",
    "    void apply( uint64_t receiver, uint64_t code, uint64_t action ) {\n",
    "        if (\"sayhello\"_n.value == action) {\n",
    "            eosio::print(\"hello,world\\n\");\n",
    "        }\n",
    "    }\n",
    "}\n",
    "'''\n",
    "\n",
    "publish_cpp_contract('helloworld11', code)\n",
    "print('done!')\n"
   ]
  },
  {
   "cell_type": "code",
   "execution_count": 24,
   "metadata": {},
   "outputs": [
    {
     "name": "stdout",
     "output_type": "stream",
     "text": [
      "hello,world\n",
      "\n",
      "961\n"
     ]
    }
   ],
   "source": [
    "name = 'helloworld11'\n",
    "try:\n",
    "    r = eosapi.push_action(name, 'sayhello', b'hello,world', {name:'active'})\n",
    "    print(r['processed']['action_traces'][0]['console'])\n",
    "    print(r['processed']['elapsed'])\n",
    "except Exception as e:\n",
    "    print(e)"
   ]
  },
  {
   "cell_type": "code",
   "execution_count": 25,
   "metadata": {
    "scrolled": true
   },
   "outputs": [
    {
     "data": {
      "text/plain": [
       "{\n",
       "    \"account_name\": \"helloworld11\",\n",
       "    \"head_block_num\": 10228,\n",
       "    \"head_block_time\": \"2019-08-06T04:50:15.000\",\n",
       "    \"privileged\": false,\n",
       "    \"last_code_update\": \"2019-08-06T04:24:22.500\",\n",
       "    \"created\": \"2019-08-06T03:52:37.000\",\n",
       "    \"ram_quota\": -1,\n",
       "    \"net_weight\": -1,\n",
       "    \"cpu_weight\": -1,\n",
       "    \"net_limit\": {\n",
       "        \"used\": -1,\n",
       "        \"available\": -1,\n",
       "        \"max\": -1\n",
       "    },\n",
       "    \"cpu_limit\": {\n",
       "        \"used\": -1,\n",
       "        \"available\": -1,\n",
       "        \"max\": -1\n",
       "    },\n",
       "    \"ram_usage\": 6134,\n",
       "    \"permissions\": [\n",
       "        {\n",
       "            \"perm_name\": \"active\",\n",
       "            \"parent\": \"owner\",\n",
       "            \"required_auth\": {\n",
       "                \"threshold\": 1,\n",
       "                \"keys\": [\n",
       "                    {\n",
       "                        \"key\": \"EOS7ent7keWbVgvptfYaMYeF2cenMBiwYKcwEuc11uCbStsFKsrmV\",\n",
       "                        \"weight\": 1\n",
       "                    }\n",
       "                ],\n",
       "                \"accounts\": [],\n",
       "                \"waits\": []\n",
       "            }\n",
       "        },\n",
       "        {\n",
       "            \"perm_name\": \"owner\",\n",
       "            \"parent\": \"\",\n",
       "            \"required_auth\": {\n",
       "                \"threshold\": 1,\n",
       "                \"keys\": [\n",
       "                    {\n",
       "                        \"key\": \"EOS7ent7keWbVgvptfYaMYeF2cenMBiwYKcwEuc11uCbStsFKsrmV\",\n",
       "                        \"weight\": 1\n",
       "                    }\n",
       "                ],\n",
       "                \"accounts\": [],\n",
       "                \"waits\": []\n",
       "            }\n",
       "        }\n",
       "    ],\n",
       "    \"total_resources\": null,\n",
       "    \"self_delegated_bandwidth\": null,\n",
       "    \"refund_request\": null,\n",
       "    \"voter_info\": null\n",
       "}"
      ]
     },
     "execution_count": 25,
     "metadata": {},
     "output_type": "execute_result"
    }
   ],
   "source": [
    "eosapi.get_account('helloworld11')"
   ]
  },
  {
   "cell_type": "code",
   "execution_count": 26,
   "metadata": {},
   "outputs": [
    {
     "data": {
      "text/plain": [
       "{\n",
       "    \"account_name\": \"helloworld11\",\n",
       "    \"code_hash\": \"a2d5564b6e51cf1842eff1867402e64bd5ff4a474c50c4e12ac296aa809365c4\",\n",
       "    \"wast\": \"\",\n",
       "    \"wasm\": \"\\u0000asm\\u0001\\u0000\\u0000\\u0000\\u0001\\u001a\\u0005`\\u0001\\u007f\\u0000`\\u0002\\u007f\\u007f\\u0000`\\u0003\\u007f\\u007f\\u007f\\u0001\\u007f`\\u0000\\u0000`\\u0003~~~\\u0000\\u0002.\\u0003\\u0003env\\u0006prints\\u0000\\u0000\\u0003env\\feosio_assert\\u0000\\u0001\\u0003env\\u0006memset\\u0000\\u0002\\u0003\\u0005\\u0004\\u0003\\u0003\\u0000\\u0004\\u0004\\u0005\\u0001p\\u0001\\u0001\\u0001\\u0005\\u0003\\u0001\\u0000\\u0001\\u0006\\u0016\\u0003\\u007f\\u0001A\\u20ac\\u00c0\\u0000\\u000b\\u007f\\u0000A\\ufffd\\u00c0\\u0000\\u000b\\u007f\\u0000A\\ufffd\\u00c0\\u0000\\u000b\\u0007\\t\\u0001\\u0005apply\\u0000\\u0006\\n|\\u0004\\u0004\\u0000\\u0010\\u0004\\u000bC\\u0001\\u0001\\u007f#\\u20ac\\u20ac\\u20ac\\u20ac\\u0000A\\u0010k\\\"\\u0000A\\u00006\\u0002\\fA\\u0000 \\u0000(\\u0002\\f(\\u0002\\u0000A\\u0007jAxq\\\"\\u00006\\u0002\\u201e\\u00c0\\u20ac\\u20ac\\u0000A\\u0000 \\u00006\\u0002\\u20ac\\u00c0\\u20ac\\u20ac\\u0000A\\u0000?\\u00006\\u0002\\u0152\\u00c0\\u20ac\\u20ac\\u0000\\u000b\\u0002\\u0000\\u000b.\\u0000\\u0010\\u0192\\u20ac\\u20ac\\u20ac\\u0000\\u0002@ \\u0002B\\u20ac\\u20ac\\u20ac\\u00a0\\u00e3\\u00a8\\u00b5\\u015eAR\\r\\u0000A\\ufffd\\u00c0\\u20ac\\u20ac\\u0000\\u0010\\u20ac\\u20ac\\u20ac\\u20ac\\u0000\\u000bA\\u0000\\u0010\\u2026\\u20ac\\u20ac\\u20ac\\u0000\\u000b\\u000b,\\u0002\\u0000A\\u20ac\\u00c0\\u0000\\u000b\\u0010\\u0000\\u0000\\u0000\\u0000\\u0000\\u0000\\u0000\\u0000\\u0000\\u0000\\u0000\\u0000\\u0000\\u0000\\u0000\\u0000\\u0000A\\ufffd\\u00c0\\u0000\\u000b\\rhello,world\\n\\u0000\\u0000\\u001d\\b.imports\\feosio_assert\\u0006prints\"\n",
       "}"
      ]
     },
     "execution_count": 26,
     "metadata": {},
     "output_type": "execute_result"
    }
   ],
   "source": [
    "eosapi.get_code('helloworld11')"
   ]
  }
 ],
 "metadata": {
  "kernelspec": {
   "display_name": "Python 3",
   "language": "python",
   "name": "python3"
  },
  "language_info": {
   "codemirror_mode": {
    "name": "ipython",
    "version": 3
   },
   "file_extension": ".py",
   "mimetype": "text/x-python",
   "name": "python",
   "nbconvert_exporter": "python",
   "pygments_lexer": "ipython3",
   "version": "3.7.3"
  }
 },
 "nbformat": 4,
 "nbformat_minor": 2
}
