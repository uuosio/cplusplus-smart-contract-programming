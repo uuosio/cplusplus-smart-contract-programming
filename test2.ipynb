{
 "cells": [
  {
   "cell_type": "code",
   "execution_count": 1,
   "metadata": {},
   "outputs": [
    {
     "name": "stdout",
     "output_type": "stream",
     "text": [
      "/usr/local/Cellar/eosio.cdt/1.6.1/opt/eosio.cdt/include/eosiolib/capi\n"
     ]
    }
   ],
   "source": [
    "from init import *"
   ]
  },
  {
   "cell_type": "code",
   "execution_count": 36,
   "metadata": {},
   "outputs": [
    {
     "name": "stdout",
     "output_type": "stream",
     "text": [
      "/usr/local/Cellar/eosio.cdt/1.6.1/opt/eosio.cdt/include/eosiolib/capi\n"
     ]
    },
    {
     "data": {
      "text/plain": [
       "<module 'init' from '/Users/newworld/dev/learning-c++-smart-contract/init.py'>"
      ]
     },
     "execution_count": 36,
     "metadata": {},
     "output_type": "execute_result"
    }
   ],
   "source": [
    "import imp\n",
    "import init\n",
    "imp.reload(init)\n",
    "from init import *"
   ]
  },
  {
   "cell_type": "code",
   "execution_count": 20,
   "metadata": {},
   "outputs": [],
   "source": [
    "from IPython.core.interactiveshell import InteractiveShell\n",
    "InteractiveShell.ast_node_interactivity = \"all\""
   ]
  },
  {
   "cell_type": "code",
   "execution_count": 38,
   "metadata": {},
   "outputs": [
    {
     "name": "stdout",
     "output_type": "stream",
     "text": [
      "error (code 1):\n",
      "test.cpp:14:26: error: invalid operands to binary expression ('eosio::name' and 'uint64_t' (aka 'unsigned long long'))\n",
      "        if (\"sayhello\"_n == action) {\n",
      "            ~~~~~~~~~~~~ ^  ~~~~~~\n",
      "/usr/local/Cellar/eosio.cdt/1.6.1/opt/eosio.cdt/bin/../include/eosiolib/core/eosio/name.hpp:242:29: note: candidate function not viable: no known conversion from 'uint64_t' (aka 'unsigned long long') to 'const eosio::name' for 2nd argument\n",
      "      friend constexpr bool operator == ( const name& a, const name& b ) {\n",
      "                            ^\n",
      "1 error generated.\n",
      "\n",
      "done!\n"
     ]
    }
   ],
   "source": [
    "from pyeoskit import db\n",
    "db.reset()\n",
    "\n",
    "code = r'''\n",
    "#include <eosio/types.h>\n",
    "#include <eosio/action.h>\n",
    "#include <eosio/print.h>\n",
    "#include <eosio/name.hpp>\n",
    "extern \"C\" {\n",
    "\n",
    "__attribute__((eosio_wasm_import))\n",
    "int call_contract_get_extra_args(void* extra_args, size_t size1);\n",
    "\n",
    "__attribute__((eosio_wasm_import))\n",
    "int call_contract_set_results(void* result, size_t size1);\n",
    "    void apply( uint64_t receiver, uint64_t code, uint64_t action ) {\n",
    "        if (\"sayhello\"_n == action) {\n",
    "            prints(\"hello,world\\n\");\n",
    "        }\n",
    "    }\n",
    "}\n",
    "'''\n",
    "\n",
    "r = open('test.cpp', 'w').write(code)\n",
    "\n",
    "if  compile_cpp('test'):\n",
    "    account_name = 'helloworld11'\n",
    "    code = open('test.wasm', 'rb').read()\n",
    "    m = hashlib.sha256()\n",
    "    m.update(code)\n",
    "    code_hash = m.hexdigest()\n",
    "\n",
    "    r = eosapi.get_code(account_name)\n",
    "    if code_hash != r['code_hash']:\n",
    "        print('update contract')\n",
    "        abi = ''\n",
    "        r = eosapi.set_contract(account_name, code, abi, 0)\n",
    "print('done!')\n"
   ]
  },
  {
   "cell_type": "code",
   "execution_count": 16,
   "metadata": {},
   "outputs": [
    {
     "name": "stdout",
     "output_type": "stream",
     "text": [
      "goodbye,world\n",
      "\n",
      "624\n"
     ]
    }
   ],
   "source": [
    "from pyeoskit import db\n",
    "db.reset()\n",
    "name = 'helloworld11'\n",
    "try:\n",
    "    r = eosapi.push_action(name, 'sayhello', b'hello,world', {name:'active'})\n",
    "    print(r['processed']['action_traces'][0]['console'])\n",
    "    print(r['processed']['elapsed'])\n",
    "except Exception as e:\n",
    "    print(e)\n"
   ]
  }
 ],
 "metadata": {
  "kernelspec": {
   "display_name": "Python 3",
   "language": "python",
   "name": "python3"
  },
  "language_info": {
   "codemirror_mode": {
    "name": "ipython",
    "version": 3
   },
   "file_extension": ".py",
   "mimetype": "text/x-python",
   "name": "python",
   "nbconvert_exporter": "python",
   "pygments_lexer": "ipython3",
   "version": "3.7.3"
  }
 },
 "nbformat": 4,
 "nbformat_minor": 2
}
