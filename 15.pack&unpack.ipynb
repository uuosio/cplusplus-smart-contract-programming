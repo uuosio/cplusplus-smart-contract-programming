{
 "cells": [
  {
   "cell_type": "code",
   "execution_count": 2,
   "metadata": {},
   "outputs": [],
   "source": [
    "from init import *"
   ]
  },
  {
   "cell_type": "markdown",
   "metadata": {},
   "source": [
    "# string"
   ]
  },
  {
   "cell_type": "code",
   "execution_count": 6,
   "metadata": {},
   "outputs": [
    {
     "name": "stdout",
     "output_type": "stream",
     "text": [
      "\n",
      "\n"
     ]
    }
   ],
   "source": [
    "\n",
    "abi = '''\n",
    "{\n",
    "   \"version\": \"eosio::abi/1.0\",\n",
    "   \"types\": [],\n",
    "  \"structs\": [{\n",
    "      \"name\": \"sayhello\",\n",
    "      \"base\": \"\",\n",
    "      \"fields\": [\n",
    "        {\"name\":\"worlds\", \"type\":\"string\"},\n",
    "      ]\n",
    "    }\n",
    "  ],\n",
    "  \"actions\": [{\n",
    "      \"name\": \"sayhello\",\n",
    "      \"type\": \"sayhello\",\n",
    "      \"ricardian_contract\": \"\"\n",
    "    }\n",
    "  ],\n",
    "  \"tables\": [\n",
    "  ]\n",
    "}\n",
    "'''\n",
    "\n",
    "account_name = 'helloworld11'\n",
    "\n",
    "code = r'''\n",
    "#include <string>\n",
    "#include <eosio/print.hpp>\n",
    "#include <eosio/action.hpp>\n",
    "\n",
    "using namespace std;\n",
    "using namespace eosio;\n",
    "\n",
    "#define N(name) name##_n.value\n",
    "\n",
    "extern \"C\" {\n",
    "    void apply( uint64_t receiver, uint64_t code, uint64_t action ) {\n",
    "        if (N(\"sayhello\") == action) {\n",
    "            string s = unpack_action_data<string>();\n",
    "            print(s, \"\\n\");\n",
    "        }\n",
    "    }\n",
    "}\n",
    "'''\n",
    "\n",
    "publish_cpp_contract('helloworld11', code)\n",
    "set_abi(account_name, abi)\n"
   ]
  },
  {
   "cell_type": "code",
   "execution_count": 9,
   "metadata": {},
   "outputs": [
    {
     "name": "stdout",
     "output_type": "stream",
     "text": [
      "hello,world\n",
      "\n"
     ]
    }
   ],
   "source": [
    "try:\n",
    "    args = {'worlds':'hello,world'}\n",
    "    r = eosapi.push_action(account_name, 'sayhello', args, {account_name:'active'})\n",
    "    print(r['processed']['action_traces'][0]['console'])\n",
    "except Exception as e:\n",
    "    print('error:', e)"
   ]
  },
  {
   "cell_type": "markdown",
   "metadata": {},
   "source": [
    "# bytes"
   ]
  },
  {
   "cell_type": "code",
   "execution_count": 13,
   "metadata": {},
   "outputs": [
    {
     "name": "stdout",
     "output_type": "stream",
     "text": [
      "\n",
      "\n"
     ]
    }
   ],
   "source": [
    "abi = '''\n",
    "{\n",
    "   \"version\": \"eosio::abi/1.0\",\n",
    "   \"types\": [],\n",
    "  \"structs\": [{\n",
    "      \"name\": \"sayhello\",\n",
    "      \"base\": \"\",\n",
    "      \"fields\": [\n",
    "        {\"name\":\"worlds\", \"type\":\"bytes\"},\n",
    "      ]\n",
    "    }\n",
    "  ],\n",
    "  \"actions\": [{\n",
    "      \"name\": \"sayhello\",\n",
    "      \"type\": \"sayhello\",\n",
    "      \"ricardian_contract\": \"\"\n",
    "    }\n",
    "  ],\n",
    "  \"tables\": [\n",
    "  ]\n",
    "}\n",
    "'''\n",
    "\n",
    "account_name = 'helloworld11'\n",
    "\n",
    "code = r'''\n",
    "#include <string>\n",
    "#include <vector>\n",
    "#include <eosio/print.hpp>\n",
    "#include <eosio/action.hpp>\n",
    "\n",
    "using namespace std;\n",
    "using namespace eosio;\n",
    "\n",
    "#define N(name) name##_n.value\n",
    "\n",
    "extern \"C\" {\n",
    "    void apply( uint64_t receiver, uint64_t code, uint64_t action ) {\n",
    "        if (N(\"sayhello\") == action) {\n",
    "            vector<char> v = unpack_action_data<vector<char>>();\n",
    "            printhex(v.data(), v.size());\n",
    "        }\n",
    "    }\n",
    "}\n",
    "'''\n",
    "\n",
    "publish_cpp_contract('helloworld11', code)\n",
    "set_abi(account_name, abi)"
   ]
  },
  {
   "cell_type": "code",
   "execution_count": 14,
   "metadata": {},
   "outputs": [
    {
     "name": "stdout",
     "output_type": "stream",
     "text": [
      "68656c6c6f2c776f726c64\n"
     ]
    }
   ],
   "source": [
    "try:\n",
    "    args = {'worlds':bytes.hex(b'hello,world')}\n",
    "    r = eosapi.push_action(account_name, 'sayhello', args, {account_name:'active'})\n",
    "    print(r['processed']['action_traces'][0]['console'])\n",
    "except Exception as e:\n",
    "    print('error:', e)"
   ]
  },
  {
   "cell_type": "markdown",
   "metadata": {},
   "source": [
    "# array"
   ]
  },
  {
   "cell_type": "code",
   "execution_count": 17,
   "metadata": {},
   "outputs": [
    {
     "name": "stdout",
     "output_type": "stream",
     "text": [
      "\n",
      "\n"
     ]
    }
   ],
   "source": [
    "abi = '''\n",
    "{\n",
    "   \"version\": \"eosio::abi/1.0\",\n",
    "   \"types\": [],\n",
    "  \"structs\": [{\n",
    "      \"name\": \"sayhello\",\n",
    "      \"base\": \"\",\n",
    "      \"fields\": [\n",
    "        {\"name\":\"worlds\", \"type\":\"string[]\"},\n",
    "      ]\n",
    "    }\n",
    "  ],\n",
    "  \"actions\": [{\n",
    "      \"name\": \"sayhello\",\n",
    "      \"type\": \"sayhello\",\n",
    "      \"ricardian_contract\": \"\"\n",
    "    }\n",
    "  ],\n",
    "  \"tables\": [\n",
    "  ]\n",
    "}\n",
    "'''\n",
    "\n",
    "\n",
    "account_name = 'helloworld11'\n",
    "\n",
    "code = r'''\n",
    "#include <string>\n",
    "#include <vector>\n",
    "#include <eosio/print.hpp>\n",
    "#include <eosio/action.hpp>\n",
    "\n",
    "using namespace std;\n",
    "using namespace eosio;\n",
    "\n",
    "#define N(name) name##_n.value\n",
    "\n",
    "extern \"C\" {\n",
    "    void apply( uint64_t receiver, uint64_t code, uint64_t action ) {\n",
    "        if (N(\"sayhello\") == action) {\n",
    "            vector<string> v = unpack_action_data<vector<string>>();\n",
    "            for (string s: v) {\n",
    "                print(s, \"\\n\");\n",
    "            }\n",
    "        }\n",
    "    }\n",
    "}\n",
    "'''\n",
    "\n",
    "publish_cpp_contract('helloworld11', code)\n",
    "set_abi(account_name, abi)\n"
   ]
  },
  {
   "cell_type": "code",
   "execution_count": 19,
   "metadata": {},
   "outputs": [
    {
     "name": "stdout",
     "output_type": "stream",
     "text": [
      "hello,world\n",
      "hello\n",
      "\n"
     ]
    }
   ],
   "source": [
    "try:\n",
    "    args = {'worlds':['hello,world', 'hello']}\n",
    "    r = eosapi.push_action(account_name, 'sayhello', args, {account_name:'active'})\n",
    "    print(r['processed']['action_traces'][0]['console'])\n",
    "except Exception as e:\n",
    "    print('error:', e)"
   ]
  },
  {
   "cell_type": "markdown",
   "metadata": {},
   "source": [
    "# symbol"
   ]
  },
  {
   "cell_type": "code",
   "execution_count": 38,
   "metadata": {},
   "outputs": [
    {
     "name": "stdout",
     "output_type": "stream",
     "text": [
      "\n",
      "\n",
      "update contract\n"
     ]
    }
   ],
   "source": [
    "abi = '''\n",
    "{\n",
    "   \"version\": \"eosio::abi/1.0\",\n",
    "   \"types\": [],\n",
    "  \"structs\": [{\n",
    "      \"name\": \"test\",\n",
    "      \"base\": \"\",\n",
    "      \"fields\": [\n",
    "        {\"name\":\"test\", \"type\":\"symbol\"},\n",
    "      ]\n",
    "    }\n",
    "  ],\n",
    "  \"actions\": [{\n",
    "      \"name\": \"test\",\n",
    "      \"type\": \"test\",\n",
    "      \"ricardian_contract\": \"\"\n",
    "    }\n",
    "  ],\n",
    "  \"tables\": [\n",
    "  ]\n",
    "}\n",
    "'''\n",
    "\n",
    "account_name = 'helloworld11'\n",
    "\n",
    "code = r'''\n",
    "#include <string>\n",
    "#include <vector>\n",
    "#include <eosio/print.hpp>\n",
    "#include <eosio/action.hpp>\n",
    "#include <eosio/asset.hpp>\n",
    "\n",
    "using namespace std;\n",
    "using namespace eosio;\n",
    "\n",
    "#define N(name) name##_n.value\n",
    "\n",
    "extern \"C\" {\n",
    "    void apply( uint64_t receiver, uint64_t code, uint64_t action ) {\n",
    "        if (N(\"test\") == action) {\n",
    "            symbol s = unpack_action_data<symbol>();\n",
    "            print(s);\n",
    "        }\n",
    "    }\n",
    "}\n",
    "'''\n",
    "\n",
    "publish_cpp_contract('helloworld11', code)\n",
    "set_abi(account_name, abi)"
   ]
  },
  {
   "cell_type": "code",
   "execution_count": 39,
   "metadata": {},
   "outputs": [
    {
     "name": "stdout",
     "output_type": "stream",
     "text": [
      "4,SSSSSSS7\n"
     ]
    }
   ],
   "source": [
    "try:\n",
    "    args = {'test':'4,SSSSSSS'}\n",
    "    r = eosapi.push_action(account_name, 'test', args, {account_name:'active'})\n",
    "    print(r['processed']['action_traces'][0]['console'])\n",
    "except Exception as e:\n",
    "    print('error:', e)"
   ]
  },
  {
   "cell_type": "markdown",
   "metadata": {},
   "source": [
    "# asset\n",
    "```c++\n",
    "struct asset {\n",
    "  int64_t      amount;\n",
    "  symbol_type  symbol;\n",
    "}\n",
    "```"
   ]
  },
  {
   "cell_type": "code",
   "execution_count": 40,
   "metadata": {},
   "outputs": [
    {
     "name": "stdout",
     "output_type": "stream",
     "text": [
      "\n",
      "\n",
      "update contract\n"
     ]
    }
   ],
   "source": [
    "abi = '''\n",
    "{\n",
    "   \"version\": \"eosio::abi/1.0\",\n",
    "   \"types\": [],\n",
    "  \"structs\": [{\n",
    "      \"name\": \"test\",\n",
    "      \"base\": \"\",\n",
    "      \"fields\": [\n",
    "        {\"name\":\"test\", \"type\":\"asset\"},\n",
    "      ]\n",
    "    }\n",
    "  ],\n",
    "  \"actions\": [{\n",
    "      \"name\": \"test\",\n",
    "      \"type\": \"test\",\n",
    "      \"ricardian_contract\": \"\"\n",
    "    }\n",
    "  ],\n",
    "  \"tables\": [\n",
    "  ]\n",
    "}\n",
    "'''\n",
    "\n",
    "account_name = 'helloworld11'\n",
    "\n",
    "code = r'''\n",
    "#include <string>\n",
    "#include <vector>\n",
    "#include <eosio/print.hpp>\n",
    "#include <eosio/action.hpp>\n",
    "#include <eosio/asset.hpp>\n",
    "\n",
    "using namespace std;\n",
    "using namespace eosio;\n",
    "\n",
    "#define N(name) name##_n.value\n",
    "\n",
    "extern \"C\" {\n",
    "    void apply( uint64_t receiver, uint64_t code, uint64_t action ) {\n",
    "        if (N(\"test\") == action) {\n",
    "            asset s = unpack_action_data<asset>();\n",
    "            print(s);\n",
    "        }\n",
    "    }\n",
    "}\n",
    "'''\n",
    "\n",
    "publish_cpp_contract('helloworld11', code)\n",
    "set_abi(account_name, abi)\n",
    "\n"
   ]
  },
  {
   "cell_type": "code",
   "execution_count": 43,
   "metadata": {},
   "outputs": [
    {
     "name": "stdout",
     "output_type": "stream",
     "text": [
      "100.0000 SYS\n"
     ]
    }
   ],
   "source": [
    "try:\n",
    "    args = {'test':'100.0000 SYS'}\n",
    "    r = eosapi.push_action(account_name, 'test', args, {account_name:'active'})\n",
    "    print(r['processed']['action_traces'][0]['console'])\n",
    "except Exception as e:\n",
    "    print('error:', e)\n"
   ]
  },
  {
   "cell_type": "code",
   "execution_count": 47,
   "metadata": {},
   "outputs": [
    {
     "name": "stdout",
     "output_type": "stream",
     "text": [
      "\n",
      "\n",
      "update contract\n"
     ]
    }
   ],
   "source": [
    "abi = '''\n",
    "{\n",
    "   \"version\": \"eosio::abi/1.0\",\n",
    "   \"types\": [{\n",
    "      \"new_type_name\": \"account_name\",\n",
    "      \"type\": \"name\"\n",
    "   }],\n",
    "  \"structs\": [{\n",
    "      \"name\": \"transfer\",\n",
    "      \"base\": \"\",\n",
    "      \"fields\": [\n",
    "        {\"name\":\"from\", \"type\":\"account_name\"},\n",
    "        {\"name\":\"to\", \"type\":\"account_name\"},\n",
    "        {\"name\":\"quantity\", \"type\":\"asset\"},\n",
    "        {\"name\":\"memo\", \"type\":\"string\"}\n",
    "      ]\n",
    "    }\n",
    "  ],\n",
    "  \"actions\": [{\n",
    "      \"name\": \"transfer\",\n",
    "      \"type\": \"transfer\",\n",
    "      \"ricardian_contract\": \"\"\n",
    "    }\n",
    "  ],\n",
    "  \"tables\": [\n",
    "  ],\n",
    "  \"ricardian_clauses\": [],\n",
    "  \"abi_extensions\": []\n",
    "}\n",
    "'''\n",
    "\n",
    "account_name = 'helloworld11'\n",
    "\n",
    "code = r'''\n",
    "#include <string>\n",
    "#include <vector>\n",
    "#include <eosio/print.hpp>\n",
    "#include <eosio/action.hpp>\n",
    "#include <eosio/asset.hpp>\n",
    "\n",
    "using namespace std;\n",
    "using namespace eosio;\n",
    "\n",
    "#define N(name) name##_n.value\n",
    "\n",
    "struct transfer {\n",
    "    name from;\n",
    "    name to;\n",
    "    asset amount;\n",
    "    string memo;\n",
    "    EOSLIB_SERIALIZE( transfer, (from)(to)(amount)(memo) )\n",
    "};\n",
    "\n",
    "extern \"C\" {\n",
    "    void apply( uint64_t receiver, uint64_t code, uint64_t action ) {\n",
    "        if (N(\"transfer\") == action) {\n",
    "            auto t = unpack_action_data<transfer>();\n",
    "            print(t.memo);\n",
    "        }\n",
    "    }\n",
    "}\n",
    "'''\n",
    "\n",
    "publish_cpp_contract('helloworld11', code)\n",
    "set_abi(account_name, abi)"
   ]
  },
  {
   "cell_type": "code",
   "execution_count": 51,
   "metadata": {},
   "outputs": [
    {
     "name": "stdout",
     "output_type": "stream",
     "text": [
      "hello,world\n"
     ]
    }
   ],
   "source": [
    "try:\n",
    "    args = {'from':'eosio', 'to':'eosio.token', 'quantity':'100.0000 UUOS', 'memo':'hello,world'}\n",
    "    r = eosapi.push_action(account_name, 'transfer', args, {account_name:'active'})\n",
    "    print(r['processed']['action_traces'][0]['console'])\n",
    "except Exception as e:\n",
    "    print('error:', e)"
   ]
  }
 ],
 "metadata": {
  "kernelspec": {
   "display_name": "Python 3",
   "language": "python",
   "name": "python3"
  },
  "language_info": {
   "codemirror_mode": {
    "name": "ipython",
    "version": 3
   },
   "file_extension": ".py",
   "mimetype": "text/x-python",
   "name": "python",
   "nbconvert_exporter": "python",
   "pygments_lexer": "ipython3",
   "version": "3.7.3"
  }
 },
 "nbformat": 4,
 "nbformat_minor": 2
}
