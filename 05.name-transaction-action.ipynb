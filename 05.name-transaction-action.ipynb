{
 "cells": [
  {
   "cell_type": "markdown",
   "metadata": {},
   "source": [
    "### Eos帐户名/权限名/表名称\n",
    "- > 帐户名最多由12个字符组成，权限名/表名称最多为13个字符\n",
    "- > 允许的字符：.12345abcdefghijklmnopqrstuvwxyz\n",
    "- > 帐户名在存储时会被转化成一个64位的无符号整数\n"
   ]
  },
  {
   "cell_type": "markdown",
   "metadata": {},
   "source": [
    "[libraries/chain/include/eosio/chain/name.hpp](https://github.com/EOSIO/eos/blob/5082391c60b0fa5e68157c385cd402bf25aea934/libraries/chain/include/eosio/chain/name.hpp#L42)"
   ]
  },
  {
   "cell_type": "markdown",
   "metadata": {},
   "source": [
    "```c++\n",
    "   struct name {\n",
    "      uint64_t value = 0;\n",
    "      bool empty()const { return 0 == value; }\n",
    "      bool good()const  { return !empty();   }\n",
    "\n",
    "      name( const char* str )   { set(str);           } \n",
    "      name( const string& str ) { set( str.c_str() ); }\n",
    "...\n",
    "   }\n",
    "```"
   ]
  },
  {
   "cell_type": "markdown",
   "metadata": {},
   "source": [
    "[libraries/chain/include/eosio/chain/types.hpp](https://github.com/EOSIO/eos/blob/5082391c60b0fa5e68157c385cd402bf25aea934/libraries/chain/include/eosio/chain/types.hpp#L133)"
   ]
  },
  {
   "cell_type": "markdown",
   "metadata": {},
   "source": [
    "```c++\n",
    "   using action_name      = name;\n",
    "   using scope_name       = name;\n",
    "   using account_name     = name;\n",
    "   using permission_name  = name;\n",
    "   using table_name       = name;\n",
    "```"
   ]
  },
  {
   "cell_type": "markdown",
   "metadata": {},
   "source": [
    "[libraries/chain/include/eosio/chain/transaction.hpp](https://github.com/EOSIO/eos/blob/5082391c60b0fa5e68157c385cd402bf25aea934/libraries/chain/include/eosio/chain/transaction.hpp#L30)\n"
   ]
  },
  {
   "cell_type": "markdown",
   "metadata": {},
   "source": [
    "```c++\n",
    "struct transaction_header {\n",
    "      time_point_sec         expiration;   ///< the time at which a transaction expires\n",
    "      uint16_t               ref_block_num       = 0U; ///< specifies a block num in the last 2^16 blocks.\n",
    "      uint32_t               ref_block_prefix    = 0UL; ///< specifies the lower 32 bits of the blockid at get_ref_blocknum\n",
    "      fc::unsigned_int       max_net_usage_words = 0UL; /// upper limit on total network bandwidth (in 8 byte words) billed for this transaction\n",
    "      uint8_t                max_cpu_usage_ms    = 0; /// upper limit on the total CPU time billed for this transaction\n",
    "      fc::unsigned_int       delay_sec           = 0UL; /// number of seconds to delay this transaction for during which it may be canceled.\n",
    "\n",
    "...\n",
    "   };\n",
    "\n",
    "   struct transaction : public transaction_header {\n",
    "      vector<action>         context_free_actions;\n",
    "      vector<action>         actions;\n",
    "      extensions_type        transaction_extensions;\n",
    "...\n",
    "   };\n",
    "```"
   ]
  },
  {
   "cell_type": "markdown",
   "metadata": {},
   "source": [
    "[libraries/chain/include/eosio/chain/action.hpp](https://github.com/EOSIO/eos/blob/5082391c60b0fa5e68157c385cd402bf25aea934/libraries/chain/include/eosio/chain/action.hpp#L60)"
   ]
  },
  {
   "cell_type": "markdown",
   "metadata": {},
   "source": [
    "```c++\n",
    "   struct action {\n",
    "      account_name               account;\n",
    "      action_name                name;\n",
    "      vector<permission_level>   authorization;\n",
    "      bytes                      data;\n",
    "...\n",
    "   }\n",
    "```"
   ]
  },
  {
   "cell_type": "code",
   "execution_count": 4,
   "metadata": {},
   "outputs": [],
   "source": [
    "import os\n",
    "from pyeoskit import eosapi, wallet, db\n",
    "db.reset()"
   ]
  },
  {
   "cell_type": "code",
   "execution_count": 5,
   "metadata": {},
   "outputs": [
    {
     "data": {
      "text/plain": [
       "True"
      ]
     },
     "execution_count": 5,
     "metadata": {},
     "output_type": "execute_result"
    }
   ],
   "source": [
    "if os.path.exists('test.wallet'):\n",
    "    os.remove('test.wallet')\n",
    "psw = wallet.create('test')\n",
    "wallet.import_key('test', '5KH8vwQkP4QoTwgBtCV5ZYhKmv8mx56WeNrw9AZuhNRXTrPzgYc')"
   ]
  },
  {
   "cell_type": "code",
   "execution_count": 3,
   "metadata": {},
   "outputs": [],
   "source": [
    "from pyeoskit import config\n",
    "config.main_token = 'UUOS'"
   ]
  },
  {
   "cell_type": "markdown",
   "metadata": {},
   "source": [
    "# push_action"
   ]
  },
  {
   "cell_type": "code",
   "execution_count": 17,
   "metadata": {},
   "outputs": [
    {
     "data": {
      "text/plain": [
       "996.8"
      ]
     },
     "execution_count": 17,
     "metadata": {},
     "output_type": "execute_result"
    }
   ],
   "source": [
    "eosapi.get_balance('test11111111')"
   ]
  },
  {
   "cell_type": "code",
   "execution_count": 18,
   "metadata": {},
   "outputs": [],
   "source": [
    "args = {'from':'test11111111', 'to':'eosio', 'quantity':'0.1000 UUOS', 'memo':'hello,world'}\n",
    "name = 'test11111111'\n",
    "r = eosapi.push_action('eosio.token', 'transfer', args, {name:'active'})"
   ]
  },
  {
   "cell_type": "code",
   "execution_count": 19,
   "metadata": {
    "scrolled": true
   },
   "outputs": [
    {
     "data": {
      "text/plain": [
       "996.7"
      ]
     },
     "execution_count": 19,
     "metadata": {},
     "output_type": "execute_result"
    }
   ],
   "source": [
    "eosapi.get_balance('test11111111')"
   ]
  },
  {
   "cell_type": "markdown",
   "metadata": {},
   "source": [
    "# push_actions"
   ]
  },
  {
   "cell_type": "code",
   "execution_count": 20,
   "metadata": {},
   "outputs": [
    {
     "data": {
      "text/plain": [
       "996.7"
      ]
     },
     "execution_count": 20,
     "metadata": {},
     "output_type": "execute_result"
    }
   ],
   "source": [
    "eosapi.get_balance('test11111111')"
   ]
  },
  {
   "cell_type": "code",
   "execution_count": 21,
   "metadata": {},
   "outputs": [],
   "source": [
    "aa = []\n",
    "args = {'from':'test11111111', 'to':'eosio', 'quantity':'0.1000 UUOS', 'memo':'hello,world'}\n",
    "a = ['eosio.token', 'transfer', args, {'test11111111':'active'}]\n",
    "aa.append(a)\n",
    "\n",
    "args = {'from':'test11111111', 'to':'eosio', 'quantity':'0.2000 UUOS', 'memo':'hello,world'}\n",
    "a = ['eosio.token', 'transfer', args, {'test11111111':'active'}]\n",
    "aa.append(a)\n",
    "\n",
    "r = eosapi.push_actions(aa)"
   ]
  },
  {
   "cell_type": "code",
   "execution_count": 22,
   "metadata": {},
   "outputs": [
    {
     "data": {
      "text/plain": [
       "996.4"
      ]
     },
     "execution_count": 22,
     "metadata": {},
     "output_type": "execute_result"
    }
   ],
   "source": [
    "eosapi.get_balance('test11111111')"
   ]
  },
  {
   "cell_type": "markdown",
   "metadata": {},
   "source": [
    "# push_transaction"
   ]
  },
  {
   "cell_type": "code",
   "execution_count": null,
   "metadata": {},
   "outputs": [],
   "source": []
  },
  {
   "cell_type": "markdown",
   "metadata": {},
   "source": [
    "# push_transactions"
   ]
  },
  {
   "cell_type": "code",
   "execution_count": 23,
   "metadata": {},
   "outputs": [
    {
     "data": {
      "text/plain": [
       "996.4"
      ]
     },
     "execution_count": 23,
     "metadata": {},
     "output_type": "execute_result"
    }
   ],
   "source": [
    "eosapi.get_balance('test11111111')"
   ]
  },
  {
   "cell_type": "code",
   "execution_count": 30,
   "metadata": {},
   "outputs": [
    {
     "data": {
      "text/plain": [
       "[{'transaction_id': '17c3c14d66f05103bc40a2c69869b6ebbe01f880648a855f069a280d277ebe2c',\n",
       "  'processed': {'id': '17c3c14d66f05103bc40a2c69869b6ebbe01f880648a855f069a280d277ebe2c',\n",
       "   'block_num': 1056907,\n",
       "   'block_time': '2019-06-06T14:03:47.000',\n",
       "   'producer_block_id': None,\n",
       "   'receipt': {'status': 'executed',\n",
       "    'cpu_usage_us': 783,\n",
       "    'net_usage_words': 27},\n",
       "   'elapsed': 783,\n",
       "   'net_usage': 216,\n",
       "   'scheduled': False,\n",
       "   'action_traces': [{'receipt': {'receiver': 'eosio.token',\n",
       "      'act_digest': 'dfb9a34f1a2d49f5784202fbf7141f1e7ff4877fa8f10be017a83c454af1e792',\n",
       "      'global_sequence': 1058121,\n",
       "      'recv_sequence': 243,\n",
       "      'auth_sequence': [['test11111111', 204]],\n",
       "      'code_sequence': 1,\n",
       "      'abi_sequence': 1},\n",
       "     'act': {'account': 'eosio.token',\n",
       "      'name': 'transfer',\n",
       "      'authorization': [{'actor': 'test11111111', 'permission': 'active'}],\n",
       "      'data': {'from': 'test11111111',\n",
       "       'to': 'eosio',\n",
       "       'quantity': '0.1000 UUOS',\n",
       "       'memo': 'hello,world'},\n",
       "      'hex_data': '104208218490b1ca0000000000ea3055e8030000000000000455554f530000000b68656c6c6f2c776f726c64'},\n",
       "     'context_free': False,\n",
       "     'elapsed': 143,\n",
       "     'console': '',\n",
       "     'trx_id': '17c3c14d66f05103bc40a2c69869b6ebbe01f880648a855f069a280d277ebe2c',\n",
       "     'block_num': 1056907,\n",
       "     'block_time': '2019-06-06T14:03:47.000',\n",
       "     'producer_block_id': None,\n",
       "     'account_ram_deltas': [],\n",
       "     'except': None,\n",
       "     'inline_traces': [{'receipt': {'receiver': 'test11111111',\n",
       "        'act_digest': 'dfb9a34f1a2d49f5784202fbf7141f1e7ff4877fa8f10be017a83c454af1e792',\n",
       "        'global_sequence': 1058122,\n",
       "        'recv_sequence': 103,\n",
       "        'auth_sequence': [['test11111111', 205]],\n",
       "        'code_sequence': 1,\n",
       "        'abi_sequence': 1},\n",
       "       'act': {'account': 'eosio.token',\n",
       "        'name': 'transfer',\n",
       "        'authorization': [{'actor': 'test11111111', 'permission': 'active'}],\n",
       "        'data': {'from': 'test11111111',\n",
       "         'to': 'eosio',\n",
       "         'quantity': '0.1000 UUOS',\n",
       "         'memo': 'hello,world'},\n",
       "        'hex_data': '104208218490b1ca0000000000ea3055e8030000000000000455554f530000000b68656c6c6f2c776f726c64'},\n",
       "       'context_free': False,\n",
       "       'elapsed': 93,\n",
       "       'console': 'hello,world\\n',\n",
       "       'trx_id': '17c3c14d66f05103bc40a2c69869b6ebbe01f880648a855f069a280d277ebe2c',\n",
       "       'block_num': 1056907,\n",
       "       'block_time': '2019-06-06T14:03:47.000',\n",
       "       'producer_block_id': None,\n",
       "       'account_ram_deltas': [],\n",
       "       'except': None,\n",
       "       'inline_traces': []},\n",
       "      {'receipt': {'receiver': 'eosio',\n",
       "        'act_digest': 'dfb9a34f1a2d49f5784202fbf7141f1e7ff4877fa8f10be017a83c454af1e792',\n",
       "        'global_sequence': 1058123,\n",
       "        'recv_sequence': 1057428,\n",
       "        'auth_sequence': [['test11111111', 206]],\n",
       "        'code_sequence': 1,\n",
       "        'abi_sequence': 1},\n",
       "       'act': {'account': 'eosio.token',\n",
       "        'name': 'transfer',\n",
       "        'authorization': [{'actor': 'test11111111', 'permission': 'active'}],\n",
       "        'data': {'from': 'test11111111',\n",
       "         'to': 'eosio',\n",
       "         'quantity': '0.1000 UUOS',\n",
       "         'memo': 'hello,world'},\n",
       "        'hex_data': '104208218490b1ca0000000000ea3055e8030000000000000455554f530000000b68656c6c6f2c776f726c64'},\n",
       "       'context_free': False,\n",
       "       'elapsed': 31,\n",
       "       'console': '',\n",
       "       'trx_id': '17c3c14d66f05103bc40a2c69869b6ebbe01f880648a855f069a280d277ebe2c',\n",
       "       'block_num': 1056907,\n",
       "       'block_time': '2019-06-06T14:03:47.000',\n",
       "       'producer_block_id': None,\n",
       "       'account_ram_deltas': [],\n",
       "       'except': None,\n",
       "       'inline_traces': []}]},\n",
       "    {'receipt': {'receiver': 'eosio.token',\n",
       "      'act_digest': '7cfb875b92fe8a55158dd78a719520337c75a37cce01c89ce465901414b1185c',\n",
       "      'global_sequence': 1058124,\n",
       "      'recv_sequence': 244,\n",
       "      'auth_sequence': [['test11111111', 207]],\n",
       "      'code_sequence': 1,\n",
       "      'abi_sequence': 1},\n",
       "     'act': {'account': 'eosio.token',\n",
       "      'name': 'transfer',\n",
       "      'authorization': [{'actor': 'test11111111', 'permission': 'active'}],\n",
       "      'data': {'from': 'test11111111',\n",
       "       'to': 'eosio',\n",
       "       'quantity': '0.2000 UUOS',\n",
       "       'memo': 'hello,world'},\n",
       "      'hex_data': '104208218490b1ca0000000000ea3055d0070000000000000455554f530000000b68656c6c6f2c776f726c64'},\n",
       "     'context_free': False,\n",
       "     'elapsed': 162,\n",
       "     'console': '',\n",
       "     'trx_id': '17c3c14d66f05103bc40a2c69869b6ebbe01f880648a855f069a280d277ebe2c',\n",
       "     'block_num': 1056907,\n",
       "     'block_time': '2019-06-06T14:03:47.000',\n",
       "     'producer_block_id': None,\n",
       "     'account_ram_deltas': [],\n",
       "     'except': None,\n",
       "     'inline_traces': [{'receipt': {'receiver': 'test11111111',\n",
       "        'act_digest': '7cfb875b92fe8a55158dd78a719520337c75a37cce01c89ce465901414b1185c',\n",
       "        'global_sequence': 1058125,\n",
       "        'recv_sequence': 104,\n",
       "        'auth_sequence': [['test11111111', 208]],\n",
       "        'code_sequence': 1,\n",
       "        'abi_sequence': 1},\n",
       "       'act': {'account': 'eosio.token',\n",
       "        'name': 'transfer',\n",
       "        'authorization': [{'actor': 'test11111111', 'permission': 'active'}],\n",
       "        'data': {'from': 'test11111111',\n",
       "         'to': 'eosio',\n",
       "         'quantity': '0.2000 UUOS',\n",
       "         'memo': 'hello,world'},\n",
       "        'hex_data': '104208218490b1ca0000000000ea3055d0070000000000000455554f530000000b68656c6c6f2c776f726c64'},\n",
       "       'context_free': False,\n",
       "       'elapsed': 53,\n",
       "       'console': 'hello,world\\n',\n",
       "       'trx_id': '17c3c14d66f05103bc40a2c69869b6ebbe01f880648a855f069a280d277ebe2c',\n",
       "       'block_num': 1056907,\n",
       "       'block_time': '2019-06-06T14:03:47.000',\n",
       "       'producer_block_id': None,\n",
       "       'account_ram_deltas': [],\n",
       "       'except': None,\n",
       "       'inline_traces': []},\n",
       "      {'receipt': {'receiver': 'eosio',\n",
       "        'act_digest': '7cfb875b92fe8a55158dd78a719520337c75a37cce01c89ce465901414b1185c',\n",
       "        'global_sequence': 1058126,\n",
       "        'recv_sequence': 1057429,\n",
       "        'auth_sequence': [['test11111111', 209]],\n",
       "        'code_sequence': 1,\n",
       "        'abi_sequence': 1},\n",
       "       'act': {'account': 'eosio.token',\n",
       "        'name': 'transfer',\n",
       "        'authorization': [{'actor': 'test11111111', 'permission': 'active'}],\n",
       "        'data': {'from': 'test11111111',\n",
       "         'to': 'eosio',\n",
       "         'quantity': '0.2000 UUOS',\n",
       "         'memo': 'hello,world'},\n",
       "        'hex_data': '104208218490b1ca0000000000ea3055d0070000000000000455554f530000000b68656c6c6f2c776f726c64'},\n",
       "       'context_free': False,\n",
       "       'elapsed': 17,\n",
       "       'console': '',\n",
       "       'trx_id': '17c3c14d66f05103bc40a2c69869b6ebbe01f880648a855f069a280d277ebe2c',\n",
       "       'block_num': 1056907,\n",
       "       'block_time': '2019-06-06T14:03:47.000',\n",
       "       'producer_block_id': None,\n",
       "       'account_ram_deltas': [],\n",
       "       'except': None,\n",
       "       'inline_traces': []}]}],\n",
       "   'except': None}},\n",
       " {'transaction_id': '0000000000000000000000000000000000000000000000000000000000000000',\n",
       "  'processed': {'error': '3040008 tx_duplicate: Duplicate transaction\\nduplicate transaction 17c3c14d66f05103bc40a2c69869b6ebbe01f880648a855f069a280d277ebe2c\\n    {\"id\":\"17c3c14d66f05103bc40a2c69869b6ebbe01f880648a855f069a280d277ebe2c\"}\\n    thread-0  producer_plugin.cpp:410 process_incoming_transaction_async'}}]"
      ]
     },
     "execution_count": 30,
     "metadata": {},
     "output_type": "execute_result"
    }
   ],
   "source": [
    "aa = []\n",
    "args = {'from':'test11111111', 'to':'eosio', 'quantity':'0.1000 UUOS', 'memo':'hello,world'}\n",
    "a = ['eosio.token', 'transfer', args, {'test11111111':'active'}]\n",
    "aa.append(a)\n",
    "\n",
    "args = {'from':'test11111111', 'to':'eosio', 'quantity':'0.2000 UUOS', 'memo':'hello,world'}\n",
    "a = ['eosio.token', 'transfer', args, {'test11111111':'active'}]\n",
    "aa.append(a)\n",
    "\n",
    "\n",
    "bb = []\n",
    "args = {'from':'test11111111', 'to':'eosio', 'quantity':'0.1000 UUOS', 'memo':'hello,world'}\n",
    "a = ['eosio.token', 'transfer', args, {'test11111111':'active'}]\n",
    "bb.append(a)\n",
    "\n",
    "args = {'from':'test11111111', 'to':'eosio', 'quantity':'0.2000 UUOS', 'memo':'hello,world'}\n",
    "a = ['eosio.token', 'transfer', args, {'test11111111':'active'}]\n",
    "bb.append(a)\n",
    "\n",
    "\n",
    "eosapi.push_transactions([aa, bb])"
   ]
  },
  {
   "cell_type": "code",
   "execution_count": 25,
   "metadata": {},
   "outputs": [
    {
     "data": {
      "text/plain": [
       "995.8"
      ]
     },
     "execution_count": 25,
     "metadata": {},
     "output_type": "execute_result"
    }
   ],
   "source": [
    "eosapi.get_balance('test11111111')"
   ]
  }
 ],
 "metadata": {
  "kernelspec": {
   "display_name": "Python 3",
   "language": "python",
   "name": "python3"
  },
  "language_info": {
   "codemirror_mode": {
    "name": "ipython",
    "version": 3
   },
   "file_extension": ".py",
   "mimetype": "text/x-python",
   "name": "python",
   "nbconvert_exporter": "python",
   "pygments_lexer": "ipython3",
   "version": "3.7.3"
  }
 },
 "nbformat": 4,
 "nbformat_minor": 2
}
